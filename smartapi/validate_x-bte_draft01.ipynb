{
 "cells": [
  {
   "cell_type": "code",
   "execution_count": 2,
   "metadata": {},
   "outputs": [],
   "source": [
    "import jsonschema\n",
    "from jsonschema import validate\n",
    "import yaml\n",
    "import datetime\n",
    "import json\n",
    "from controller.smartapi import SmartAPI\n",
    "\n",
    "from collections import Counter"
   ]
  },
  {
   "cell_type": "markdown",
   "metadata": {},
   "source": [
    "### Load and setup our validation schemas to validate the documents against"
   ]
  },
  {
   "cell_type": "code",
   "execution_count": 3,
   "metadata": {},
   "outputs": [],
   "source": [
    "schema_openapi = \"/Users/nacosta/Documents/smartAPI/openapi_full.yml\"\n",
    "# Load the schema using YAML loader\n",
    "with open(schema_openapi, 'r') as schema_file:\n",
    "    schema_oapi = yaml.safe_load(schema_file)\n"
   ]
  },
  {
   "cell_type": "code",
   "execution_count": 10,
   "metadata": {},
   "outputs": [],
   "source": [
    "schema_bte = \"/Users/nacosta/Documents/smartAPI/WORKING_BRANCH/add-validation/smartAPI/src/x-bte_schema.json\"\n",
    "# Load the schema using YAML loader\n",
    "with open(schema_bte, 'r') as schema_file:\n",
    "    schema_bte = yaml.safe_load(schema_file)\n"
   ]
  },
  {
   "cell_type": "markdown",
   "metadata": {},
   "source": [
    "### Identify and gather `x-bte` documents to validate\n",
    "\n",
    "x-bte-response-mapping\n",
    "  \n",
    "x-bte-kgs-operations"
   ]
  },
  {
   "cell_type": "code",
   "execution_count": 12,
   "metadata": {},
   "outputs": [
    {
     "name": "stderr",
     "output_type": "stream",
     "text": [
      "/Library/Frameworks/Python.framework/Versions/3.10/lib/python3.10/site-packages/elasticsearch_dsl/_sync/search.py:77: ElasticsearchWarning: Elasticsearch built-in security features are not enabled. Without authentication, your cluster could be accessible to anyone. See https://www.elastic.co/guide/en/elasticsearch/reference/7.17/security-minimal-setup.html to enable security.\n",
      "  es.search(index=self._index, body=self.to_dict(), **self._params)\n",
      "/Library/Frameworks/Python.framework/Versions/3.10/lib/python3.10/site-packages/elasticsearch_dsl/_sync/document.py:106: ElasticsearchWarning: Elasticsearch built-in security features are not enabled. Without authentication, your cluster could be accessible to anyone. See https://www.elastic.co/guide/en/elasticsearch/reference/7.17/security-minimal-setup.html to enable security.\n",
      "  doc = es.get(index=cls._default_index(index), id=id, **kwargs)\n"
     ]
    },
    {
     "name": "stdout",
     "output_type": "stream",
     "text": [
      "Raw data preview: b'openapi: 3.0.1\\ninfo:\\n  contact:\\n    email: edeutsch@systemsbiology.org\\n  description: TRAPI 1.4 endp'\n",
      "Decoded data preview: openapi: 3.0.1\n",
      "info:\n",
      "  contact:\n",
      "    email: edeutsch@systemsbiology.org\n",
      "  description: TRAPI 1.4 endpoint for the NCATS Biomedical Translator Reasoner called\n",
      "    ARAX\n",
      "  license:\n",
      "    name: Apache 2.0\n",
      "    url: http://www.apache.org/licenses/LICENSE-2.0.html\n",
      "  termsOfService: https://github.com/RTXteam/RTX/blob/master/LICENSE\n",
      "  title: ARAX Translator Reasoner - TRAPI 1.4.0\n",
      "  version: 1.3.1\n",
      "  x-translator:\n",
      "    component: ARA\n",
      "    team:\n",
      "    - Expander Agent\n",
      "    infores: infores:arax\n",
      "    biolink-version\n",
      "Data dictionary preview: dict_keys(['openapi', 'info', 'externalDocs', 'servers', 'tags', 'paths', 'components'])\n",
      "Validation successful!\n"
     ]
    }
   ],
   "source": [
    "for smartapi in SmartAPI.get_all(1):\n",
    "    print(\"Raw data preview:\", smartapi.raw[:100])  # Preview of the raw byte data\n",
    "\n",
    "    try:\n",
    "        # Decode the raw data from bytes to a string\n",
    "        data_doc = smartapi.raw.decode('utf-8')\n",
    "        print(\"Decoded data preview:\", data_doc[:500])  # Preview of the decoded data\n",
    "\n",
    "        # Load the YAML formatted string into a Python dictionary\n",
    "        data_dict = yaml.safe_load(data_doc)\n",
    "        print(\"Data dictionary preview:\", data_dict.keys()) \n",
    "        # print(data_dict['components']['responses'])\n",
    "\n",
    "\n",
    "        # Now validate the dictionary against the schema\n",
    "        jsonschema.validate(instance=data_dict, schema=schema_bte)\n",
    "        print(\"Validation successful!\")\n",
    "        break  # Validate only one item for testing purposes\n",
    "    except yaml.YAMLError as ye:\n",
    "        print(\"YAML parsing error:\", ye)\n",
    "    except jsonschema.exceptions.ValidationError as ve:\n",
    "        print(\"Validation error:\", ve)\n",
    "    except jsonschema.exceptions.SchemaError as se:\n",
    "        print(\"Schema error:\", se)\n",
    "    except Exception as e:\n",
    "        print(\"An unexpected error occurred:\", e)\n"
   ]
  },
  {
   "cell_type": "markdown",
   "metadata": {},
   "source": [
    "---"
   ]
  },
  {
   "cell_type": "code",
   "execution_count": 1,
   "metadata": {},
   "outputs": [
    {
     "name": "stdout",
     "output_type": "stream",
     "text": [
      "The document is valid.\n"
     ]
    }
   ],
   "source": [
    "import json\n",
    "import yaml\n",
    "from jsonschema import validate, Draft7Validator\n",
    "from jsonschema.exceptions import ValidationError\n",
    "\n",
    "\n",
    "schema_bte = \"/Users/nacosta/Documents/smartAPI/WORKING_BRANCH/add-validation/smartAPI/src/x-bte_schema.yml\"\n",
    "test_doc = \"/Users/nacosta/Documents/smartAPI/WORKING_BRANCH/add-validation/smartAPI/src/x-bte_test_doc.json\"\n",
    "\n",
    "# Load the schema\n",
    "with open(schema_bte, 'r') as file:\n",
    "    schema = yaml.safe_load(file)\n",
    "\n",
    "# Load the JSON document\n",
    "with open(test_doc, 'r') as file:\n",
    "    document = json.load(file)\n",
    "\n",
    "# Validate the document\n",
    "try:\n",
    "    validate(instance=document, schema=schema)\n",
    "    print(\"The document is valid.\")\n",
    "except ValidationError as e:\n",
    "    print(\"The document is not valid. See below for more details.\")\n",
    "    print(str(e))"
   ]
  },
  {
   "cell_type": "code",
   "execution_count": 4,
   "metadata": {},
   "outputs": [
    {
     "name": "stdout",
     "output_type": "stream",
     "text": [
      "The document is not valid. See below for more details.\n",
      "'source.edge_sources' is not of type 'object'\n",
      "\n",
      "Failed validating 'type' in schema['properties']['components']['properties']['x-bte-response-mapping']['patternProperties']['^[A-Za-z0-9_.-]+$']['patternProperties']['^[A-Za-z0-9_.-]+$']:\n",
      "    {'properties': {'UMLS': {'type': 'string'},\n",
      "                    'edge-attributes': {'type': 'string'},\n",
      "                    'trapi_sources': {'type': 'string'}},\n",
      "     'type': 'object'}\n",
      "\n",
      "On instance['components']['x-bte-response-mapping']['treatment']['trapi_sources']:\n",
      "    'source.edge_sources'\n"
     ]
    }
   ],
   "source": [
    "import json\n",
    "import yaml\n",
    "from jsonschema import validate, Draft7Validator\n",
    "from jsonschema.exceptions import ValidationError\n",
    "\n",
    "\n",
    "schema_bte = \"/Users/nacosta/Documents/smartAPI/WORKING_BRANCH/add-validation/smartAPI/src/x-bte_schema.yml\"\n",
    "test_doc = \"/Users/nacosta/Documents/smartAPI/WORKING_BRANCH/add-validation/smartAPI/src/x-bte_test_doc.json\"\n",
    "\n",
    "# Load the schema\n",
    "with open(schema_bte, 'r') as file:\n",
    "    schema = yaml.safe_load(file)\n",
    "\n",
    "# Load the JSON document\n",
    "with open(test_doc, 'r') as file:\n",
    "    document = json.load(file)\n",
    "\n",
    "# Validate the document\n",
    "try:\n",
    "    validate(instance=document, schema=schema)\n",
    "    print(\"The document is valid.\")\n",
    "except ValidationError as e:\n",
    "    print(\"The document is not valid. See below for more details.\")\n",
    "    print(str(e))"
   ]
  },
  {
   "cell_type": "code",
   "execution_count": 11,
   "metadata": {},
   "outputs": [
    {
     "name": "stdout",
     "output_type": "stream",
     "text": [
      "The document is valid.\n"
     ]
    }
   ],
   "source": [
    "import json\n",
    "import yaml\n",
    "from jsonschema import validate, Draft7Validator\n",
    "from jsonschema.exceptions import ValidationError\n",
    "\n",
    "\n",
    "schema_bte = \"/Users/nacosta/Documents/smartAPI/WORKING_BRANCH/add-validation/smartAPI/src/x-bte_schema.json\"\n",
    "test_doc = \"/Users/nacosta/Documents/smartAPI/WORKING_BRANCH/add-validation/smartAPI/src/x-bte_test_doc.json\"\n",
    "\n",
    "# Load the schema\n",
    "with open(schema_bte, 'r') as file:\n",
    "    schema = json.load(file)\n",
    "\n",
    "# Load the JSON document\n",
    "with open(test_doc, 'r') as file:\n",
    "    document = json.load(file)\n",
    "\n",
    "# Validate the document\n",
    "try:\n",
    "    validate(instance=document, schema=schema)\n",
    "    print(\"The document is valid.\")\n",
    "except ValidationError as e:\n",
    "    print(\"The document is not valid. See below for more details.\")\n",
    "    print(str(e))"
   ]
  },
  {
   "cell_type": "code",
   "execution_count": 2,
   "metadata": {},
   "outputs": [],
   "source": [
    "validator = Draft7Validator(schema)\n",
    "errors = sorted(validator.iter_errors(document), key=lambda e: e.path)\n",
    "for error in errors:\n",
    "    print(f\"Error message: {error.message}\")\n",
    "    print(f\"Schema path: {' -> '.join(map(str, error.schema_path))}\")"
   ]
  },
  {
   "cell_type": "markdown",
   "metadata": {},
   "source": [
    "Build Validation Report"
   ]
  },
  {
   "cell_type": "code",
   "execution_count": 21,
   "metadata": {},
   "outputs": [],
   "source": [
    "schema_bte = \"/Users/nacosta/Documents/smartAPI/WORKING_BRANCH/add-validation/smartAPI/src/x-bte_schema.json\"\n",
    "query_data = {\n",
    "    \"type\": \"multi_match\",\n",
    "    \"body\": {\n",
    "        \"query\": \"x-bte Biothings trapi\",\n",
    "        \"fields\": [\"_all\"],\n",
    "        \"type\": \"best_fields\"\n",
    "    }\n",
    "}\n",
    "for smartapi in SmartAPI.get_all(query_data=query_data):\n",
    "    # print(\"Raw data preview:\", smartapi.raw[:100])  # Preview of the raw byte data\n",
    "    try:\n",
    "        # Decode the raw data from bytes to a string\n",
    "        data_doc = smartapi.raw.decode('utf-8')\n",
    "        # print(\"Decoded data preview:\", data_doc[:500])  # Preview of the decoded data\n",
    "        # Load the YAML formatted string into a Python dictionary\n",
    "        # Load the schema\n",
    "        with open(schema_bte, 'r') as file:\n",
    "            schema = json.load(file)\n",
    "        data_dict = yaml.safe_load(data_doc)\n",
    "        # Now validate the dictionary against the schema\n",
    "        jsonschema.validate(instance=data_dict, schema=schema)\n",
    "        print(\"Validation successful!\")\n",
    "        # break  # Validate only one item for testing purposes\n",
    "    except yaml.YAMLError as ye:\n",
    "        print(\"YAML parsing error:\", ye)\n",
    "    except jsonschema.exceptions.ValidationError as ve:\n",
    "        print(\"Validation error:\", ve)\n",
    "    except jsonschema.exceptions.SchemaError as se:\n",
    "        print(\"Schema error:\", se)\n",
    "    except Exception as e:\n",
    "        print(\"An unexpected error occurred:\", e)\n"
   ]
  },
  {
   "cell_type": "markdown",
   "metadata": {},
   "source": [
    "---"
   ]
  }
 ],
 "metadata": {
  "kernelspec": {
   "display_name": "Python 3",
   "language": "python",
   "name": "python3"
  },
  "language_info": {
   "codemirror_mode": {
    "name": "ipython",
    "version": 3
   },
   "file_extension": ".py",
   "mimetype": "text/x-python",
   "name": "python",
   "nbconvert_exporter": "python",
   "pygments_lexer": "ipython3",
   "version": "3.10.0"
  }
 },
 "nbformat": 4,
 "nbformat_minor": 2
}
