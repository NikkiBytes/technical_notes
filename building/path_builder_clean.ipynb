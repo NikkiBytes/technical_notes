{
 "cells": [
  {
   "cell_type": "code",
   "execution_count": 1,
   "source": [
    "import networkx as nx\n",
    "import warnings\n",
    "from itertools import islice\n",
    "# import tqdm\n",
    "# import matplotlib.pyplot as plt\n",
    "# import pygraphviz as pgv\n",
    "# from networkx.drawing.nx_agraph import graphviz_layout\n",
    "from elasticsearch import Elasticsearch\n",
    "from elasticsearch_dsl import connections\n",
    "\n",
    "warnings.filterwarnings('ignore')\n"
   ],
   "outputs": [],
   "metadata": {}
  },
  {
   "cell_type": "markdown",
   "source": [
    "---"
   ],
   "metadata": {}
  },
  {
   "cell_type": "markdown",
   "source": [
    "### `generate_netowrkx_graph()` \n",
    "\n",
    "`DiGraph`: holds directed edges. Self loops are allowed but multiple (parallel) edges are not.  \n",
    "`MultiDiGraph`: a directed graph class that can store multiedges.\n",
    "Multiedges are multiple edges between two nodes. Each edge can hold optional data or attributes.\n",
    "A MultiDiGraph holds directed edges. Self loops are allowed."
   ],
   "metadata": {}
  },
  {
   "cell_type": "markdown",
   "source": [
    "Methods -"
   ],
   "metadata": {}
  },
  {
   "cell_type": "code",
   "execution_count": 2,
   "source": [
    "def get_all_via_scan(index=None, size=10000, query_data=None, scroll='1m'):\n",
    "    from elasticsearch.helpers import scan\n",
    "    from elasticsearch_dsl import connections\n",
    "\n",
    "    es = connections.get_connection()\n",
    "\n",
    "    if not index:\n",
    "        index = \"smartapi_metakg_docs_consolidated\"\n",
    "\n",
    "    # Make the initial scan request\n",
    "    response = scan(es, query=query_data, index=index, size=size, scroll=scroll)\n",
    "\n",
    "    for hit in response:\n",
    "        yield hit\n",
    "\n",
    "\n",
    "def generate_networkx_graph(index, graph_type=\"simple_digraph\", edges=False):\n",
    "    # # Create a new directed graph\n",
    "    if graph_type == \"simple_digraph\":\n",
    "        G = nx.DiGraph()\n",
    "    elif graph_type == \"multi_digraph\":\n",
    "        G = nx.MultiDiGraph()\n",
    "\n",
    "    # Scroll through search results\n",
    "    for hit in get_all_via_scan(index):\n",
    "        # Extract subject, object, and predicate from hit\n",
    "        _subject = hit['_source']['subject']\n",
    "        _object = hit['_source']['object']\n",
    "        _predicate = hit['_source']['predicate']\n",
    "        \n",
    "        # Add edge to graph, with predicate as an attribute\n",
    "        if edges is True:\n",
    "            G.add_edge(_subject, _object, predicate=_predicate)\n",
    "        else:\n",
    "            G.add_edge(_subject, _object)\n",
    "\n",
    "    return G\n",
    "\n",
    "def graph_inspection(G):\n",
    "    # Get and print the number of nodes and edges\n",
    "    num_nodes = G.number_of_nodes()\n",
    "    num_edges = G.number_of_edges()\n",
    "    graph_type = type(G)\n",
    "    \n",
    "    print(f\"Graph type: {graph_type}\")\n",
    "    print(f\"Number of nodes: {num_nodes}\")\n",
    "    print(f\"Number of edges: {num_edges}\\n\")\n",
    "\n",
    "    # Define the slice indices\n",
    "    start_index = 55\n",
    "    end_index = 60\n",
    "\n",
    "    # Print a slice of nodes\n",
    "    print(\"Nodes:\")\n",
    "    for node in islice(G.nodes(), start_index, end_index):\n",
    "        print(node)\n",
    "\n",
    "    # Print a slice of edges and their attributes\n",
    "    print(\"\\nEdges:\")\n",
    "    edges = list(G.edges(data=True))\n",
    "    for source, target, edge_data in islice(edges, start_index, end_index):\n",
    "        predicate = edge_data.get(\"predicate\", \"No predicate\")\n",
    "        print(f\"Edge: {source} -> {target}, Predicate={predicate}\")"
   ],
   "outputs": [],
   "metadata": {}
  },
  {
   "cell_type": "markdown",
   "source": [
    "Initialize Index -"
   ],
   "metadata": {}
  },
  {
   "cell_type": "code",
   "execution_count": 3,
   "source": [
    "es = Elasticsearch()\n",
    "index = \"smartapi_metakg_docs_consolidated\"\n",
    "connections.create_connection(hosts=['localhost'])\n"
   ],
   "outputs": [
    {
     "output_type": "execute_result",
     "data": {
      "text/plain": [
       "<Elasticsearch([{'host': 'localhost'}])>"
      ]
     },
     "metadata": {},
     "execution_count": 3
    }
   ],
   "metadata": {}
  },
  {
   "cell_type": "markdown",
   "source": [
    "Basic `digraph`, nodes only"
   ],
   "metadata": {}
  },
  {
   "cell_type": "code",
   "execution_count": 75,
   "source": [
    "G = generate_networkx_graph(index)\n",
    "graph_inspection(G)"
   ],
   "outputs": [
    {
     "output_type": "stream",
     "name": "stdout",
     "text": [
      "Graph type: <class 'networkx.classes.digraph.DiGraph'>\n",
      "Number of nodes: 113\n",
      "Number of edges: 6317\n",
      "\n",
      "Nodes:\n",
      "PathologicalProcess\n",
      "ActivityAndBehavior\n",
      "InformationContentEntity\n",
      "DrugExposure\n",
      "ChemicalExposure\n",
      "\n",
      "Edges:\n",
      "Edge: ChemicalEntity -> Procedure, Predicate=No predicate\n",
      "Edge: ChemicalEntity -> PhysiologicalProcess, Predicate=No predicate\n",
      "Edge: ChemicalEntity -> InformationContentEntity, Predicate=No predicate\n",
      "Edge: ChemicalEntity -> Phenomenon, Predicate=No predicate\n",
      "Edge: ChemicalEntity -> PopulationOfIndividualOrganisms, Predicate=No predicate\n"
     ]
    }
   ],
   "metadata": {}
  },
  {
   "cell_type": "markdown",
   "source": [
    "Basic `digraph`, with edges"
   ],
   "metadata": {}
  },
  {
   "cell_type": "code",
   "execution_count": 76,
   "source": [
    "G_edges_ = generate_networkx_graph(index, \"simple_digraph\", True)\n",
    "graph_inspection(G_edges_)"
   ],
   "outputs": [
    {
     "output_type": "stream",
     "name": "stdout",
     "text": [
      "Graph type: <class 'networkx.classes.digraph.DiGraph'>\n",
      "Number of nodes: 113\n",
      "Number of edges: 6317\n",
      "\n",
      "Nodes:\n",
      "PathologicalProcess\n",
      "ActivityAndBehavior\n",
      "InformationContentEntity\n",
      "DrugExposure\n",
      "ChemicalExposure\n",
      "\n",
      "Edges:\n",
      "Edge: ChemicalEntity -> Procedure, Predicate=same_as\n",
      "Edge: ChemicalEntity -> PhysiologicalProcess, Predicate=produces\n",
      "Edge: ChemicalEntity -> InformationContentEntity, Predicate=close_match\n",
      "Edge: ChemicalEntity -> Phenomenon, Predicate=produces\n",
      "Edge: ChemicalEntity -> PopulationOfIndividualOrganisms, Predicate=associated_with\n"
     ]
    }
   ],
   "metadata": {}
  },
  {
   "cell_type": "markdown",
   "source": [
    "`multi-digraph`, with edges"
   ],
   "metadata": {}
  },
  {
   "cell_type": "code",
   "execution_count": 77,
   "source": [
    "G_edges = generate_networkx_graph(index, \"multi_digraph\", True)\n",
    "graph_inspection(G_edges)"
   ],
   "outputs": [
    {
     "output_type": "stream",
     "name": "stdout",
     "text": [
      "Graph type: <class 'networkx.classes.multidigraph.MultiDiGraph'>\n",
      "Number of nodes: 113\n",
      "Number of edges: 167827\n",
      "\n",
      "Nodes:\n",
      "PathologicalProcess\n",
      "ActivityAndBehavior\n",
      "InformationContentEntity\n",
      "DrugExposure\n",
      "ChemicalExposure\n",
      "\n",
      "Edges:\n",
      "Edge: ChemicalEntity -> ThingWithTaxon, Predicate=actively_involved_in\n",
      "Edge: ChemicalEntity -> ThingWithTaxon, Predicate=actively_involves\n",
      "Edge: ChemicalEntity -> ThingWithTaxon, Predicate=acts_upstream_of_negative_effect\n",
      "Edge: ChemicalEntity -> ThingWithTaxon, Predicate=acts_upstream_of_or_within_negative_effect\n",
      "Edge: ChemicalEntity -> ThingWithTaxon, Predicate=acts_upstream_of_or_within_positive_effect\n"
     ]
    }
   ],
   "metadata": {}
  },
  {
   "cell_type": "markdown",
   "source": [
    "---"
   ],
   "metadata": {}
  },
  {
   "cell_type": "markdown",
   "source": [
    "### `all_simple_paths(G, source, target, cutoff=None)`  \n",
    "Generate all simple paths in the graph G from source to target. A simple path is a path with no repeated nodes.  \n",
    "  \n",
    "    \n",
    "#### `has_path(G, source, target)`\n",
    "Returns True if G has a path from source to target."
   ],
   "metadata": {}
  },
  {
   "cell_type": "code",
   "execution_count": 73,
   "source": [
    "# Define the function to find all simple paths and check if a path exsists\n",
    "def return_all_simple_paths(G, _source, _target, _cutoff=2):\n",
    "    # check for existence b/w paths -- recommended to use for large graphs\n",
    "    if nx.has_path(G, _source, _target):\n",
    "        return list(nx.all_simple_paths(G, source=_source, target=_target, cutoff=_cutoff))\n",
    "    else:\n",
    "        return []\n",
    "\n",
    "def display_pathway_results(path_list, start_index, end_index, edges=False):\n",
    "    # Iterate through a portion of the edges and view their attributes\n",
    "    portion_of_paths = islice(path_list, start_index, end_index)\n",
    "    \n",
    "    # Iterate through the edges and view their attributes\n",
    "    print(f\"[INFO] Pathways for source:{_source} & target:{_target} with cutoff:{_cutoff}\")\n",
    "    print(f\"[INFO] Total pathways extracted - {len(path_list)}\\n\")\n",
    "\n",
    "    for path in portion_of_paths:\n",
    "        print(f\"Path:\", \" -> \".join(path), \"\\n\")\n",
    "\n",
    "        if edges:\n",
    "            # Iterate through the edges in the path\n",
    "            for i in range(len(path) - 1):\n",
    "                source_node = path[i]\n",
    "                target_node = path[i + 1]\n",
    "                \n",
    "                # Get edge attributes for the edge between source and target nodes\n",
    "                edge_data = G_edges.get_edge_data(source_node, target_node)\n",
    "                # if edge_data:\n",
    "                #     for edge_key, edge_info in edge_data.items():\n",
    "                #         predicate = edge_info.get(\"predicate\", \"No predicate\")\n",
    "                #         print(f\"Edge from {source_node} to {target_node} (Key: {edge_key}): Predicate={predicate}\")\n",
    "                # else:\n",
    "                #     print(f\"No edge between {source_node} and {target_node}\")\n",
    "\n",
    "                # Extract 'predicate' values using a list comprehension\n",
    "                predicate_values = [data['predicate'] for data in edge_data.values()]\n",
    "                # Print the list of 'predicate' values\n",
    "                print(f'* {source_node} -> {target_node} * \\nEdges: {\", \".join(predicate_values)}')\n",
    "\n",
    "            print()\n",
    "            print(\"-\"* 80)"
   ],
   "outputs": [],
   "metadata": {}
  },
  {
   "cell_type": "markdown",
   "source": [
    "Set resusable testing variables"
   ],
   "metadata": {}
  },
  {
   "cell_type": "code",
   "execution_count": 58,
   "source": [
    " # End index (exclusive)\n",
    "_source='ChemicalEntity'\n",
    "_target='PlanetaryEntity'\n",
    "_cutoff=3\n",
    "\n",
    "# Define the range of edges you want to iterate through\n",
    "start_index = 0  # Start index\n",
    "end_index = 10 #int(G_edges.number_of_edges()/1000)  "
   ],
   "outputs": [],
   "metadata": {}
  },
  {
   "cell_type": "code",
   "execution_count": 59,
   "source": [
    "all_simple_paths_G = return_all_simple_paths(G, _source, _target, _cutoff)\n",
    "display_pathway_results(all_simple_paths_G, 0, 5)"
   ],
   "outputs": [
    {
     "output_type": "stream",
     "name": "stdout",
     "text": [
      "[INFO] Pathways for source:ChemicalEntity & target:PlanetaryEntity with cutoff:3\n",
      "[INFO] Total pathways extracted - 4504\n",
      "\n",
      "Path: ChemicalEntity -> PlanetaryEntity\n",
      "Path: ChemicalEntity -> ThingWithTaxon -> Protein -> PlanetaryEntity\n",
      "Path: ChemicalEntity -> ThingWithTaxon -> Cell -> PlanetaryEntity\n",
      "Path: ChemicalEntity -> ThingWithTaxon -> AnatomicalEntity -> PlanetaryEntity\n",
      "Path: ChemicalEntity -> ThingWithTaxon -> NamedThing -> PlanetaryEntity\n"
     ]
    }
   ],
   "metadata": {}
  },
  {
   "cell_type": "code",
   "execution_count": 60,
   "source": [
    "all_simple_paths_G_edges = return_all_simple_paths(G_edges, _source, _target)\n",
    "display_pathway_results(all_simple_paths_G_edges, 0, 5)"
   ],
   "outputs": [
    {
     "output_type": "stream",
     "name": "stdout",
     "text": [
      "[INFO] Pathways for source:ChemicalEntity & target:PlanetaryEntity with cutoff:3\n",
      "[INFO] Total pathways extracted - 132659\n",
      "\n",
      "Path: ChemicalEntity -> PlanetaryEntity\n",
      "Path: ChemicalEntity -> PlanetaryEntity\n",
      "Path: ChemicalEntity -> PlanetaryEntity\n",
      "Path: ChemicalEntity -> PlanetaryEntity\n",
      "Path: ChemicalEntity -> PlanetaryEntity\n"
     ]
    }
   ],
   "metadata": {}
  },
  {
   "cell_type": "code",
   "execution_count": 74,
   "source": [
    "all_simple_paths_G_edges_ = return_all_simple_paths(G_edges_, _source, _target)\n",
    "display_pathway_results(all_simple_paths_G_edges_, 0, 5, edges=True)"
   ],
   "outputs": [
    {
     "output_type": "stream",
     "name": "stdout",
     "text": [
      "[INFO] Pathways for source:ChemicalEntity & target:PlanetaryEntity with cutoff:3\n",
      "[INFO] Total pathways extracted - 61\n",
      "\n",
      "Path: ChemicalEntity -> PlanetaryEntity \n",
      "\n",
      "* ChemicalEntity -> PlanetaryEntity * \n",
      "Edges: negatively_regulates, participates_in, positively_regulates, actively_involved_in, actively_involves, acts_upstream_of_negative_effect, acts_upstream_of_or_within_negative_effect, acts_upstream_of_or_within, acts_upstream_of_or_within_positive_effect, acts_upstream_of, acts_upstream_of_positive_effect, affects, capable_of, enables, regulates, related_to, process_negatively_regulates_process, has_active_ingredient, primarily_composed_of, temporally_related_to, associated_with, process_regulates_process, similar_to, catalyzes, overlaps, affects_response_to, process_positively_regulates_process, composed_primarily_of, has_upstream_actor, exacerbates, increases_response_to, disrupts, is_output_of, affected_by, treats, is_substrate_of, part_of, has_capability, preceded_by, has_participant, is_input_of, decreases_response_to, has_part, precedes, interacts_with, ameliorates\n",
      "\n",
      "--------------------------------------------------------------------------------\n",
      "Path: ChemicalEntity -> ThingWithTaxon -> PlanetaryEntity \n",
      "\n",
      "* ChemicalEntity -> ThingWithTaxon * \n",
      "Edges: negatively_regulates, occurs_in, overlaps, participates_in, part_of, physically_interacts_with, positively_regulates, subclass_of, active_in, actively_involved_in, actively_involves, acts_upstream_of_negative_effect, acts_upstream_of_or_within_negative_effect, acts_upstream_of_or_within_positive_effect, acts_upstream_of_or_within, acts_upstream_of_positive_effect, acts_upstream_of, affects_activity_of, affects, capable_of, caused_by, coexists_with, enabled_by, enables, entity_negatively_regulates_entity, entity_positively_regulates_entity, entity_regulates_entity, has_output, has_participant, has_part, interacts_with, located_in, molecularly_interacts_with, related_to, preceded_by, precedes, regulates, temporally_related_to, disrupts, exacerbates, increases_response_to, affected_by, treats, causes, is_substrate_of, has_capability, contributes_to, has_input, is_input_of, decreases_response_to, associated_with, has_substrate, ameliorates, genetically_interacts_with, process_negatively_regulates_process, has_active_ingredient, has_catalyst, primarily_composed_of, expressed_in, process_regulates_process, similar_to, catalyzes, is_output_of, affects_response_to, process_positively_regulates_process, composed_primarily_of, has_upstream_actor\n",
      "* ThingWithTaxon -> PlanetaryEntity * \n",
      "Edges: participates_in, positively_regulates, regulates, related_to, actively_involved_in, actively_involves, acts_upstream_of_negative_effect, acts_upstream_of_or_within_negative_effect, acts_upstream_of_or_within, acts_upstream_of_or_within_positive_effect, acts_upstream_of, acts_upstream_of_positive_effect, affects, capable_of, enables, negatively_regulates, affected_by, interacts_with, ameliorates, is_substrate_of, part_of, has_capability, has_participant, decreases_response_to, associated_with, has_part, catalyzes, precedes, overlaps, process_positively_regulates_process, has_upstream_actor, process_negatively_regulates_process, exacerbates, has_active_ingredient, increases_response_to, primarily_composed_of, temporally_related_to, process_regulates_process, disrupts, similar_to, is_output_of, affects_response_to, treats, composed_primarily_of, preceded_by, is_input_of\n",
      "\n",
      "--------------------------------------------------------------------------------\n",
      "Path: ChemicalEntity -> AnatomicalEntity -> PlanetaryEntity \n",
      "\n",
      "* ChemicalEntity -> AnatomicalEntity * \n",
      "Edges: occurs_in, overlaps, participates_in, part_of, physically_interacts_with, positively_regulates, preceded_by, active_in, actively_involved_in, actively_involves, acts_upstream_of, acts_upstream_of_negative_effect, acts_upstream_of_or_within, acts_upstream_of_or_within_negative_effect, acts_upstream_of_or_within_positive_effect, acts_upstream_of_positive_effect, affects_activity_of, affects, capable_of, caused_by, coexists_with, enabled_by, enables, entity_negatively_regulates_entity, entity_positively_regulates_entity, entity_regulates_entity, has_output, has_part, has_participant, interacts_with, located_in, molecularly_interacts_with, negatively_regulates, related_to, precedes, regulates, temporally_related_to, assesses, treats, occurs_together_in_literature_with, produced_by, primarily_composed_of, ameliorates, is_substrate_of, has_capability, has_catalyst, expressed_in, associated_with, similar_to, catalyzes, subclass_of, affects_response_to, process_positively_regulates_process, composed_primarily_of, genetically_interacts_with, has_upstream_actor, treated_by, process_negatively_regulates_process, exacerbates, has_active_ingredient, increases_response_to, process_regulates_process, disrupts, is_output_of, affected_by, is_ameliorated_by, causes, has_biomarker, contributes_to, has_input, superclass_of, is_input_of, decreases_response_to, correlated_with, has_substrate, binds, chemically_similar_to, directly_physically_interacts_with, gene_associated_with_condition, produces, biomarker_for, colocalizes_with, predisposes, prevents, close_match, develops_from, contraindicated_for, diagnoses, derives_from, disease_has_location\n",
      "* AnatomicalEntity -> PlanetaryEntity * \n",
      "Edges: actively_involved_in, actively_involves, acts_upstream_of_negative_effect, acts_upstream_of_or_within_negative_effect, acts_upstream_of_or_within, acts_upstream_of_or_within_positive_effect, acts_upstream_of, acts_upstream_of_positive_effect, affects, capable_of, enables, negatively_regulates, participates_in, positively_regulates, regulates, related_to, exacerbates, increases_response_to, disrupts, is_output_of, affected_by, treats, is_substrate_of, part_of, has_capability, preceded_by, has_participant, is_input_of, decreases_response_to, has_part, precedes, interacts_with, ameliorates, process_negatively_regulates_process, has_active_ingredient, primarily_composed_of, temporally_related_to, associated_with, process_regulates_process, similar_to, catalyzes, overlaps, affects_response_to, process_positively_regulates_process, composed_primarily_of, has_upstream_actor\n",
      "\n",
      "--------------------------------------------------------------------------------\n",
      "Path: ChemicalEntity -> BiologicalEntity -> PlanetaryEntity \n",
      "\n",
      "* ChemicalEntity -> BiologicalEntity * \n",
      "Edges: occurs_in, overlaps, participates_in, part_of, physically_interacts_with, positively_regulates, active_in, actively_involved_in, actively_involves, acts_upstream_of, acts_upstream_of_negative_effect, acts_upstream_of_or_within, acts_upstream_of_or_within_negative_effect, acts_upstream_of_or_within_positive_effect, acts_upstream_of_positive_effect, affects_activity_of, affects, capable_of, caused_by, coexists_with, contributes_to, enabled_by, enables, entity_negatively_regulates_entity, entity_positively_regulates_entity, entity_regulates_entity, has_input, has_output, has_part, has_participant, interacts_with, located_in, molecularly_interacts_with, negatively_regulates, preceded_by, precedes, process_negatively_regulates_process, process_positively_regulates_process, process_regulates_process, regulates, related_to, temporally_related_to, composed_primarily_of, disrupts, affected_by, has_substrate, ameliorates, treats, is_substrate_of, has_capability, has_catalyst, is_input_of, decreases_response_to, associated_with, catalyzes, genetically_interacts_with, has_upstream_actor, exacerbates, has_active_ingredient, increases_response_to, primarily_composed_of, expressed_in, similar_to, is_output_of, affects_response_to, causes, derives_from, in_taxon, binds, gene_product_of, chemically_similar_to, directly_physically_interacts_with, gene_associated_with_condition, has_phenotype, transcribed_from, produces, model_of, colocalizes_with, predisposes, prevents, manifestation_of, same_as, has_metabolite, close_match, translates_to, subclass_of, contraindicated_for, diagnoses\n",
      "* BiologicalEntity -> PlanetaryEntity * \n",
      "Edges: negatively_regulates, overlaps, participates_in, part_of, positively_regulates, preceded_by, precedes, process_negatively_regulates_process, process_positively_regulates_process, process_regulates_process, regulates, related_to, temporally_related_to, actively_involved_in, actively_involves, acts_upstream_of_negative_effect, acts_upstream_of_or_within_negative_effect, acts_upstream_of_or_within, acts_upstream_of_or_within_positive_effect, acts_upstream_of, acts_upstream_of_positive_effect, affects, capable_of, enables, has_part, has_upstream_actor, exacerbates, has_active_ingredient, increases_response_to, primarily_composed_of, similar_to, is_output_of, affects_response_to, treats, composed_primarily_of, disrupts, is_input_of, affected_by, interacts_with, ameliorates, is_substrate_of, has_capability, has_participant, decreases_response_to, associated_with, catalyzes\n",
      "\n",
      "--------------------------------------------------------------------------------\n",
      "Path: ChemicalEntity -> CellularComponent -> PlanetaryEntity \n",
      "\n",
      "* ChemicalEntity -> CellularComponent * \n",
      "Edges: occurs_in, overlaps, participates_in, part_of, physically_interacts_with, positively_regulates, active_in, actively_involved_in, actively_involves, acts_upstream_of, acts_upstream_of_negative_effect, acts_upstream_of_or_within, acts_upstream_of_or_within_negative_effect, acts_upstream_of_or_within_positive_effect, acts_upstream_of_positive_effect, affects_activity_of, affects, capable_of, coexists_with, enables, entity_negatively_regulates_entity, entity_positively_regulates_entity, entity_regulates_entity, has_part, interacts_with, located_in, molecularly_interacts_with, negatively_regulates, related_to, preceded_by, precedes, regulates, temporally_related_to, disrupts, occurs_together_in_literature_with, positively_correlated_with, treats, biomarker_for, ameliorates, contributes_to, produced_by, is_input_of, decreases_response_to, correlated_with, has_substrate, is_substrate_of, has_capability, caused_by, has_catalyst, expressed_in, associated_with, similar_to, catalyzes, affects_response_to, process_positively_regulates_process, composed_primarily_of, genetically_interacts_with, has_upstream_actor, process_negatively_regulates_process, exacerbates, has_active_ingredient, increases_response_to, primarily_composed_of, has_output, process_regulates_process, is_output_of, affected_by, causes, has_input, enabled_by, has_participant, close_match, subclass_of, contraindicated_for, diagnoses, derives_from, gene_associated_with_condition, colocalizes_with, produces, predisposes, prevents\n",
      "* CellularComponent -> PlanetaryEntity * \n",
      "Edges: actively_involved_in, actively_involves, acts_upstream_of_negative_effect, acts_upstream_of_or_within_negative_effect, acts_upstream_of_or_within, acts_upstream_of_or_within_positive_effect, acts_upstream_of, acts_upstream_of_positive_effect, affects, capable_of, enables, negatively_regulates, participates_in, positively_regulates, regulates, related_to, preceded_by, has_participant, is_input_of, decreases_response_to, has_part, interacts_with, ameliorates, is_substrate_of, part_of, has_capability, associated_with, catalyzes, precedes, overlaps, affects_response_to, process_positively_regulates_process, composed_primarily_of, has_upstream_actor, process_negatively_regulates_process, exacerbates, has_active_ingredient, increases_response_to, primarily_composed_of, temporally_related_to, process_regulates_process, disrupts, similar_to, is_output_of, affected_by, treats\n",
      "\n",
      "--------------------------------------------------------------------------------\n"
     ]
    }
   ],
   "metadata": {}
  },
  {
   "cell_type": "code",
   "execution_count": 39,
   "source": [
    "# for path in all_simple_paths_G_edges_:\n",
    "#     print(path)\n",
    "edge_data = G_edges.get_edge_data(_source, _target)\n",
    "print(edge_data)\n",
    "\n",
    "# Extract 'predicate' values using a list comprehension\n",
    "predicate_values = [data['predicate'] for data in edge_data.values()]\n",
    "print()\n",
    "# Print the list of 'predicate' values\n",
    "print(predicate_values)"
   ],
   "outputs": [
    {
     "output_type": "stream",
     "name": "stdout",
     "text": [
      "{0: {'predicate': 'negatively_regulates'}, 1: {'predicate': 'participates_in'}, 2: {'predicate': 'positively_regulates'}, 3: {'predicate': 'actively_involved_in'}, 4: {'predicate': 'actively_involves'}, 5: {'predicate': 'acts_upstream_of_negative_effect'}, 6: {'predicate': 'acts_upstream_of_or_within_negative_effect'}, 7: {'predicate': 'acts_upstream_of_or_within'}, 8: {'predicate': 'acts_upstream_of_or_within_positive_effect'}, 9: {'predicate': 'acts_upstream_of'}, 10: {'predicate': 'acts_upstream_of_positive_effect'}, 11: {'predicate': 'affects'}, 12: {'predicate': 'capable_of'}, 13: {'predicate': 'enables'}, 14: {'predicate': 'regulates'}, 15: {'predicate': 'related_to'}, 16: {'predicate': 'process_negatively_regulates_process'}, 17: {'predicate': 'has_active_ingredient'}, 18: {'predicate': 'primarily_composed_of'}, 19: {'predicate': 'temporally_related_to'}, 20: {'predicate': 'associated_with'}, 21: {'predicate': 'process_regulates_process'}, 22: {'predicate': 'similar_to'}, 23: {'predicate': 'catalyzes'}, 24: {'predicate': 'overlaps'}, 25: {'predicate': 'affects_response_to'}, 26: {'predicate': 'process_positively_regulates_process'}, 27: {'predicate': 'composed_primarily_of'}, 28: {'predicate': 'has_upstream_actor'}, 29: {'predicate': 'exacerbates'}, 30: {'predicate': 'increases_response_to'}, 31: {'predicate': 'disrupts'}, 32: {'predicate': 'is_output_of'}, 33: {'predicate': 'affected_by'}, 34: {'predicate': 'treats'}, 35: {'predicate': 'is_substrate_of'}, 36: {'predicate': 'part_of'}, 37: {'predicate': 'has_capability'}, 38: {'predicate': 'preceded_by'}, 39: {'predicate': 'has_participant'}, 40: {'predicate': 'is_input_of'}, 41: {'predicate': 'decreases_response_to'}, 42: {'predicate': 'has_part'}, 43: {'predicate': 'precedes'}, 44: {'predicate': 'interacts_with'}, 45: {'predicate': 'ameliorates'}}\n",
      "\n",
      "['negatively_regulates', 'participates_in', 'positively_regulates', 'actively_involved_in', 'actively_involves', 'acts_upstream_of_negative_effect', 'acts_upstream_of_or_within_negative_effect', 'acts_upstream_of_or_within', 'acts_upstream_of_or_within_positive_effect', 'acts_upstream_of', 'acts_upstream_of_positive_effect', 'affects', 'capable_of', 'enables', 'regulates', 'related_to', 'process_negatively_regulates_process', 'has_active_ingredient', 'primarily_composed_of', 'temporally_related_to', 'associated_with', 'process_regulates_process', 'similar_to', 'catalyzes', 'overlaps', 'affects_response_to', 'process_positively_regulates_process', 'composed_primarily_of', 'has_upstream_actor', 'exacerbates', 'increases_response_to', 'disrupts', 'is_output_of', 'affected_by', 'treats', 'is_substrate_of', 'part_of', 'has_capability', 'preceded_by', 'has_participant', 'is_input_of', 'decreases_response_to', 'has_part', 'precedes', 'interacts_with', 'ameliorates']\n"
     ]
    }
   ],
   "metadata": {}
  },
  {
   "cell_type": "markdown",
   "source": [
    "---"
   ],
   "metadata": {}
  }
 ],
 "metadata": {
  "orig_nbformat": 4,
  "language_info": {
   "name": "python",
   "version": "3.10.0",
   "mimetype": "text/x-python",
   "codemirror_mode": {
    "name": "ipython",
    "version": 3
   },
   "pygments_lexer": "ipython3",
   "nbconvert_exporter": "python",
   "file_extension": ".py"
  },
  "kernelspec": {
   "name": "python3",
   "display_name": "Python 3.10.0 64-bit"
  },
  "interpreter": {
   "hash": "aee8b7b246df8f9039afb4144a1f6fd8d2ca17a180786b69acc140d282b71a49"
  }
 },
 "nbformat": 4,
 "nbformat_minor": 2
}