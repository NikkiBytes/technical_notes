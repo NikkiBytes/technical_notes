{
 "cells": [
  {
   "cell_type": "markdown",
   "metadata": {},
   "source": [
    "# MetaKG `x-bte` Parser Inspection "
   ]
  },
  {
   "cell_type": "code",
   "execution_count": 43,
   "metadata": {},
   "outputs": [],
   "source": [
    "import warnings\n",
    "import yaml\n",
    "import json\n",
    "import pprint\n",
    " \n",
    "# Import the databases\n",
    "from controller.smartapi import SmartAPI\n",
    "from controller.metakg import MetaKG\n",
    "from model import ConsolidatedMetaKGDoc\n",
    "from utils.metakg import parser\n",
    "\n",
    "warnings.filterwarnings('ignore')"
   ]
  },
  {
   "cell_type": "markdown",
   "metadata": {},
   "source": [
    "### Setup Parameters"
   ]
  },
  {
   "cell_type": "code",
   "execution_count": 44,
   "metadata": {},
   "outputs": [],
   "source": [
    "parser = parser.MetaKGParser()"
   ]
  },
  {
   "cell_type": "code",
   "execution_count": 45,
   "metadata": {},
   "outputs": [],
   "source": [
    "# # set index name for metakg traversal\n",
    "# index = ConsolidatedMetaKGDoc.Index.name"
   ]
  },
  {
   "cell_type": "code",
   "execution_count": 46,
   "metadata": {},
   "outputs": [],
   "source": [
    "def compare_keys(actual, expected, path=\"\"):\n",
    "    missing_keys = []\n",
    "    extra_keys = []\n",
    "\n",
    "    # Check for missing keys\n",
    "    for key, value in expected.items():\n",
    "        if key not in actual:\n",
    "            missing_keys.append(f\"{path}.{key}\" if path else key)\n",
    "        elif isinstance(value, dict) and isinstance(actual.get(key), dict):\n",
    "            # Special handling for 'operation_name_pattern' keys\n",
    "            if key == \"operation_name_pattern\":\n",
    "                for actual_key in actual.keys():\n",
    "                    nested_missing, nested_extra = compare_keys(actual[actual_key], value, f\"{path}.{actual_key}\" if path else actual_key)\n",
    "                    missing_keys.extend(nested_missing)\n",
    "                    extra_keys.extend(nested_extra)\n",
    "            else:\n",
    "                nested_missing, nested_extra = compare_keys(actual[key], value, f\"{path}.{key}\" if path else key)\n",
    "                missing_keys.extend(nested_missing)\n",
    "                extra_keys.extend(nested_extra)\n",
    "\n",
    "    # Check for extra keys\n",
    "    for key in actual.keys():\n",
    "        if key not in expected:\n",
    "            if \"operation_name_pattern\" in expected:\n",
    "                # If there's an 'operation_name_pattern', consider the key valid\n",
    "                continue\n",
    "            extra_keys.append(f\"{path}.{key}\" if path else key)\n",
    "\n",
    "    return missing_keys, extra_keys\n"
   ]
  },
  {
   "cell_type": "code",
   "execution_count": 47,
   "metadata": {},
   "outputs": [],
   "source": [
    "def flatten_actual_keys(d, parent_key=''):\n",
    "    \"\"\"\n",
    "    Recursively flattens the keys of a nested dictionary into a set of key paths.\n",
    "    Removes the 'api.' prefix from each key.\n",
    "    \"\"\"\n",
    "    items = set()\n",
    "    for k, v in d.items():\n",
    "        new_key = f\"{parent_key}.{k}\" if parent_key else k\n",
    "        if isinstance(v, dict):  # If the value is a dictionary\n",
    "            items.update(flatten_actual_keys(v, new_key))\n",
    "        else:\n",
    "            items.add(new_key)\n",
    "    \n",
    "    # Remove 'api.' from all keys\n",
    "    cleaned_items = {key.replace('api.', '') for key in items}\n",
    "    return cleaned_items\n",
    "\n",
    "\n",
    "def flatten_actual_keys(d, parent_key=''):\n",
    "    \"\"\"\n",
    "    Recursively flattens the keys of a nested dictionary into a set of key paths.\n",
    "    \"\"\"\n",
    "    items = set()\n",
    "    for k, v in d.items():\n",
    "        new_key = f\"{parent_key}.{k}\" if parent_key else k\n",
    "        if isinstance(v, dict):  # If the value is a dictionary\n",
    "            items.update(flatten_actual_keys(v, new_key))\n",
    "        else:\n",
    "            items.add(new_key)\n",
    "    return items\n"
   ]
  },
  {
   "cell_type": "code",
   "execution_count": 48,
   "metadata": {},
   "outputs": [],
   "source": [
    "expected_keys = {\n",
    "    \"components\": {\n",
    "        \"x-bte-kgs-operations\": {\n",
    "            \"operation_name_pattern\": {\n",
    "                \"supportBatch\": None,\n",
    "                \"useTemplating\": None,\n",
    "                \"inputs\": {\n",
    "                    \"id\": None,\n",
    "                    \"semantic\": None\n",
    "                },\n",
    "                \"requestBody\": {\n",
    "                    \"body\": None\n",
    "                },\n",
    "                \"requestBodyType\": None,\n",
    "                \"outputs\": {\n",
    "                    \"id\": None,\n",
    "                    \"semantic\": None\n",
    "                },\n",
    "                \"parameters\": {\n",
    "                    \"fields\": None,\n",
    "                    \"size\": None\n",
    "                },\n",
    "                \"predicate\": None,\n",
    "                \"source\": None,\n",
    "                \"qualifiers\": None,\n",
    "                \"knowledge_level\": None,\n",
    "                \"agent_type\": None,\n",
    "                \"testExamples\": {\n",
    "                    \"qInput\": None,\n",
    "                    \"oneOutput\": None\n",
    "                },\n",
    "                \"response_mapping\": None\n",
    "            }\n",
    "        },\n",
    "        \"x-bte-response-mapping\": {\n",
    "            \"source_url\": None,\n",
    "            \"edge-attributes\": None,\n",
    "            \"trapi_sources\": None,\n",
    "            \"ref_input\": None,\n",
    "            \"ref_output\": None,\n",
    "            \"input_name\": None,\n",
    "            \"output_name\": None\n",
    "        }\n",
    "    }\n",
    "}\n",
    "\n",
    "# # Flatten the expected_keys dictionary into a list of key names\n",
    "# expected_key_names = list(flatten_keys(expected_keys))\n",
    "# expected_key_names\n"
   ]
  },
  {
   "cell_type": "code",
   "execution_count": 49,
   "metadata": {},
   "outputs": [
    {
     "ename": "ConnectionError",
     "evalue": "Connection error caused by: ConnectionError(Connection error caused by: NewConnectionError(<urllib3.connection.HTTPConnection object at 0x105ea1e40>: Failed to establish a new connection: [Errno 61] Connection refused))",
     "output_type": "error",
     "traceback": [
      "\u001b[0;31m---------------------------------------------------------------------------\u001b[0m",
      "\u001b[0;31mConnectionError\u001b[0m                           Traceback (most recent call last)",
      "\u001b[1;32m/Users/nacosta/Documents/smartAPI/WORKING_BRANCH/metakg_parser/smartAPI/src/metakg_parser_inspection.ipynb Cell 9\u001b[0m line \u001b[0;36m1\n\u001b[0;32m----> <a href='vscode-notebook-cell:/Users/nacosta/Documents/smartAPI/WORKING_BRANCH/metakg_parser/smartAPI/src/metakg_parser_inspection.ipynb#X11sZmlsZQ%3D%3D?line=0'>1</a>\u001b[0m \u001b[39mfor\u001b[39;00m smartapi \u001b[39min\u001b[39;00m SmartAPI\u001b[39m.\u001b[39mget_all(\u001b[39m10\u001b[39m):\n\u001b[1;32m      <a href='vscode-notebook-cell:/Users/nacosta/Documents/smartAPI/WORKING_BRANCH/metakg_parser/smartAPI/src/metakg_parser_inspection.ipynb#X11sZmlsZQ%3D%3D?line=1'>2</a>\u001b[0m     \u001b[39m# get and load document\u001b[39;00m\n\u001b[1;32m      <a href='vscode-notebook-cell:/Users/nacosta/Documents/smartAPI/WORKING_BRANCH/metakg_parser/smartAPI/src/metakg_parser_inspection.ipynb#X11sZmlsZQ%3D%3D?line=2'>3</a>\u001b[0m     \u001b[39mprint\u001b[39m()\n\u001b[1;32m      <a href='vscode-notebook-cell:/Users/nacosta/Documents/smartAPI/WORKING_BRANCH/metakg_parser/smartAPI/src/metakg_parser_inspection.ipynb#X11sZmlsZQ%3D%3D?line=3'>4</a>\u001b[0m     ct\u001b[39m+\u001b[39m\u001b[39m=\u001b[39m\u001b[39m1\u001b[39m\n",
      "File \u001b[0;32m~/Documents/smartAPI/WORKING_BRANCH/metakg_parser/smartAPI/src/controller/base.py:204\u001b[0m, in \u001b[0;36mAbstractWebEntity.get_all\u001b[0;34m(cls, size, from_, query_data)\u001b[0m\n\u001b[1;32m    201\u001b[0m search \u001b[39m=\u001b[39m search\u001b[39m.\u001b[39msource(\u001b[39mFalse\u001b[39;00m)\n\u001b[1;32m    202\u001b[0m search \u001b[39m=\u001b[39m search[from_ : from_ \u001b[39m+\u001b[39m size]\n\u001b[0;32m--> 204\u001b[0m \u001b[39mfor\u001b[39;00m hit \u001b[39min\u001b[39;00m search:\n\u001b[1;32m    205\u001b[0m     \u001b[39mtry\u001b[39;00m:  \u001b[39m# unlikely but possible\u001b[39;00m\n\u001b[1;32m    206\u001b[0m         doc \u001b[39m=\u001b[39m \u001b[39mcls\u001b[39m\u001b[39m.\u001b[39mget(hit\u001b[39m.\u001b[39mmeta\u001b[39m.\u001b[39mid)\n",
      "File \u001b[0;32m/Library/Frameworks/Python.framework/Versions/3.10/lib/python3.10/site-packages/elasticsearch_dsl/_sync/search.py:40\u001b[0m, in \u001b[0;36mSearch.__iter__.<locals>.ResultsIterator.__next__\u001b[0;34m(self)\u001b[0m\n\u001b[1;32m     38\u001b[0m \u001b[39mdef\u001b[39;00m \u001b[39m__next__\u001b[39m(\u001b[39mself\u001b[39m):\n\u001b[1;32m     39\u001b[0m     \u001b[39mif\u001b[39;00m \u001b[39mself\u001b[39m\u001b[39m.\u001b[39miterator \u001b[39mis\u001b[39;00m \u001b[39mNone\u001b[39;00m:\n\u001b[0;32m---> 40\u001b[0m         \u001b[39mself\u001b[39m\u001b[39m.\u001b[39miterator \u001b[39m=\u001b[39m \u001b[39miter\u001b[39m(\u001b[39mself\u001b[39;49m\u001b[39m.\u001b[39;49msearch\u001b[39m.\u001b[39;49mexecute())\n\u001b[1;32m     41\u001b[0m     \u001b[39mtry\u001b[39;00m:\n\u001b[1;32m     42\u001b[0m         \u001b[39mreturn\u001b[39;00m \u001b[39mnext\u001b[39m(\u001b[39mself\u001b[39m\u001b[39m.\u001b[39miterator)\n",
      "File \u001b[0;32m/Library/Frameworks/Python.framework/Versions/3.10/lib/python3.10/site-packages/elasticsearch_dsl/_sync/search.py:77\u001b[0m, in \u001b[0;36mSearch.execute\u001b[0;34m(self, ignore_cache)\u001b[0m\n\u001b[1;32m     71\u001b[0m \u001b[39mif\u001b[39;00m ignore_cache \u001b[39mor\u001b[39;00m \u001b[39mnot\u001b[39;00m \u001b[39mhasattr\u001b[39m(\u001b[39mself\u001b[39m, \u001b[39m\"\u001b[39m\u001b[39m_response\u001b[39m\u001b[39m\"\u001b[39m):\n\u001b[1;32m     72\u001b[0m     es \u001b[39m=\u001b[39m get_connection(\u001b[39mself\u001b[39m\u001b[39m.\u001b[39m_using)\n\u001b[1;32m     74\u001b[0m     \u001b[39mself\u001b[39m\u001b[39m.\u001b[39m_response \u001b[39m=\u001b[39m \u001b[39mself\u001b[39m\u001b[39m.\u001b[39m_response_class(\n\u001b[1;32m     75\u001b[0m         \u001b[39mself\u001b[39m,\n\u001b[1;32m     76\u001b[0m         (\n\u001b[0;32m---> 77\u001b[0m             es\u001b[39m.\u001b[39;49msearch(index\u001b[39m=\u001b[39;49m\u001b[39mself\u001b[39;49m\u001b[39m.\u001b[39;49m_index, body\u001b[39m=\u001b[39;49m\u001b[39mself\u001b[39;49m\u001b[39m.\u001b[39;49mto_dict(), \u001b[39m*\u001b[39;49m\u001b[39m*\u001b[39;49m\u001b[39mself\u001b[39;49m\u001b[39m.\u001b[39;49m_params)\n\u001b[1;32m     78\u001b[0m         )\u001b[39m.\u001b[39mbody,\n\u001b[1;32m     79\u001b[0m     )\n\u001b[1;32m     80\u001b[0m \u001b[39mreturn\u001b[39;00m \u001b[39mself\u001b[39m\u001b[39m.\u001b[39m_response\n",
      "File \u001b[0;32m/Library/Frameworks/Python.framework/Versions/3.10/lib/python3.10/site-packages/elasticsearch/_sync/client/utils.py:446\u001b[0m, in \u001b[0;36m_rewrite_parameters.<locals>.wrapper.<locals>.wrapped\u001b[0;34m(*args, **kwargs)\u001b[0m\n\u001b[1;32m    443\u001b[0m         \u001b[39mexcept\u001b[39;00m \u001b[39mKeyError\u001b[39;00m:\n\u001b[1;32m    444\u001b[0m             \u001b[39mpass\u001b[39;00m\n\u001b[0;32m--> 446\u001b[0m \u001b[39mreturn\u001b[39;00m api(\u001b[39m*\u001b[39;49margs, \u001b[39m*\u001b[39;49m\u001b[39m*\u001b[39;49mkwargs)\n",
      "File \u001b[0;32m/Library/Frameworks/Python.framework/Versions/3.10/lib/python3.10/site-packages/elasticsearch/_sync/client/__init__.py:4112\u001b[0m, in \u001b[0;36mElasticsearch.search\u001b[0;34m(self, index, aggregations, aggs, allow_no_indices, allow_partial_search_results, analyze_wildcard, analyzer, batched_reduce_size, ccs_minimize_roundtrips, collapse, default_operator, df, docvalue_fields, error_trace, expand_wildcards, explain, ext, fields, filter_path, force_synthetic_source, from_, highlight, human, ignore_throttled, ignore_unavailable, indices_boost, knn, lenient, max_concurrent_shard_requests, min_compatible_shard_node, min_score, pit, post_filter, pre_filter_shard_size, preference, pretty, profile, q, query, rank, request_cache, rescore, rest_total_hits_as_int, routing, runtime_mappings, script_fields, scroll, search_after, search_type, seq_no_primary_term, size, slice, sort, source, source_excludes, source_includes, stats, stored_fields, suggest, suggest_field, suggest_mode, suggest_size, suggest_text, terminate_after, timeout, track_scores, track_total_hits, typed_keys, version, body)\u001b[0m\n\u001b[1;32m   4110\u001b[0m \u001b[39mif\u001b[39;00m __body \u001b[39mis\u001b[39;00m \u001b[39mnot\u001b[39;00m \u001b[39mNone\u001b[39;00m:\n\u001b[1;32m   4111\u001b[0m     __headers[\u001b[39m\"\u001b[39m\u001b[39mcontent-type\u001b[39m\u001b[39m\"\u001b[39m] \u001b[39m=\u001b[39m \u001b[39m\"\u001b[39m\u001b[39mapplication/json\u001b[39m\u001b[39m\"\u001b[39m\n\u001b[0;32m-> 4112\u001b[0m \u001b[39mreturn\u001b[39;00m \u001b[39mself\u001b[39;49m\u001b[39m.\u001b[39;49mperform_request(  \u001b[39m# type: ignore[return-value]\u001b[39;49;00m\n\u001b[1;32m   4113\u001b[0m     \u001b[39m\"\u001b[39;49m\u001b[39mPOST\u001b[39;49m\u001b[39m\"\u001b[39;49m,\n\u001b[1;32m   4114\u001b[0m     __path,\n\u001b[1;32m   4115\u001b[0m     params\u001b[39m=\u001b[39;49m__query,\n\u001b[1;32m   4116\u001b[0m     headers\u001b[39m=\u001b[39;49m__headers,\n\u001b[1;32m   4117\u001b[0m     body\u001b[39m=\u001b[39;49m__body,\n\u001b[1;32m   4118\u001b[0m     endpoint_id\u001b[39m=\u001b[39;49m\u001b[39m\"\u001b[39;49m\u001b[39msearch\u001b[39;49m\u001b[39m\"\u001b[39;49m,\n\u001b[1;32m   4119\u001b[0m     path_parts\u001b[39m=\u001b[39;49m__path_parts,\n\u001b[1;32m   4120\u001b[0m )\n",
      "File \u001b[0;32m/Library/Frameworks/Python.framework/Versions/3.10/lib/python3.10/site-packages/elasticsearch/_sync/client/_base.py:271\u001b[0m, in \u001b[0;36mBaseClient.perform_request\u001b[0;34m(self, method, path, params, headers, body, endpoint_id, path_parts)\u001b[0m\n\u001b[1;32m    255\u001b[0m \u001b[39mdef\u001b[39;00m \u001b[39mperform_request\u001b[39m(\n\u001b[1;32m    256\u001b[0m     \u001b[39mself\u001b[39m,\n\u001b[1;32m    257\u001b[0m     method: \u001b[39mstr\u001b[39m,\n\u001b[0;32m   (...)\u001b[0m\n\u001b[1;32m    264\u001b[0m     path_parts: Optional[Mapping[\u001b[39mstr\u001b[39m, Any]] \u001b[39m=\u001b[39m \u001b[39mNone\u001b[39;00m,\n\u001b[1;32m    265\u001b[0m ) \u001b[39m-\u001b[39m\u001b[39m>\u001b[39m ApiResponse[Any]:\n\u001b[1;32m    266\u001b[0m     \u001b[39mwith\u001b[39;00m \u001b[39mself\u001b[39m\u001b[39m.\u001b[39m_otel\u001b[39m.\u001b[39mspan(\n\u001b[1;32m    267\u001b[0m         method,\n\u001b[1;32m    268\u001b[0m         endpoint_id\u001b[39m=\u001b[39mendpoint_id,\n\u001b[1;32m    269\u001b[0m         path_parts\u001b[39m=\u001b[39mpath_parts \u001b[39mor\u001b[39;00m {},\n\u001b[1;32m    270\u001b[0m     ) \u001b[39mas\u001b[39;00m otel_span:\n\u001b[0;32m--> 271\u001b[0m         response \u001b[39m=\u001b[39m \u001b[39mself\u001b[39;49m\u001b[39m.\u001b[39;49m_perform_request(\n\u001b[1;32m    272\u001b[0m             method,\n\u001b[1;32m    273\u001b[0m             path,\n\u001b[1;32m    274\u001b[0m             params\u001b[39m=\u001b[39;49mparams,\n\u001b[1;32m    275\u001b[0m             headers\u001b[39m=\u001b[39;49mheaders,\n\u001b[1;32m    276\u001b[0m             body\u001b[39m=\u001b[39;49mbody,\n\u001b[1;32m    277\u001b[0m             otel_span\u001b[39m=\u001b[39;49motel_span,\n\u001b[1;32m    278\u001b[0m         )\n\u001b[1;32m    279\u001b[0m         otel_span\u001b[39m.\u001b[39mset_elastic_cloud_metadata(response\u001b[39m.\u001b[39mmeta\u001b[39m.\u001b[39mheaders)\n\u001b[1;32m    280\u001b[0m         \u001b[39mreturn\u001b[39;00m response\n",
      "File \u001b[0;32m/Library/Frameworks/Python.framework/Versions/3.10/lib/python3.10/site-packages/elasticsearch/_sync/client/_base.py:316\u001b[0m, in \u001b[0;36mBaseClient._perform_request\u001b[0;34m(self, method, path, params, headers, body, otel_span)\u001b[0m\n\u001b[1;32m    313\u001b[0m \u001b[39melse\u001b[39;00m:\n\u001b[1;32m    314\u001b[0m     target \u001b[39m=\u001b[39m path\n\u001b[0;32m--> 316\u001b[0m meta, resp_body \u001b[39m=\u001b[39m \u001b[39mself\u001b[39;49m\u001b[39m.\u001b[39;49mtransport\u001b[39m.\u001b[39;49mperform_request(\n\u001b[1;32m    317\u001b[0m     method,\n\u001b[1;32m    318\u001b[0m     target,\n\u001b[1;32m    319\u001b[0m     headers\u001b[39m=\u001b[39;49mrequest_headers,\n\u001b[1;32m    320\u001b[0m     body\u001b[39m=\u001b[39;49mbody,\n\u001b[1;32m    321\u001b[0m     request_timeout\u001b[39m=\u001b[39;49m\u001b[39mself\u001b[39;49m\u001b[39m.\u001b[39;49m_request_timeout,\n\u001b[1;32m    322\u001b[0m     max_retries\u001b[39m=\u001b[39;49m\u001b[39mself\u001b[39;49m\u001b[39m.\u001b[39;49m_max_retries,\n\u001b[1;32m    323\u001b[0m     retry_on_status\u001b[39m=\u001b[39;49m\u001b[39mself\u001b[39;49m\u001b[39m.\u001b[39;49m_retry_on_status,\n\u001b[1;32m    324\u001b[0m     retry_on_timeout\u001b[39m=\u001b[39;49m\u001b[39mself\u001b[39;49m\u001b[39m.\u001b[39;49m_retry_on_timeout,\n\u001b[1;32m    325\u001b[0m     client_meta\u001b[39m=\u001b[39;49m\u001b[39mself\u001b[39;49m\u001b[39m.\u001b[39;49m_client_meta,\n\u001b[1;32m    326\u001b[0m     otel_span\u001b[39m=\u001b[39;49motel_span,\n\u001b[1;32m    327\u001b[0m )\n\u001b[1;32m    329\u001b[0m \u001b[39m# HEAD with a 404 is returned as a normal response\u001b[39;00m\n\u001b[1;32m    330\u001b[0m \u001b[39m# since this is used as an 'exists' functionality.\u001b[39;00m\n\u001b[1;32m    331\u001b[0m \u001b[39mif\u001b[39;00m \u001b[39mnot\u001b[39;00m (method \u001b[39m==\u001b[39m \u001b[39m\"\u001b[39m\u001b[39mHEAD\u001b[39m\u001b[39m\"\u001b[39m \u001b[39mand\u001b[39;00m meta\u001b[39m.\u001b[39mstatus \u001b[39m==\u001b[39m \u001b[39m404\u001b[39m) \u001b[39mand\u001b[39;00m (\n\u001b[1;32m    332\u001b[0m     \u001b[39mnot\u001b[39;00m \u001b[39m200\u001b[39m \u001b[39m<\u001b[39m\u001b[39m=\u001b[39m meta\u001b[39m.\u001b[39mstatus \u001b[39m<\u001b[39m \u001b[39m299\u001b[39m\n\u001b[1;32m    333\u001b[0m     \u001b[39mand\u001b[39;00m (\n\u001b[0;32m   (...)\u001b[0m\n\u001b[1;32m    337\u001b[0m     )\n\u001b[1;32m    338\u001b[0m ):\n",
      "File \u001b[0;32m/Library/Frameworks/Python.framework/Versions/3.10/lib/python3.10/site-packages/elastic_transport/_transport.py:342\u001b[0m, in \u001b[0;36mTransport.perform_request\u001b[0;34m(self, method, target, body, headers, max_retries, retry_on_status, retry_on_timeout, request_timeout, client_meta, otel_span)\u001b[0m\n\u001b[1;32m    340\u001b[0m \u001b[39mtry\u001b[39;00m:\n\u001b[1;32m    341\u001b[0m     otel_span\u001b[39m.\u001b[39mset_node_metadata(node\u001b[39m.\u001b[39mhost, node\u001b[39m.\u001b[39mport, node\u001b[39m.\u001b[39mbase_url, target)\n\u001b[0;32m--> 342\u001b[0m     resp \u001b[39m=\u001b[39m node\u001b[39m.\u001b[39;49mperform_request(\n\u001b[1;32m    343\u001b[0m         method,\n\u001b[1;32m    344\u001b[0m         target,\n\u001b[1;32m    345\u001b[0m         body\u001b[39m=\u001b[39;49mrequest_body,\n\u001b[1;32m    346\u001b[0m         headers\u001b[39m=\u001b[39;49mrequest_headers,\n\u001b[1;32m    347\u001b[0m         request_timeout\u001b[39m=\u001b[39;49mrequest_timeout,\n\u001b[1;32m    348\u001b[0m     )\n\u001b[1;32m    349\u001b[0m     _logger\u001b[39m.\u001b[39minfo(\n\u001b[1;32m    350\u001b[0m         \u001b[39m\"\u001b[39m\u001b[39m%s\u001b[39;00m\u001b[39m \u001b[39m\u001b[39m%s\u001b[39;00m\u001b[39m%s\u001b[39;00m\u001b[39m [status:\u001b[39m\u001b[39m%s\u001b[39;00m\u001b[39m duration:\u001b[39m\u001b[39m%.3f\u001b[39;00m\u001b[39ms]\u001b[39m\u001b[39m\"\u001b[39m\n\u001b[1;32m    351\u001b[0m         \u001b[39m%\u001b[39m (\n\u001b[0;32m   (...)\u001b[0m\n\u001b[1;32m    357\u001b[0m         )\n\u001b[1;32m    358\u001b[0m     )\n\u001b[1;32m    360\u001b[0m     \u001b[39mif\u001b[39;00m method \u001b[39m!=\u001b[39m \u001b[39m\"\u001b[39m\u001b[39mHEAD\u001b[39m\u001b[39m\"\u001b[39m:\n",
      "File \u001b[0;32m/Library/Frameworks/Python.framework/Versions/3.10/lib/python3.10/site-packages/elastic_transport/_node/_http_urllib3.py:202\u001b[0m, in \u001b[0;36mUrllib3HttpNode.perform_request\u001b[0;34m(self, method, target, body, headers, request_timeout)\u001b[0m\n\u001b[1;32m    194\u001b[0m         err \u001b[39m=\u001b[39m \u001b[39mConnectionError\u001b[39;00m(\u001b[39mstr\u001b[39m(e), errors\u001b[39m=\u001b[39m(e,))\n\u001b[1;32m    195\u001b[0m     \u001b[39mself\u001b[39m\u001b[39m.\u001b[39m_log_request(\n\u001b[1;32m    196\u001b[0m         method\u001b[39m=\u001b[39mmethod,\n\u001b[1;32m    197\u001b[0m         target\u001b[39m=\u001b[39mtarget,\n\u001b[0;32m   (...)\u001b[0m\n\u001b[1;32m    200\u001b[0m         exception\u001b[39m=\u001b[39merr,\n\u001b[1;32m    201\u001b[0m     )\n\u001b[0;32m--> 202\u001b[0m     \u001b[39mraise\u001b[39;00m err \u001b[39mfrom\u001b[39;00m \u001b[39mNone\u001b[39m\n\u001b[1;32m    204\u001b[0m meta \u001b[39m=\u001b[39m ApiResponseMeta(\n\u001b[1;32m    205\u001b[0m     node\u001b[39m=\u001b[39m\u001b[39mself\u001b[39m\u001b[39m.\u001b[39mconfig,\n\u001b[1;32m    206\u001b[0m     duration\u001b[39m=\u001b[39mduration,\n\u001b[0;32m   (...)\u001b[0m\n\u001b[1;32m    209\u001b[0m     headers\u001b[39m=\u001b[39mresponse_headers,\n\u001b[1;32m    210\u001b[0m )\n\u001b[1;32m    211\u001b[0m \u001b[39mself\u001b[39m\u001b[39m.\u001b[39m_log_request(\n\u001b[1;32m    212\u001b[0m     method\u001b[39m=\u001b[39mmethod,\n\u001b[1;32m    213\u001b[0m     target\u001b[39m=\u001b[39mtarget,\n\u001b[0;32m   (...)\u001b[0m\n\u001b[1;32m    217\u001b[0m     response\u001b[39m=\u001b[39mdata,\n\u001b[1;32m    218\u001b[0m )\n",
      "\u001b[0;31mConnectionError\u001b[0m: Connection error caused by: ConnectionError(Connection error caused by: NewConnectionError(<urllib3.connection.HTTPConnection object at 0x105ea1e40>: Failed to establish a new connection: [Errno 61] Connection refused))"
     ]
    }
   ],
   "source": [
    "\n",
    "for smartapi in SmartAPI.get_all(10):\n",
    "    # get and load document\n",
    "    print()\n",
    "    ct+=1\n",
    "    raw_data = smartapi.raw.decode('utf-8')\n",
    "    source_data = yaml.safe_load(raw_data)\n",
    "    # print(f\"Document: {ct}\")\n",
    "    # Extract MetaKG Edges\n",
    "    metakg = parser.get_non_TRAPI_metadatas(data=source_data)\n",
    "    if metakg:\n",
    "        print(f\"MetaKG doc: {ct}\")\n",
    "        # print(\"Top-level keys in the document:\", source_data.keys())\n",
    "        print(\"-\"*50)\n",
    "        print(\"\\nDocuments Extracted MetaKG Edges:\")\n",
    "\n",
    "        # Verify `x-bte` Extraction\n",
    "        for edge in metakg:\n",
    "            print(edge)\n",
    "            # print(\"\\nEdge API BTE Data:\", json.dumps(edge.get(\"api\", {}).get(\"bte\", {}), indent=2))\n",
    "            # Flatten the keys in the edge\n",
    "            actual_key_names = list(flatten_actual_keys(edge))\n",
    "            print(\"Document keys: \",actual_key_names)\n",
    "\n",
    "        #     print(edge['api']['bte'].keys())\n",
    "        #     print(actual_key_names)\n",
    "        #     # Compare the actual keys with the expected keys\n",
    "        #     missing_keys = list(set(expected_key_names) - set(actual_key_names))\n",
    "        #     extra_keys = list(set(actual_key_names) - set(expected_key_names))\n",
    "\n",
    "        # #     print(\"\\nExpected Keys:\", expected_key_names)\n",
    "        #     print(\"Found Keys:\", actual_key_names)\n",
    "        #     if missing_keys:\n",
    "        #         print(\"Missing Keys:\", missing_keys)\n",
    "        #     if extra_keys:\n",
    "        #         print(\"Extra Keys:\", extra_keys)\n",
    "        # print(\"-\"*50)"
   ]
  },
  {
   "cell_type": "markdown",
   "metadata": {},
   "source": [
    "---"
   ]
  },
  {
   "cell_type": "markdown",
   "metadata": {},
   "source": [
    "Report Target Points:  \n",
    "Collect missing keys from documents  \n",
    "Collect extra(unexpected) keys from documents  \n",
    "Gather a collective analysis and individual analysis   \n"
   ]
  },
  {
   "cell_type": "markdown",
   "metadata": {},
   "source": [
    "---"
   ]
  },
  {
   "cell_type": "code",
   "execution_count": null,
   "metadata": {},
   "outputs": [],
   "source": []
  },
  {
   "cell_type": "code",
   "execution_count": null,
   "metadata": {},
   "outputs": [],
   "source": []
  },
  {
   "cell_type": "code",
   "execution_count": null,
   "metadata": {},
   "outputs": [],
   "source": []
  },
  {
   "cell_type": "markdown",
   "metadata": {},
   "source": [
    "---"
   ]
  }
 ],
 "metadata": {
  "kernelspec": {
   "display_name": "Python 3",
   "language": "python",
   "name": "python3"
  },
  "language_info": {
   "codemirror_mode": {
    "name": "ipython",
    "version": 3
   },
   "file_extension": ".py",
   "mimetype": "text/x-python",
   "name": "python",
   "nbconvert_exporter": "python",
   "pygments_lexer": "ipython3",
   "version": "3.10.0"
  }
 },
 "nbformat": 4,
 "nbformat_minor": 2
}
