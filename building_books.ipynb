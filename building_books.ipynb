{
 "cells": [
  {
   "cell_type": "markdown",
   "metadata": {},
   "source": [
    "# Jupyter Books"
   ]
  },
  {
   "cell_type": "markdown",
   "metadata": {},
   "source": [
    "## Install Jupyter book  \n",
    "\n",
    "```pip install -U jupyter-book```   \n",
    "   \n",
    "      \n",
    "```conda install -c conda-forge jupyter-book```\n"
   ]
  },
  {
   "cell_type": "code",
   "execution_count": 1,
   "metadata": {},
   "outputs": [
    {
     "name": "stdout",
     "output_type": "stream",
     "text": [
      "Usage: jupyter-book [OPTIONS] COMMAND [ARGS]...\n",
      "\n",
      "  Build and manage books with Jupyter.\n",
      "\n",
      "Options:\n",
      "  --version   Show the version and exit.\n",
      "  -h, --help  Show this message and exit.\n",
      "\n",
      "Commands:\n",
      "  build   Convert your book's or page's content to HTML or a PDF.\n",
      "  clean   Empty the _build directory except jupyter_cache.\n",
      "  config  Inspect your _config.yml file.\n",
      "  create  Create a Jupyter Book template that you can customize.\n",
      "  myst    Manipulate MyST markdown files.\n",
      "  toc     Command-line for sphinx-external-toc.\n"
     ]
    }
   ],
   "source": [
    "!jupyter-book --help "
   ]
  },
  {
   "cell_type": "code",
   "execution_count": 2,
   "metadata": {},
   "outputs": [
    {
     "name": "stdout",
     "output_type": "stream",
     "text": [
      "\n",
      "\u001b[92m===============================================================================\u001b[0m\n",
      "\n",
      "Your book template can be found at\n",
      "\n",
      "    demobook/\n",
      "\n",
      "\u001b[92m===============================================================================\u001b[0m\n",
      "\n"
     ]
    }
   ],
   "source": [
    "!jupyter-book create demobook/"
   ]
  },
  {
   "cell_type": "code",
   "execution_count": 3,
   "metadata": {},
   "outputs": [
    {
     "name": "stdout",
     "output_type": "stream",
     "text": [
      "building_books.ipynb \u001b[34mdemobook\u001b[m\u001b[m\n"
     ]
    }
   ],
   "source": [
    "!ls"
   ]
  },
  {
   "cell_type": "markdown",
   "metadata": {},
   "source": [
    "There are three things that you need in order to build a Jupyter Book, each of which was just created by running jupyter-book create:  \n",
    "  \n",
    "- A configuration file (`_config.yml`)\n",
    "  \n",
    "- A table of contents file (`_toc.yml`)\n",
    "  \n",
    "- Your book’s content"
   ]
  },
  {
   "cell_type": "code",
   "execution_count": 4,
   "metadata": {},
   "outputs": [
    {
     "name": "stdout",
     "output_type": "stream",
     "text": [
      "_config.yml           logo.png              notebooks.ipynb\n",
      "_toc.yml              markdown-notebooks.md references.bib\n",
      "intro.md              markdown.md           requirements.txt\n"
     ]
    }
   ],
   "source": [
    "!ls demobook/"
   ]
  },
  {
   "cell_type": "markdown",
   "metadata": {},
   "source": [
    "### Book configuration (`_config.yml`)  \n",
    "\n",
    "- All of the configuration for your book is in the YAML file \n",
    "- Define metadata for your book (such as its title), add a book logo, turn on different “interactive” buttons (such as a [`Binder`](https://jupyterbook.org/en/stable/reference/glossary.html#term-Binder) button for pages built from a Jupyter Notebook), etc."
   ]
  },
  {
   "cell_type": "code",
   "execution_count": 5,
   "metadata": {},
   "outputs": [
    {
     "name": "stdout",
     "output_type": "stream",
     "text": [
      "# Book settings\n",
      "# Learn more at https://jupyterbook.org/customize/config.html\n",
      "\n",
      "title: My sample book\n",
      "author: The Jupyter Book Community\n",
      "logo: logo.png\n",
      "\n",
      "# Force re-execution of notebooks on each build.\n",
      "# See https://jupyterbook.org/content/execute.html\n",
      "execute:\n",
      "  execute_notebooks: force\n",
      "\n",
      "# Define the name of the latex output file for PDF builds\n",
      "latex:\n",
      "  latex_documents:\n",
      "    targetname: book.tex\n",
      "\n",
      "# Add a bibtex file so that we can create citations\n",
      "bibtex_bibfiles:\n",
      "  - references.bib\n",
      "\n",
      "# Information about where the book exists on the web\n",
      "repository:\n",
      "  url: https://github.com/executablebooks/jupyter-book  # Online location of your book\n",
      "  path_to_book: docs  # Optional path to your book, relative to the repository root\n",
      "  branch: master  # Which branch of the repository should be used when creating links (optional)\n",
      "\n",
      "# Add GitHub buttons to your book\n",
      "# See https://jupyterbook.org/customize/config.html#add-a-link-to-your-repository\n",
      "html:\n",
      "  use_issues_button: true\n",
      "  use_repository_button: true\n"
     ]
    }
   ],
   "source": [
    "!cat demobook/_config.yml"
   ]
  },
  {
   "cell_type": "markdown",
   "metadata": {},
   "source": [
    "**There is much more that you can do with the `_config.yml` file. For example, you can Add source repository buttons or add Interactive data visualizations. For a complete list of fields for `_config.yml`, see Configuration reference.**"
   ]
  },
  {
   "cell_type": "markdown",
   "metadata": {},
   "source": [
    "## Table of Contents (`_toc.yml`)    \n",
    "\n",
    "Jupyter Book uses your Table of Contents to define the structure of your book. For example, your chapters, sub-chapters, etc.\n",
    "\n",
    "This is a YAML file with a collection of pages, each one linking to a file in your book. Here’s an example of the two content files shown above"
   ]
  },
  {
   "cell_type": "code",
   "execution_count": 10,
   "metadata": {},
   "outputs": [
    {
     "name": "stdout",
     "output_type": "stream",
     "text": [
      "# Table of contents\n",
      "# Learn more at https://jupyterbook.org/customize/toc.html\n",
      "\n",
      "format: jb-book\n",
      "root: intro\n",
      "chapters:\n",
      "- file: markdown\n",
      "- file: notebooks\n",
      "- file: markdown-notebooks\n"
     ]
    }
   ],
   "source": [
    "!cat demobook/_toc.yml"
   ]
  },
  {
   "cell_type": "markdown",
   "metadata": {},
   "source": [
    "The _toc.yml is arranged with a format such as jb-article, or jb-book. The root item is considered the landing page (for html builds) and is used as front matter (for latex builds). For jb-book, subsequent chapters can be added under the chapters: section in the yml file.\n",
    "\n",
    "Each entry relates to a file, and they should be added as names with no extensions and relative to your book’s root folder. The title of each chapter will be inferred from the title in your files."
   ]
  },
  {
   "cell_type": "markdown",
   "metadata": {},
   "source": [
    "## Book content  \n",
    "A collection of text files make up your book’s content. These can be one of several types of files, such as markdown (.md), Jupyter Notebooks (.ipynb) or reStructuredText (.rst) files (see [Types of content source files](https://jupyterbook.org/en/stable/file-types/index.html) for a full list).\n",
    "\n",
    "In the above example, there were three files listed:  \n",
    "  \n",
    "a Markdown file (`markdown.md`)  \n",
    "  \n",
    "a Jupyter Notebook (`notebooks.ipynb`)  \n",
    "  \n",
    "a MyST Markdown Notebook (`markdown-notebooks.md`)  "
   ]
  },
  {
   "cell_type": "code",
   "execution_count": 11,
   "metadata": {},
   "outputs": [
    {
     "name": "stdout",
     "output_type": "stream",
     "text": [
      "/Users/nacosta/Documents/jupyter_book\n"
     ]
    }
   ],
   "source": [
    "!pwd"
   ]
  },
  {
   "cell_type": "markdown",
   "metadata": {},
   "source": [
    "---"
   ]
  },
  {
   "cell_type": "markdown",
   "metadata": {},
   "source": [
    "## Build your book"
   ]
  },
  {
   "cell_type": "code",
   "execution_count": 13,
   "metadata": {},
   "outputs": [
    {
     "name": "stdout",
     "output_type": "stream",
     "text": [
      "\u001b[32m\u001b[1mRunning Jupyter-Book v1.0.0\u001b[0m\n",
      "\u001b[34m\u001b[1mSource Folder: \u001b[0m/Users/nacosta/Documents/jupyter_book/demobook\n",
      "\u001b[34m\u001b[1mConfig Path: \u001b[0m/Users/nacosta/Documents/jupyter_book/demobook/_config.yml\n",
      "\u001b[34m\u001b[1mOutput Path: \u001b[0m/Users/nacosta/Documents/jupyter_book/demobook/_build/html\n",
      "\u001b[01mRunning Sphinx v7.2.6\u001b[39;49;00m\n",
      "\u001b[01mmaking output directory... \u001b[39;49;00mdone\n",
      "[etoc] Changing master_doc to 'intro'\n",
      "checking bibtex cache... out of date\n",
      "parsing bibtex file /Users/nacosta/Documents/jupyter_book/demobook/references.bib... parsed 5 entries\n",
      "\u001b[01mmyst v2.0.0:\u001b[39;49;00m MdParserConfig(commonmark_only=False, gfm_only=False, enable_extensions={'tasklist', 'linkify', 'colon_fence', 'substitution', 'dollarmath'}, disable_syntax=[], all_links_external=False, url_schemes=('mailto', 'http', 'https'), ref_domains=None, fence_as_directive=set(), number_code_blocks=[], title_to_header=False, heading_anchors=0, heading_slug_func=None, html_meta={}, footnote_transition=True, words_per_minute=200, substitutions={}, linkify_fuzzy_links=True, dmath_allow_labels=True, dmath_allow_space=True, dmath_allow_digits=True, dmath_double_inline=False, update_mathjax=True, mathjax_classes='tex2jax_process|mathjax_process|math|output_area', enable_checkboxes=False, suppress_warnings=[], highlight_code_blocks=True)\n",
      "\u001b[01mmyst-nb v1.0.0:\u001b[39;49;00m NbParserConfig(custom_formats={}, metadata_key='mystnb', cell_metadata_key='mystnb', kernel_rgx_aliases={}, eval_name_regex='^[a-zA-Z_][a-zA-Z0-9_]*$', execution_mode='force', execution_cache_path='', execution_excludepatterns=[], execution_timeout=30, execution_in_temp=False, execution_allow_errors=False, execution_raise_on_error=False, execution_show_tb=False, merge_streams=False, render_plugin='default', remove_code_source=False, remove_code_outputs=False, code_prompt_show='Show code cell {type}', code_prompt_hide='Hide code cell {type}', number_source_lines=False, output_stderr='show', render_text_lexer='myst-ansi', render_error_lexer='ipythontb', render_image_options={}, render_figure_options={}, render_markdown_format='commonmark', output_folder='build', append_css=True, metadata_to_fm=False)\n",
      "Using jupyter-cache at: /Users/nacosta/Documents/jupyter_book/demobook/_build/.jupyter_cache\n",
      "\u001b[01msphinx-multitoc-numbering v0.1.3:\u001b[39;49;00m Loaded\n",
      "The default value for `navigation_with_keys` will change to `False` in the next release. If you wish to preserve the old behavior for your site, set `navigation_with_keys=True` in the `html_theme_options` dict in your `conf.py` file. Be aware that `navigation_with_keys = True` has negative accessibility implications: https://github.com/pydata/pydata-sphinx-theme/issues/1492\n",
      "\u001b[01mbuilding [mo]: \u001b[39;49;00mtargets for 0 po files that are out of date\n",
      "\u001b[01mwriting output... \u001b[39;49;00m\n",
      "\u001b[01mbuilding [html]: \u001b[39;49;00mtargets for 4 source files that are out of date\n",
      "\u001b[01mupdating environment: \u001b[39;49;00m[new config] 4 added, 0 changed, 0 removed\n",
      "/Users/nacosta/Documents/jupyter_book/demobook/markdown-notebooks.md: Executing notebook using local CWD [mystnb]\n",
      "/Users/nacosta/Documents/jupyter_book/demobook/markdown-notebooks.md: Executed notebook in 1.25 seconds [mystnb]\n",
      "/Users/nacosta/Documents/jupyter_book/demobook/notebooks.ipynb: Executing notebook using local CWD [mystnb]\n",
      "/Users/nacosta/Documents/jupyter_book/demobook/notebooks.ipynb: Executed notebook in 1.93 seconds [mystnb]\n",
      "\n",
      "\u001b[01mlooking for now-outdated files... \u001b[39;49;00mnone found\n",
      "\u001b[01mpickling environment... \u001b[39;49;00mdone\n",
      "\u001b[01mchecking consistency... \u001b[39;49;00mdone\n",
      "\u001b[01mpreparing documents... \u001b[39;49;00mdone\n",
      "\u001b[01mcopying assets... \u001b[39;49;00m\u001b[01mcopying static files... \u001b[39;49;00mdone\n",
      "\u001b[01mcopying extra files... \u001b[39;49;00mdone\n",
      "done\n",
      "\u001b[2K\u001b[01mwriting output... \u001b[39;49;00m[100%] \u001b[32mnotebooks\u001b[39;49;00m39;49;00m\n",
      "\u001b[01mgenerating indices... \u001b[39;49;00mgenindex done\n",
      "\u001b[01mwriting additional pages... \u001b[39;49;00msearch done\n",
      "\u001b[2K\u001b[01mcopying images... \u001b[39;49;00m[100%] \u001b[33m_build/jupyter_execute/9fdd49160ba4b72ea5f70519589c2621330484f0a3839431a2d627cb3184be06.png\u001b[39;49;00m\n",
      "\u001b[01mdumping search index in English (code: en)... \u001b[39;49;00mdone\n",
      "\u001b[01mdumping object inventory... \u001b[39;49;00mdone\n",
      "[etoc] missing index.html written as redirect to 'intro.html'\n",
      "\u001b[01mbuild succeeded.\u001b[39;49;00m\n",
      "\n",
      "The HTML pages are in demobook/_build/html.\n",
      "\n",
      "\u001b[92m===============================================================================\u001b[0m\n",
      "\n",
      "Finished generating HTML for book.\n",
      "Your book's HTML pages are here:\n",
      "    demobook/_build/html/\n",
      "You can look at your book by opening this file in a browser:\n",
      "    demobook/_build/html/index.html\n",
      "Or paste this line directly into your browser bar:\n",
      "    file:///Users/nacosta/Documents/jupyter_book/demobook/_build/html/index.html            \n",
      "\n",
      "\u001b[92m===============================================================================\u001b[0m\n",
      "\n"
     ]
    }
   ],
   "source": [
    "!jupyter-book build demobook/\n",
    "#!jb build demobook/"
   ]
  },
  {
   "cell_type": "markdown",
   "metadata": {},
   "source": [
    "## Aside: Source vs build files  \n",
    "\n",
    "At this point, you have created a combination of Jupyter notebooks, markdown files, and configuration files, including `_toc.yml` and `_config.yml`. These files are your **source files**. The source files comprise all of the content and configuration that Jupyter Book needs to build your book.\n",
    "\n",
    "In addition, you have created a collection of outputs in the `_build` folder. The `_build` folder contains all of your static website build files. The build files contain all of the output from Jupyter Book’s build command. These files are only used to view your content in a browser or to share with others.\n",
    "\n",
    "**The best practice for publishing your book is to use separate branches for your source and your build files.** For example, you may tell git to ignore your `_build` folder on your main branch, and push the outputs in your `_build` folder to a branch called `gh-pages`. \n",
    "\n",
    "\n",
    "By default, Jupyter Book will only build the HTML for pages that have been updated since the last time you built the book.\n",
    "\n",
    "If you’d like to force Jupyter Book to re-build a particular page, you can either edit the corresponding file in your book’s folder, or delete that page’s HTML in the _build/html folder.\n",
    "\n",
    "You can also signal a full re-build using the --all option:\n",
    "\n",
    "```jupyter-book build --all mybookname/```"
   ]
  },
  {
   "cell_type": "code",
   "execution_count": 1,
   "metadata": {},
   "outputs": [
    {
     "name": "stdout",
     "output_type": "stream",
     "text": [
      "\u001b[34m_build\u001b[m\u001b[m                logo.png              references.bib\n",
      "_config.yml           markdown-notebooks.md requirements.txt\n",
      "_toc.yml              markdown.md\n",
      "intro.md              notebooks.ipynb\n"
     ]
    }
   ],
   "source": [
    "!ls demobook/"
   ]
  },
  {
   "cell_type": "code",
   "execution_count": 3,
   "metadata": {},
   "outputs": [
    {
     "name": "stdout",
     "output_type": "stream",
     "text": [
      "demobook/_build/html:\n",
      "\u001b[34m_images\u001b[m\u001b[m                 index.html              objects.inv\n",
      "\u001b[34m_sources\u001b[m\u001b[m                intro.html              search.html\n",
      "\u001b[34m_sphinx_design_static\u001b[m\u001b[m   markdown-notebooks.html searchindex.js\n",
      "\u001b[34m_static\u001b[m\u001b[m                 markdown.html\n",
      "genindex.html           notebooks.html\n",
      "\n",
      "demobook/_build/jupyter_execute:\n",
      "9fdd49160ba4b72ea5f70519589c2621330484f0a3839431a2d627cb3184be06.png\n",
      "markdown-notebooks.ipynb\n",
      "notebooks.ipynb\n"
     ]
    }
   ],
   "source": [
    "!ls demobook/_build/*"
   ]
  },
  {
   "cell_type": "markdown",
   "metadata": {},
   "source": [
    "---"
   ]
  }
 ],
 "metadata": {
  "kernelspec": {
   "display_name": "Python 3",
   "language": "python",
   "name": "python3"
  },
  "language_info": {
   "codemirror_mode": {
    "name": "ipython",
    "version": 3
   },
   "file_extension": ".py",
   "mimetype": "text/x-python",
   "name": "python",
   "nbconvert_exporter": "python",
   "pygments_lexer": "ipython3",
   "version": "3.10.0"
  }
 },
 "nbformat": 4,
 "nbformat_minor": 2
}
