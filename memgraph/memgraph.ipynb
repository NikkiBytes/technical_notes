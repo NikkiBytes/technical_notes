{
 "cells": [
  {
   "cell_type": "markdown",
   "metadata": {},
   "source": [
    "# `Memgraph`  \n",
    "\n",
    "*  high-performance in-memory graph database  \n",
    "*  faster access and efficient in-memory data processing"
   ]
  },
  {
   "cell_type": "code",
   "execution_count": 7,
   "metadata": {},
   "outputs": [],
   "source": [
    "import mgclient\n",
    "import pprint as pp"
   ]
  },
  {
   "cell_type": "markdown",
   "metadata": {},
   "source": [
    "## Build a `Memgraph` Database"
   ]
  },
  {
   "cell_type": "code",
   "execution_count": null,
   "metadata": {},
   "outputs": [],
   "source": [
    "# # Delete all nodes and relationships\n",
    "# cursor.execute(\"MATCH (n) DETACH DELETE n\")"
   ]
  },
  {
   "cell_type": "markdown",
   "metadata": {},
   "source": [
    "### Connect to the Database"
   ]
  },
  {
   "cell_type": "code",
   "execution_count": 3,
   "metadata": {},
   "outputs": [],
   "source": [
    "conn = mgclient.connect(host=\"localhost\", port=7687)\n",
    "conn.autocommit = True\n",
    "cursor = conn.cursor()\n",
    "cursor.execute(\"CALL mg.load_all();\") # Load MAGE\n",
    "\n"
   ]
  },
  {
   "cell_type": "code",
   "execution_count": null,
   "metadata": {},
   "outputs": [],
   "source": [
    "# Load only the specific module\n",
    "cursor.execute(\"CALL mg.load('algo');\")"
   ]
  },
  {
   "cell_type": "markdown",
   "metadata": {},
   "source": [
    "### Inspect Database"
   ]
  },
  {
   "cell_type": "markdown",
   "metadata": {},
   "source": [
    "Fetching a Single Document: To view a single document (which, in the context of a graph database, typically refers to a node or a relationship), you might execute a query like:\n",
    "\n"
   ]
  },
  {
   "cell_type": "code",
   "execution_count": 11,
   "metadata": {},
   "outputs": [
    {
     "name": "stdout",
     "output_type": "stream",
     "text": [
      "(<mgclient.Node(id=964, labels={'Subject'}, properties={'name': 'SmallMolecule'}) at 0x111b6d9b0>,)\n"
     ]
    }
   ],
   "source": [
    "cursor.execute(\"MATCH (n) RETURN n LIMIT 1\")\n",
    "single_node = cursor.fetchone()\n",
    "print(single_node)\n"
   ]
  },
  {
   "cell_type": "markdown",
   "metadata": {},
   "source": [
    "``` \n",
    "(<mgclient.Node(id=964, labels={'Subject'}, properties={'name': 'SmallMolecule'}) at 0x111b6d6e0>,)\n",
    "```\n",
    "- a tuple containing a single `mgclient.Node` object  \n",
    "\n",
    "- `mgclient.Node`: This indicates that the object is a node in the Memgraph graph database.\n",
    "\n",
    "- `id=964`: This is the unique identifier of the node within the Memgraph database. Each node has a unique ID.  \n",
    "\n",
    "- `labels={'Subject'}`: This shows the labels associated with the node. In graph databases like Memgraph, labels are used to categorize nodes into different types. In this case, the node has a label of `'Subject'`, indicating its role or type within your graph schema.  \n",
    "\n",
    "- `properties={'name': 'SmallMolecule'}`: This is a dictionary of the properties of the node. Properties are key-value pairs that store additional information about nodes. In this example, the node has one property named name, with the value 'SmallMolecule'. This could represent the name or title of the subject in your graph.  \n",
    "\n",
    "- `at 0x111a77a20`: This is the memory address where this particular mgclient.Node object is stored in Python. It's not relevant for understanding the data in your graph, but it's a normal part of Python's representation of objects.\n",
    "\n",
    "- `Tuple Representation`: The entire node object is enclosed in a tuple, as indicated by the parentheses ( and ). This is typical when fetching results from a database in Python; even if there's only one result, it's often returned as a single-item tuple."
   ]
  },
  {
   "cell_type": "code",
   "execution_count": 13,
   "metadata": {},
   "outputs": [
    {
     "name": "stdout",
     "output_type": "stream",
     "text": [
      "No data returned from the query.\n"
     ]
    }
   ],
   "source": [
    "node_data = cursor.fetchone()\n",
    "if node_data is not None:\n",
    "    node = node_data[0]  # Extract the node from the tuple\n",
    "    node_id = node.id\n",
    "    node_label = list(node.labels)[0]  # Assuming each node has only one label\n",
    "    node_name = node.properties['name']\n",
    "    print(f\"Node ID: {node_id}, Label: {node_label}, Name: {node_name}\")\n",
    "else:\n",
    "    print(\"No data returned from the query.\")\n"
   ]
  },
  {
   "cell_type": "markdown",
   "metadata": {},
   "source": [
    "Exploring Relationships: To see how Subject and Object nodes are related, you could use a query like:"
   ]
  },
  {
   "cell_type": "code",
   "execution_count": 5,
   "metadata": {},
   "outputs": [
    {
     "name": "stdout",
     "output_type": "stream",
     "text": [
      "(<mgclient.Node(id=964, labels={'Subject'}, properties={'name': 'SmallMolecule'}) at 0x111b52cd0>, <mgclient.Relationship(start_id=964, end_id=965, type='RELATION', properties={'api': [{'bte': {'query_operation': {'input_separator': ',', 'method': 'post', 'params': None, 'path': '/query', 'path_params': None, 'request_body': None, 'server': 'https://automat.transltr.io/icees-kg/1.3', 'support_batch': True}}, 'name': 'Automat-icees-kg(Trapi v1.3.0)', 'smartapi': {'id': '44e7a1147ca8657f50af6bb25982762d', 'metadata': 'https://trapi-openapi.apps.renci.org/trapi/infores:automat-icees-kg/1.3.0', 'ui': 'https://smart-api.info/ui/44e7a1147ca8657f50af6bb25982762d'}, 'tags': ['translator', 'automat', 'trapi', 'bte-trapi'], 'x-translator': {'component': 'KP', 'team': ['Exposures Provider']}}, {'bte': {'query_operation': {'input_separator': ',', 'method': 'post', 'params': None, 'path': '/query', 'path_params': None, 'request_body': None, 'server': 'https://bte.transltr.io/v1', 'support_batch': True}}, 'name': 'BioThings Explorer (BTE) TRAPI', 'smartapi': {'id': 'dc91716f44207d2e1287c727f281d339', 'metadata': 'https://raw.githubusercontent.com/NCATS-Tangerine/translator-api-registry/master/biothings_explorer/smartapi.yaml', 'ui': 'https://smart-api.info/ui/dc91716f44207d2e1287c727f281d339'}, 'tags': ['1.3.0', 'meta_knowledge_graph', 'query', 'asyncquery', 'translator', 'trapi', 'biothings', 'bte-trapi'], 'x-translator': {'component': 'ARA', 'team': ['Exploring Agent']}}], 'predicate': 'correlated_with'}) at 0x111cdf7f0>, <mgclient.Node(id=965, labels={'Object'}, properties={'name': 'PopulationOfIndividualOrganisms'}) at 0x111af2460>)\n",
      "(<mgclient.Node(id=976, labels={'Subject'}, properties={'name': 'Drug'}) at 0x111af0390>, <mgclient.Relationship(start_id=976, end_id=965, type='RELATION', properties={'api': [{'bte': {'query_operation': {'input_separator': ',', 'method': 'post', 'params': None, 'path': '/query', 'path_params': None, 'request_body': None, 'server': 'https://automat.transltr.io/icees-kg/1.3', 'support_batch': True}}, 'name': 'Automat-icees-kg(Trapi v1.3.0)', 'smartapi': {'id': '44e7a1147ca8657f50af6bb25982762d', 'metadata': 'https://trapi-openapi.apps.renci.org/trapi/infores:automat-icees-kg/1.3.0', 'ui': 'https://smart-api.info/ui/44e7a1147ca8657f50af6bb25982762d'}, 'tags': ['translator', 'automat', 'trapi', 'bte-trapi'], 'x-translator': {'component': 'KP', 'team': ['Exposures Provider']}}, {'bte': {'query_operation': {'input_separator': ',', 'method': 'post', 'params': None, 'path': '/query', 'path_params': None, 'request_body': None, 'server': 'https://bte.transltr.io/v1', 'support_batch': True}}, 'name': 'BioThings Explorer (BTE) TRAPI', 'smartapi': {'id': 'dc91716f44207d2e1287c727f281d339', 'metadata': 'https://raw.githubusercontent.com/NCATS-Tangerine/translator-api-registry/master/biothings_explorer/smartapi.yaml', 'ui': 'https://smart-api.info/ui/dc91716f44207d2e1287c727f281d339'}, 'tags': ['1.3.0', 'meta_knowledge_graph', 'query', 'asyncquery', 'translator', 'trapi', 'biothings', 'bte-trapi'], 'x-translator': {'component': 'ARA', 'team': ['Exploring Agent']}}], 'predicate': 'correlated_with'}) at 0x111cff4b0>, <mgclient.Node(id=965, labels={'Object'}, properties={'name': 'PopulationOfIndividualOrganisms'}) at 0x111af20d0>)\n",
      "(<mgclient.Node(id=988, labels={'Subject'}, properties={'name': 'ChemicalExposure'}) at 0x111af0ab0>, <mgclient.Relationship(start_id=988, end_id=965, type='RELATION', properties={'api': [{'bte': {'query_operation': {'input_separator': ',', 'method': 'post', 'params': None, 'path': '/query', 'path_params': None, 'request_body': None, 'server': 'https://automat.transltr.io/icees-kg/1.3', 'support_batch': True}}, 'name': 'Automat-icees-kg(Trapi v1.3.0)', 'smartapi': {'id': '44e7a1147ca8657f50af6bb25982762d', 'metadata': 'https://trapi-openapi.apps.renci.org/trapi/infores:automat-icees-kg/1.3.0', 'ui': 'https://smart-api.info/ui/44e7a1147ca8657f50af6bb25982762d'}, 'tags': ['translator', 'automat', 'trapi', 'bte-trapi'], 'x-translator': {'component': 'KP', 'team': ['Exposures Provider']}}, {'bte': {'query_operation': {'input_separator': ',', 'method': 'post', 'params': None, 'path': '/query', 'path_params': None, 'request_body': None, 'server': 'https://bte.transltr.io/v1', 'support_batch': True}}, 'name': 'BioThings Explorer (BTE) TRAPI', 'smartapi': {'id': 'dc91716f44207d2e1287c727f281d339', 'metadata': 'https://raw.githubusercontent.com/NCATS-Tangerine/translator-api-registry/master/biothings_explorer/smartapi.yaml', 'ui': 'https://smart-api.info/ui/dc91716f44207d2e1287c727f281d339'}, 'tags': ['1.3.0', 'meta_knowledge_graph', 'query', 'asyncquery', 'translator', 'trapi', 'biothings', 'bte-trapi'], 'x-translator': {'component': 'ARA', 'team': ['Exploring Agent']}}], 'predicate': 'correlated_with'}) at 0x111ce4bb0>, <mgclient.Node(id=965, labels={'Object'}, properties={'name': 'PopulationOfIndividualOrganisms'}) at 0x111c09c80>)\n",
      "(<mgclient.Node(id=989, labels={'Subject'}, properties={'name': 'Disease'}) at 0x111c08cf0>, <mgclient.Relationship(start_id=989, end_id=965, type='RELATION', properties={'api': [{'bte': {'query_operation': {'input_separator': ',', 'method': 'post', 'params': None, 'path': '/query', 'path_params': None, 'request_body': None, 'server': 'https://automat.transltr.io/icees-kg/1.3', 'support_batch': True}}, 'name': 'Automat-icees-kg(Trapi v1.3.0)', 'smartapi': {'id': '44e7a1147ca8657f50af6bb25982762d', 'metadata': 'https://trapi-openapi.apps.renci.org/trapi/infores:automat-icees-kg/1.3.0', 'ui': 'https://smart-api.info/ui/44e7a1147ca8657f50af6bb25982762d'}, 'tags': ['translator', 'automat', 'trapi', 'bte-trapi'], 'x-translator': {'component': 'KP', 'team': ['Exposures Provider']}}, {'bte': {'query_operation': {'input_separator': ',', 'method': 'post', 'params': None, 'path': '/query', 'path_params': None, 'request_body': None, 'server': 'https://bte.transltr.io/v1', 'support_batch': True}}, 'name': 'BioThings Explorer (BTE) TRAPI', 'smartapi': {'id': 'dc91716f44207d2e1287c727f281d339', 'metadata': 'https://raw.githubusercontent.com/NCATS-Tangerine/translator-api-registry/master/biothings_explorer/smartapi.yaml', 'ui': 'https://smart-api.info/ui/dc91716f44207d2e1287c727f281d339'}, 'tags': ['1.3.0', 'meta_knowledge_graph', 'query', 'asyncquery', 'translator', 'trapi', 'biothings', 'bte-trapi'], 'x-translator': {'component': 'ARA', 'team': ['Exploring Agent']}}], 'predicate': 'correlated_with'}) at 0x111ce6d30>, <mgclient.Node(id=965, labels={'Object'}, properties={'name': 'PopulationOfIndividualOrganisms'}) at 0x111c09740>)\n",
      "(<mgclient.Node(id=990, labels={'Subject'}, properties={'name': 'MolecularMixture'}) at 0x111c0a8e0>, <mgclient.Relationship(start_id=990, end_id=965, type='RELATION', properties={'api': [{'bte': {'query_operation': {'input_separator': ',', 'method': 'post', 'params': None, 'path': '/query', 'path_params': None, 'request_body': None, 'server': 'https://automat.transltr.io/icees-kg/1.3', 'support_batch': True}}, 'name': 'Automat-icees-kg(Trapi v1.3.0)', 'smartapi': {'id': '44e7a1147ca8657f50af6bb25982762d', 'metadata': 'https://trapi-openapi.apps.renci.org/trapi/infores:automat-icees-kg/1.3.0', 'ui': 'https://smart-api.info/ui/44e7a1147ca8657f50af6bb25982762d'}, 'tags': ['translator', 'automat', 'trapi', 'bte-trapi'], 'x-translator': {'component': 'KP', 'team': ['Exposures Provider']}}, {'bte': {'query_operation': {'input_separator': ',', 'method': 'post', 'params': None, 'path': '/query', 'path_params': None, 'request_body': None, 'server': 'https://bte.transltr.io/v1', 'support_batch': True}}, 'name': 'BioThings Explorer (BTE) TRAPI', 'smartapi': {'id': 'dc91716f44207d2e1287c727f281d339', 'metadata': 'https://raw.githubusercontent.com/NCATS-Tangerine/translator-api-registry/master/biothings_explorer/smartapi.yaml', 'ui': 'https://smart-api.info/ui/dc91716f44207d2e1287c727f281d339'}, 'tags': ['1.3.0', 'meta_knowledge_graph', 'query', 'asyncquery', 'translator', 'trapi', 'biothings', 'bte-trapi'], 'x-translator': {'component': 'ARA', 'team': ['Exploring Agent']}}], 'predicate': 'correlated_with'}) at 0x111cb37b0>, <mgclient.Node(id=965, labels={'Object'}, properties={'name': 'PopulationOfIndividualOrganisms'}) at 0x111c08c60>)\n"
     ]
    }
   ],
   "source": [
    "cursor.execute(\"MATCH (s:Subject)-[r:RELATION]->(o:Object) RETURN s, r, o LIMIT 5\")\n",
    "relationships = cursor.fetchall()\n",
    "for rel in relationships:\n",
    "    print(rel)\n"
   ]
  },
  {
   "cell_type": "code",
   "execution_count": null,
   "metadata": {},
   "outputs": [],
   "source": []
  }
 ],
 "metadata": {
  "kernelspec": {
   "display_name": "Python 3",
   "language": "python",
   "name": "python3"
  },
  "language_info": {
   "codemirror_mode": {
    "name": "ipython",
    "version": 3
   },
   "file_extension": ".py",
   "mimetype": "text/x-python",
   "name": "python",
   "nbconvert_exporter": "python",
   "pygments_lexer": "ipython3",
   "version": "3.10.0"
  }
 },
 "nbformat": 4,
 "nbformat_minor": 2
}
