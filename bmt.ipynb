{
 "cells": [
  {
   "cell_type": "markdown",
   "metadata": {},
   "source": [
    "# Biolink Model in Python\n",
    " \n",
    "Key Features and Functionalities:  \n",
    "1. Access to the **Biolink Model Schema**  \n",
    "2. Validate and Lookup Utilities  \n",
    "3. Helper Functions  \n",
    "4. Ease of Integration  \n",
    "5. Community-Driven and Open Source  \n"
   ]
  },
  {
   "cell_type": "code",
   "execution_count": 13,
   "metadata": {},
   "outputs": [],
   "source": [
    "import bmt"
   ]
  },
  {
   "cell_type": "markdown",
   "metadata": {},
   "source": [
    "Create an instance of the `Toolkit` class from the Biolink Model Toolkit (BMT) library:"
   ]
  },
  {
   "cell_type": "code",
   "execution_count": 14,
   "metadata": {},
   "outputs": [],
   "source": [
    "toolkit = bmt.Toolkit()"
   ]
  },
  {
   "cell_type": "code",
   "execution_count": 15,
   "metadata": {},
   "outputs": [],
   "source": [
    "# v = biolink_model_toolkit.get_descendants(v, reflexive=True, formatted=True)\n"
   ]
  },
  {
   "cell_type": "markdown",
   "metadata": {},
   "source": [
    "### Exploring The Pacakge"
   ]
  },
  {
   "cell_type": "code",
   "execution_count": 16,
   "metadata": {},
   "outputs": [],
   "source": [
    "# Get details about a term\n",
    "details = toolkit.get_element('Gene')"
   ]
  },
  {
   "cell_type": "code",
   "execution_count": 17,
   "metadata": {},
   "outputs": [
    {
     "data": {
      "text/plain": [
       "{'name': 'gene',\n",
       " 'id_prefixes': ['NCBIGene',\n",
       "  'ENSEMBL',\n",
       "  'HGNC',\n",
       "  'MGI',\n",
       "  'ZFIN',\n",
       "  'dictyBase',\n",
       "  'WB',\n",
       "  'WormBase',\n",
       "  'FB',\n",
       "  'RGD',\n",
       "  'SGD',\n",
       "  'PomBase',\n",
       "  'OMIM',\n",
       "  'KEGG.GENE',\n",
       "  'UMLS',\n",
       "  'Xenbase',\n",
       "  'AspGD'],\n",
       " 'mixins': ['gene or gene product',\n",
       "  'genomic entity',\n",
       "  'chemical entity or gene or gene product',\n",
       "  'physical essence',\n",
       "  'ontology class']}"
      ]
     },
     "execution_count": 17,
     "metadata": {},
     "output_type": "execute_result"
    }
   ],
   "source": [
    "details"
   ]
  },
  {
   "cell_type": "code",
   "execution_count": null,
   "metadata": {},
   "outputs": [],
   "source": []
  }
 ],
 "metadata": {
  "kernelspec": {
   "display_name": "Python 3",
   "language": "python",
   "name": "python3"
  },
  "language_info": {
   "codemirror_mode": {
    "name": "ipython",
    "version": 3
   },
   "file_extension": ".py",
   "mimetype": "text/x-python",
   "name": "python",
   "nbconvert_exporter": "python",
   "pygments_lexer": "ipython3",
   "version": "3.10.0"
  }
 },
 "nbformat": 4,
 "nbformat_minor": 2
}
