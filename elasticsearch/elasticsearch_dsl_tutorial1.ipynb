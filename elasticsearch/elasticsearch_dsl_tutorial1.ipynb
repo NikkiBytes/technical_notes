{
 "cells": [
  {
   "cell_type": "markdown",
   "source": [
    "# Tutorial for `elasticsearch_dsl` package"
   ],
   "metadata": {}
  },
  {
   "cell_type": "markdown",
   "source": [
    "What is `Elasticsearch DSL` ?  \n",
    "\"A high-level library whose aim is to help with writing and running queries against ES. It is built on top of the official low-level client `elasticsearch-py`\" \n",
    "\n",
    "- provides optimal wrapper for working with documents as Python objects (define mappings, retrieve and save documents, wrap the document data in user-defined classes.)\n"
   ],
   "metadata": {}
  },
  {
   "cell_type": "markdown",
   "source": [
    "## Search Object\n",
    "The Search object represents the entire search request:  \n",
    "- queries\n",
    "- fitlers\n",
    "- aggregations\n",
    "- sort\n",
    "- pagination\n",
    "- additional parameters\n",
    "- associated client \n",
    "\n",
    "API designed to be chainable – meaning, with the exception of aggregations functionality, this means that the Search object is immutable - all changes to the object will result in a shallow copy being created which contains the changes. You can safely pass the Search object to foreign code with fear of it modifying your objects as long as it sticks to the Search object APIs"
   ],
   "metadata": {}
  },
  {
   "cell_type": "markdown",
   "source": [
    "## Query Context \n"
   ],
   "metadata": {}
  },
  {
   "cell_type": "markdown",
   "source": [],
   "metadata": {}
  },
  {
   "cell_type": "markdown",
   "source": [
    "## `post_filter`   \n",
    "- faceted navigation  \n",
    "  "
   ],
   "metadata": {}
  },
  {
   "cell_type": "markdown",
   "source": [
    "https://elasticsearch-dsl.readthedocs.io/en/latest/"
   ],
   "metadata": {}
  },
  {
   "cell_type": "markdown",
   "source": [
    "---\n"
   ],
   "metadata": {}
  }
 ],
 "metadata": {
  "orig_nbformat": 4,
  "language_info": {
   "name": "python"
  }
 },
 "nbformat": 4,
 "nbformat_minor": 2
}