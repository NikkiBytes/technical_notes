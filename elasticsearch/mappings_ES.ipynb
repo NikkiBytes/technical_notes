{
 "cells": [
  {
   "cell_type": "code",
   "execution_count": 1,
   "id": "8ea3ebff-e110-46ba-ba41-45f77cd88e44",
   "metadata": {},
   "outputs": [],
   "source": [
    "from elasticsearch import Elasticsearch, helpers\n"
   ]
  },
  {
   "cell_type": "code",
   "execution_count": 2,
   "id": "82432ba1-fcc1-44fc-ac2b-c42ecfa60c06",
   "metadata": {},
   "outputs": [],
   "source": [
    "es = Elasticsearch(HOST=\"http://localhost\", PORT=9200)\n"
   ]
  },
  {
   "cell_type": "code",
   "execution_count": 10,
   "id": "16346909-dd77-4692-9131-2ec65bb87d1f",
   "metadata": {},
   "outputs": [],
   "source": [
    "doc1={\n",
    "        \"@context\": \"http://schema.org\",\n",
    "        \"@type\": \"Dataset\",\n",
    "        \"@id\": \"https://doi.org/10.11588/data/0HJAJS\",\n",
    "        \"identifier\": \"https://doi.org/10.11588/data/0HJAJS\",\n",
    "        \"name\": \"Erz\\u00e4hlte Inschriften in der Literatur des Mittelalters (Projektdatenbank)\",\n",
    "        \"creator\": [\n",
    "            {\n",
    "                \"name\": \"Ott, Michael R.\",\n",
    "                \"affiliation\": \"Sonderforschungsbereich Materiale Textkulturen (933), Teilprojekt C05. Universit\\u00e4t Heidelberg.\"\n",
    "            }\n",
    "        ],\n",
    "        \"author\": [\n",
    "            {\n",
    "                \"name\": \"Ott, Michael R.\",\n",
    "                \"affiliation\": \"Sonderforschungsbereich Materiale Textkulturen (933), Teilprojekt C05. Universit\\u00e4t Heidelberg.\"\n",
    "            }\n",
    "        ],\n",
    "        \"datePublished\": \"2019-02-05\",\n",
    "        \"dateModified\": \"2019-06-28\",\n",
    "        \"version\": \"2\",\n",
    "        \"description\": [\n",
    "            \"Diese Datenpublikation entstammt dem Teilprojekt C05 (\\u00bbInschriftlichkeit. Reflexionen materialer Textkultur in der Literatur des 12. bis 17. Jahrhunderts\\u00ab) des Sonderforschungsbereichs 933 (\\u00bbMateriale Textkulturen\\u00ab). Im Rahmen des Teilprojekts werden erz\\u00e4hlte Inschriften in der mittelalterlichen Literatur gesammelt und auf einer Website \\u00f6ffentlich zug\\u00e4nglich gemacht. Diese Datenpublikation enth\\u00e4lt den Datensatz, auf dem diese Website beruht. Das Projekt ist noch nicht abgeschlossen. Als Inschrift z\\u00e4hlt Geschriebenes, das a) nicht zu den g\\u00e4ngigen Formen von Schriftlichkeit geh\\u00f6rt (also nicht mit \\u00fcblichen Hilfsmitteln auf Pergament und Papier geschrieben ist) und/oder Geschriebenes, b) bei dem von einer intensiven Verbindung von Inhalt und Schrifttr\\u00e4ger auszugehen ist. Der Ausgangspunkt der Sammlung sind deutschsprachige erz\\u00e4hlte Inschriften vor 1700. Seit der zweiten Projektphase werden zudem verst\\u00e4rkt erz\\u00e4hlte Inschriften im Altnordischen, Alt- und Mittelenglischen sowie im Mittellateinischen gesammelt. F\\u00fcr eine dritte Projektphase ist eine ausf\\u00fchrlichere Sammlung von mittellateinischen und altfranz\\u00f6sischen Textstellen geplant. Belege aus der altfranz\\u00f6sischen und mittellateinischen Literatur sind in der Datenpublikation bisher nur exemplarisch verzeichnet. Demgegen\\u00fcber d\\u00fcrften die Belege f\\u00fcr die englische und skandinavische Literatur des Mittelalters recht vollst\\u00e4ndig sein. Ebenfalls recht vollst\\u00e4ndig abgedeckt ist die deutschsprachige h\\u00f6fische Literatur des 12.-14. Jahrhunderts. Der Bereich der geistlichen und historiographischen deutschsprachigen Literatur wurde nicht systematisch durchgesehen. Gesammelt wurden die Daten vom Projektleiter (Ludger Lieb), von den ProjektmitarbeiterInnen (Frank Krabbes, Astrid Lembke, Michael R. Ott, Laura Velte), den studentischen Hilfskr\\u00e4ften des Teilprojekts sowie von zwei Gastwissenschaftlerinnen: Katja Schulz (Altnordisch) und Christine Neufeld (Alt- und Mittelenglisch).\"\n",
    "        ],\n",
    "        \"keywords\": [\n",
    "            \"Arts and Humanities\",\n",
    "            \"Literatur\",\n",
    "            \"Mittelalter\",\n",
    "            \"Inschrift\",\n",
    "            \"Materialit\\u00e4t\",\n",
    "            \"Althochdeutsch\",\n",
    "            \"Mittelhochdeutsch\",\n",
    "            \"Altnordisch\",\n",
    "            \"Altenglisch\",\n",
    "            \"Mittelenglisch\",\n",
    "            \"Altfranz\\u00f6sisch\",\n",
    "            \"Mittellatein\"\n",
    "        ],\n",
    "        \"citation\": [\n",
    "            {\n",
    "                \"@type\": \"CreativeWork\",\n",
    "                \"text\": \"Ludger Lieb: Spuren materialer Textkulturen. Neun Thesen zur h\\u00f6fischen Textualit\\u00e4t im Spiegel text\\u00adimmanenter Inschriften. In: Beate Kellner, Ludger Lieb und Stephan M\\u00fcller (Hrsg.): H\\u00f6fische Textualit\\u00e4t. Festschrift f\\u00fcr Peter Strohschneider. (GRM-Beiheft 69) Heidelberg 2015, S. 1-20.\"\n",
    "            }\n",
    "        ],\n",
    "        \"license\": {\n",
    "            \"@type\": \"Dataset\",\n",
    "            \"text\": \"Licensed under a <a href='http://creativecommons.org/licenses/by/4.0/'>Creative Commons Attribution 4.0 International License. &#160;<img src='https://i.creativecommons.org/l/by/4.0/80x15.png' alt='CC by' /></a>\"\n",
    "        },\n",
    "        \"includedInDataCatalog\": {\n",
    "            \"@type\": \"DataCatalog\",\n",
    "            \"name\": \"heiDATA\",\n",
    "            \"url\": \"https://heidata.uni-heidelberg.de\"\n",
    "        },\n",
    "        \"publisher\": {\n",
    "            \"@type\": \"Organization\",\n",
    "            \"name\": \"heiDATA\"\n",
    "        },\n",
    "        \"provider\": {\n",
    "            \"@type\": \"Organization\",\n",
    "            \"name\": \"heiDATA\"\n",
    "        },\n",
    "        \"funder\": [\n",
    "            {\n",
    "                \"@type\": \"Organization\",\n",
    "                \"name\": \"Deutsche Forschungsgemeinschaft\"\n",
    "            }\n",
    "        ],\n",
    "        \"distribution\": [\n",
    "            {\n",
    "                \"@type\": \"DataDownload\",\n",
    "                \"name\": \"sfb933_c05_erzaehlte_inschriften_20190626.csv\",\n",
    "                \"fileFormat\": \"text/csv\",\n",
    "                \"contentSize\": 1613163,\n",
    "                \"@id\": \"https://doi.org/10.11588/data/0HJAJS/IELTOH\",\n",
    "                \"identifier\": \"https://doi.org/10.11588/data/0HJAJS/IELTOH\"\n",
    "            },\n",
    "            {\n",
    "                \"@type\": \"DataDownload\",\n",
    "                \"name\": \"sfb933_c05_erzaehlte_inschriften_beschreibung.tab\",\n",
    "                \"fileFormat\": \"text/tab-separated-values\",\n",
    "                \"contentSize\": 2724,\n",
    "                \"@id\": \"https://doi.org/10.11588/data/0HJAJS/K6EFZY\",\n",
    "                \"identifier\": \"https://doi.org/10.11588/data/0HJAJS/K6EFZY\"\n",
    "            }\n",
    "        ]\n",
    "    }"
   ]
  },
  {
   "cell_type": "code",
   "execution_count": 11,
   "id": "dcaff709-01d3-4a75-8df7-bf7db9aa701a",
   "metadata": {},
   "outputs": [],
   "source": [
    "doc2={\n",
    "        \"@context\": \"http://schema.org\",\n",
    "        \"@type\": \"Dataset\",\n",
    "        \"@id\": \"https://doi.org/10.11588/data/0Z7H1X\",\n",
    "        \"identifier\": \"https://doi.org/10.11588/data/0Z7H1X\",\n",
    "        \"name\": \"Robust logistic regression to narrow down the winner's curse for rare and recessive susceptibility variants [Source Code]\",\n",
    "        \"creator\": [\n",
    "            {\n",
    "                \"name\": \"Kesselmeier, Miriam\",\n",
    "                \"affiliation\": \"Institute of Medical Biometry and Informatics, University Hospital Heidelberg, Heidelberg, Germany and Clinical Epidemiology, Center for Sepsis Control and Care (CSCC), Jena University Hospital, Jena, Germany\"\n",
    "            },\n",
    "            {\n",
    "                \"name\": \"Lorenzo Bermejo, Justo\",\n",
    "                \"affiliation\": \"Institute of Medical Biometry and Informatics, University of Heidelberg, Heidelberg, Germany\"\n",
    "            }\n",
    "        ],\n",
    "        \"author\": [\n",
    "            {\n",
    "                \"name\": \"Kesselmeier, Miriam\",\n",
    "                \"affiliation\": \"Institute of Medical Biometry and Informatics, University Hospital Heidelberg, Heidelberg, Germany and Clinical Epidemiology, Center for Sepsis Control and Care (CSCC), Jena University Hospital, Jena, Germany\"\n",
    "            },\n",
    "            {\n",
    "                \"name\": \"Lorenzo Bermejo, Justo\",\n",
    "                \"affiliation\": \"Institute of Medical Biometry and Informatics, University of Heidelberg, Heidelberg, Germany\"\n",
    "            }\n",
    "        ],\n",
    "        \"datePublished\": \"2018-10-15\",\n",
    "        \"dateModified\": \"2018-10-15\",\n",
    "        \"version\": \"1\",\n",
    "        \"description\": [\n",
    "            \"Logistic regression is the most common technique used for genetic case-control association studies. A disadvantage of standard maximum likelihood estimators of the genotype relative risk (GRR) is their strong dependence on outlier subjects, for example, patients diagnosed at unusually young age. Robust methods are available to constrain outlier influence, but they are scarcely used in genetic studies. This article provides a non-intimidating introduction to robust logistic regression, and investigates its benefits and limitations in genetic association studies. We applied the bounded Huber and extended the R package \\u2018robustbase\\u2019 with the re-descending Hampel functions to down-weight outlier influence. Computer simulations were carried out to assess the type I error rate, mean squared error (MSE) and statistical power according to major characteristics of the genetic study and investigated markers. Simulations were complemented with the analysis of real data. Both standard and robust estimation controlled type I error rates. Standard logistic regression showed the highest power but standard GRR estimates also showed the largest bias and MSE, in particular for associated rare and recessive variants. For illustration, a recessive variant with a true GRR=6.32 and a minor allele frequency=0.05 investigated in a 1000 case/1000 control study by standard logistic regression resulted in power=0.60 and MSE=16.5. The corresponding figures for Huber-based estimation were power=0.51 and MSE=0.53. Overall, Hampel- and Huber-based GRR estimates did not differ much. Robust logistic regression may represent a valuable alternative to standard maximum likelihood estimation when the focus lies on risk prediction rather than identification of susceptibility variants.\"\n",
    "        ],\n",
    "        \"keywords\": [\n",
    "            \"Medicine, Health and Life Sciences\",\n",
    "            \"robust logistic regression\",\n",
    "            \"re-descending Hampel function\",\n",
    "            \"winner\\u2019s curse\",\n",
    "            \"genetic association study\"\n",
    "        ],\n",
    "        \"citation\": [\n",
    "            {\n",
    "                \"@type\": \"CreativeWork\",\n",
    "                \"text\": \"Miriam Kesselmeier, Justo Lorenzo Bermejo; Robust logistic regression to narrow down the winner\\u2019s curse for rare and recessive susceptibility variants, Briefings in Bioinformatics, Volume 18, Issue 6, 1 November 2017, Pages 962\\u2013972\",\n",
    "                \"@id\": \"https://doi.org/10.1093/bib/bbw074\",\n",
    "                \"identifier\": \"https://doi.org/10.1093/bib/bbw074\"\n",
    "            }\n",
    "        ],\n",
    "        \"license\": {\n",
    "            \"@type\": \"Dataset\",\n",
    "            \"text\": \"Source code is licensed under <a href=\\\"https://www.gnu.org/licenses/gpl-3.0.en.html\\\">General Public License v3 (GPL v3)</a>.\"\n",
    "        },\n",
    "        \"includedInDataCatalog\": {\n",
    "            \"@type\": \"DataCatalog\",\n",
    "            \"name\": \"heiDATA\",\n",
    "            \"url\": \"https://heidata.uni-heidelberg.de\"\n",
    "        },\n",
    "        \"publisher\": {\n",
    "            \"@type\": \"Organization\",\n",
    "            \"name\": \"heiDATA\"\n",
    "        },\n",
    "        \"provider\": {\n",
    "            \"@type\": \"Organization\",\n",
    "            \"name\": \"heiDATA\"\n",
    "        },\n",
    "        \"distribution\": [\n",
    "            {\n",
    "                \"@type\": \"DataDownload\",\n",
    "                \"name\": \"Robust logistic regression to narrow down Supplement_3.docx\",\n",
    "                \"fileFormat\": \"application/vnd.openxmlformats-officedocument.wordprocessingml.document\",\n",
    "                \"contentSize\": 90535\n",
    "            },\n",
    "            {\n",
    "                \"@type\": \"DataDownload\",\n",
    "                \"name\": \"Source_Code_Robust_Logistic_Regression_to_Narrow_Down_the_Winners_Curse.pdf\",\n",
    "                \"fileFormat\": \"application/pdf\",\n",
    "                \"contentSize\": 119598\n",
    "            }\n",
    "        ]\n",
    "    }\n"
   ]
  },
  {
   "cell_type": "code",
   "execution_count": 12,
   "id": "cbdd9332-ac1d-45ae-bc60-b18e9cafc21e",
   "metadata": {},
   "outputs": [
    {
     "data": {
      "text/plain": [
       "{'acknowledged': True}"
      ]
     },
     "execution_count": 12,
     "metadata": {},
     "output_type": "execute_result"
    }
   ],
   "source": [
    "es.indices.delete(index=\"testing_maps\")\n"
   ]
  },
  {
   "cell_type": "code",
   "execution_count": 13,
   "id": "7d321782-2845-485c-8096-b54251b09489",
   "metadata": {},
   "outputs": [
    {
     "data": {
      "text/plain": [
       "{'_index': 'testing_maps',\n",
       " '_type': 'metadata',\n",
       " '_id': '1',\n",
       " '_version': 1,\n",
       " 'result': 'created',\n",
       " '_shards': {'total': 2, 'successful': 1, 'failed': 0},\n",
       " '_seq_no': 0,\n",
       " '_primary_term': 1}"
      ]
     },
     "execution_count": 13,
     "metadata": {},
     "output_type": "execute_result"
    }
   ],
   "source": [
    "es.index(index=\"testing_maps\", doc_type=\"metadata\", id=1, body=doc1)\n"
   ]
  },
  {
   "cell_type": "code",
   "execution_count": 14,
   "id": "acc8830c-52cc-4634-aed9-36335a3ae335",
   "metadata": {},
   "outputs": [
    {
     "data": {
      "text/plain": [
       "{'_index': 'testing_maps',\n",
       " '_type': 'metadata',\n",
       " '_id': '2',\n",
       " '_version': 1,\n",
       " 'result': 'created',\n",
       " '_shards': {'total': 2, 'successful': 1, 'failed': 0},\n",
       " '_seq_no': 1,\n",
       " '_primary_term': 1}"
      ]
     },
     "execution_count": 14,
     "metadata": {},
     "output_type": "execute_result"
    }
   ],
   "source": [
    "es.index(index=\"testing_maps\", doc_type=\"metadata\", id=2, body=doc2)\n"
   ]
  },
  {
   "cell_type": "code",
   "execution_count": 15,
   "id": "b8348532-54cc-4710-92ab-e2a1b7ba0915",
   "metadata": {},
   "outputs": [
    {
     "data": {
      "text/plain": [
       "{'testing_maps': {'mappings': {'metadata': {'properties': {'@context': {'type': 'text',\n",
       "      'fields': {'keyword': {'type': 'keyword', 'ignore_above': 256}}},\n",
       "     '@id': {'type': 'text',\n",
       "      'fields': {'keyword': {'type': 'keyword', 'ignore_above': 256}}},\n",
       "     '@type': {'type': 'text',\n",
       "      'fields': {'keyword': {'type': 'keyword', 'ignore_above': 256}}},\n",
       "     'author': {'properties': {'affiliation': {'type': 'text',\n",
       "        'fields': {'keyword': {'type': 'keyword', 'ignore_above': 256}}},\n",
       "       'name': {'type': 'text',\n",
       "        'fields': {'keyword': {'type': 'keyword', 'ignore_above': 256}}}}},\n",
       "     'citation': {'properties': {'@id': {'type': 'text',\n",
       "        'fields': {'keyword': {'type': 'keyword', 'ignore_above': 256}}},\n",
       "       '@type': {'type': 'text',\n",
       "        'fields': {'keyword': {'type': 'keyword', 'ignore_above': 256}}},\n",
       "       'identifier': {'type': 'text',\n",
       "        'fields': {'keyword': {'type': 'keyword', 'ignore_above': 256}}},\n",
       "       'text': {'type': 'text',\n",
       "        'fields': {'keyword': {'type': 'keyword', 'ignore_above': 256}}}}},\n",
       "     'creator': {'properties': {'affiliation': {'type': 'text',\n",
       "        'fields': {'keyword': {'type': 'keyword', 'ignore_above': 256}}},\n",
       "       'name': {'type': 'text',\n",
       "        'fields': {'keyword': {'type': 'keyword', 'ignore_above': 256}}}}},\n",
       "     'dateModified': {'type': 'date'},\n",
       "     'datePublished': {'type': 'date'},\n",
       "     'description': {'type': 'text',\n",
       "      'fields': {'keyword': {'type': 'keyword', 'ignore_above': 256}}},\n",
       "     'distribution': {'properties': {'@id': {'type': 'text',\n",
       "        'fields': {'keyword': {'type': 'keyword', 'ignore_above': 256}}},\n",
       "       '@type': {'type': 'text',\n",
       "        'fields': {'keyword': {'type': 'keyword', 'ignore_above': 256}}},\n",
       "       'contentSize': {'type': 'long'},\n",
       "       'fileFormat': {'type': 'text',\n",
       "        'fields': {'keyword': {'type': 'keyword', 'ignore_above': 256}}},\n",
       "       'identifier': {'type': 'text',\n",
       "        'fields': {'keyword': {'type': 'keyword', 'ignore_above': 256}}},\n",
       "       'name': {'type': 'text',\n",
       "        'fields': {'keyword': {'type': 'keyword', 'ignore_above': 256}}}}},\n",
       "     'funder': {'properties': {'@type': {'type': 'text',\n",
       "        'fields': {'keyword': {'type': 'keyword', 'ignore_above': 256}}},\n",
       "       'name': {'type': 'text',\n",
       "        'fields': {'keyword': {'type': 'keyword', 'ignore_above': 256}}}}},\n",
       "     'identifier': {'type': 'text',\n",
       "      'fields': {'keyword': {'type': 'keyword', 'ignore_above': 256}}},\n",
       "     'includedInDataCatalog': {'properties': {'@type': {'type': 'text',\n",
       "        'fields': {'keyword': {'type': 'keyword', 'ignore_above': 256}}},\n",
       "       'name': {'type': 'text',\n",
       "        'fields': {'keyword': {'type': 'keyword', 'ignore_above': 256}}},\n",
       "       'url': {'type': 'text',\n",
       "        'fields': {'keyword': {'type': 'keyword', 'ignore_above': 256}}}}},\n",
       "     'keywords': {'type': 'text',\n",
       "      'fields': {'keyword': {'type': 'keyword', 'ignore_above': 256}}},\n",
       "     'license': {'properties': {'@type': {'type': 'text',\n",
       "        'fields': {'keyword': {'type': 'keyword', 'ignore_above': 256}}},\n",
       "       'text': {'type': 'text',\n",
       "        'fields': {'keyword': {'type': 'keyword', 'ignore_above': 256}}}}},\n",
       "     'name': {'type': 'text',\n",
       "      'fields': {'keyword': {'type': 'keyword', 'ignore_above': 256}}},\n",
       "     'provider': {'properties': {'@type': {'type': 'text',\n",
       "        'fields': {'keyword': {'type': 'keyword', 'ignore_above': 256}}},\n",
       "       'name': {'type': 'text',\n",
       "        'fields': {'keyword': {'type': 'keyword', 'ignore_above': 256}}}}},\n",
       "     'publisher': {'properties': {'@type': {'type': 'text',\n",
       "        'fields': {'keyword': {'type': 'keyword', 'ignore_above': 256}}},\n",
       "       'name': {'type': 'text',\n",
       "        'fields': {'keyword': {'type': 'keyword', 'ignore_above': 256}}}}},\n",
       "     'version': {'type': 'text',\n",
       "      'fields': {'keyword': {'type': 'keyword', 'ignore_above': 256}}}}}}}}"
      ]
     },
     "execution_count": 15,
     "metadata": {},
     "output_type": "execute_result"
    }
   ],
   "source": [
    "es.indices.get_mapping(index='testing_maps', doc_type=\"metadata\",include_type_name=True,)"
   ]
  },
  {
   "cell_type": "code",
   "execution_count": 16,
   "id": "7882d1f1-d00c-414b-af4e-00fa483b76c8",
   "metadata": {},
   "outputs": [
    {
     "data": {
      "text/plain": [
       "{'acknowledged': True}"
      ]
     },
     "execution_count": 16,
     "metadata": {},
     "output_type": "execute_result"
    }
   ],
   "source": [
    "es.indices.put_mapping(\n",
    "    index=\"testing_maps\",\n",
    "    doc_type=\"metadata\",\n",
    "    include_type_name=True,\n",
    "    body=\n",
    "    {\n",
    "        'properties': {\n",
    "            '@context': {\n",
    "                'type': 'text',\n",
    "                'fields': {\n",
    "                    'keyword': {\n",
    "                        'type': 'keyword', 'ignore_above': 256}}},\n",
    "    '@id': {'type': 'text',\n",
    "     'fields': {'keyword': {'type': 'keyword', 'ignore_above': 256}}},\n",
    "    '@type': {'type': 'text',\n",
    "     'fields': {'keyword': {'type': 'keyword', 'ignore_above': 256}}},\n",
    "    'author': {'properties': {'affiliation': {'type': 'text',\n",
    "       'fields': {'keyword': {'type': 'keyword', 'ignore_above': 256}}},\n",
    "      'name': {'type': 'text',\n",
    "       'fields': {'keyword': {'type': 'keyword', 'ignore_above': 256}}}}},\n",
    "    'citation': {'properties': {'@type': {'type': 'text',\n",
    "       'fields': {'keyword': {'type': 'keyword', 'ignore_above': 256}}},\n",
    "      'text': {'type': 'text',\n",
    "       'fields': {'keyword': {'type': 'keyword', 'ignore_above': 256}}}}},\n",
    "    'creator': {'properties': {'affiliation': {'type': 'text',\n",
    "       'fields': {'keyword': {'type': 'keyword', 'ignore_above': 256}}},\n",
    "      'name': {'type': 'text',\n",
    "       'fields': {'keyword': {'type': 'keyword', 'ignore_above': 256}}}}},\n",
    "    'dateModified': {'type': 'date'},\n",
    "    'datePublished': {'type': 'date'},\n",
    "    'description': {'type': 'text',\n",
    "     'fields': {'keyword': {'type': 'keyword', 'ignore_above': 256}}},\n",
    "    'distribution': {'properties': {'@id': {'type': 'text',\n",
    "       'fields': {'keyword': {'type': 'keyword', 'ignore_above': 256}}},\n",
    "      '@type': {'type': 'text',\n",
    "       'fields': {'keyword': {'type': 'keyword', 'ignore_above': 256}}},\n",
    "      'contentSize': {'type': 'long'},\n",
    "      'fileFormat': {'type': 'text',\n",
    "       'fields': {'keyword': {'type': 'keyword', 'ignore_above': 256}}},\n",
    "      'identifier': {'type': 'text',\n",
    "       'fields': {'keyword': {'type': 'keyword', 'ignore_above': 256}}},\n",
    "      'name': {'type': 'text',\n",
    "       'fields': {'keyword': {'type': 'keyword', 'ignore_above': 256}}}}},\n",
    "    'funder': {'properties': {'@type': {'type': 'text',\n",
    "       'fields': {'keyword': {'type': 'keyword', 'ignore_above': 256}}},\n",
    "      'name': {'type': 'text',\n",
    "       'fields': {'keyword': {'type': 'keyword', 'ignore_above': 256}}}}},\n",
    "    'identifier': {'type': 'text',\n",
    "     'fields': {'keyword': {'type': 'keyword', 'ignore_above': 256}}},\n",
    "    'includedInDataCatalog': {'properties': {'@type': {'type': 'text',\n",
    "       'fields': {'keyword': {'type': 'keyword', 'ignore_above': 256}}},\n",
    "      'name': {'type': 'text',\n",
    "       'fields': {'keyword': {'type': 'keyword', 'ignore_above': 256}}},\n",
    "      'url': {'type': 'text',\n",
    "       'fields': {'keyword': {'type': 'keyword', 'ignore_above': 256}}}}},\n",
    "    'keywords': {'type': 'text',\n",
    "     'fields': {'keyword': {'type': 'keyword', 'ignore_above': 256}}},\n",
    "    'license': {'properties': {'@type': {'type': 'text',\n",
    "       'fields': {'keyword': {'type': 'keyword', 'ignore_above': 256}}},\n",
    "      'text': {'type': 'text',\n",
    "       'fields': {'keyword': {'type': 'keyword', 'ignore_above': 256}}}}},\n",
    "    'name': {'type': 'text',\n",
    "     'fields': {'keyword': {'type': 'keyword', 'ignore_above': 256}}},\n",
    "    'provider': {'properties': {'@type': {'type': 'text',\n",
    "       'fields': {'keyword': {'type': 'keyword', 'ignore_above': 256}}},\n",
    "      'name': {'type': 'text',\n",
    "       'fields': {'keyword': {'type': 'keyword', 'ignore_above': 256}}}}},\n",
    "    'publisher': {'properties': {'@type': {'type': 'text',\n",
    "       'fields': {'keyword': {'type': 'keyword', 'ignore_above': 256}}},\n",
    "      'name': {'type': 'text',\n",
    "       'fields': {'keyword': {'type': 'keyword', 'ignore_above': 256}}}}},\n",
    "    'version': {'type': 'text',\n",
    "     'fields': {'keyword': {'type': 'keyword', 'ignore_above': 256}}}}}\n",
    "    \n",
    ")"
   ]
  },
  {
   "cell_type": "code",
   "execution_count": 20,
   "id": "36766911-5b9b-483e-a682-7eb5e3fa811a",
   "metadata": {},
   "outputs": [],
   "source": [
    "\n",
    "query1={\n",
    "        \"query\": {\n",
    "            \"match\":{\n",
    "              \"@id\": {\n",
    "                \"query\": \"https://doi.org/10.11588/data/0Z7H1X\"\n",
    "              }\n",
    "            }\n",
    "        }\n",
    "    }"
   ]
  },
  {
   "cell_type": "code",
   "execution_count": 21,
   "id": "5a21b2bd-1534-441e-9bc6-94fe57b3a6c3",
   "metadata": {},
   "outputs": [],
   "source": [
    "res=es.search(index=\"testing_maps\", doc_type=\"metadata\",\n",
    "          body=query1)\n",
    "\n"
   ]
  },
  {
   "cell_type": "code",
   "execution_count": 22,
   "id": "a6099913-0944-4c87-8a29-38b6088ea8b3",
   "metadata": {},
   "outputs": [
    {
     "name": "stdout",
     "output_type": "stream",
     "text": [
      "{'took': 80, 'timed_out': False, '_shards': {'total': 1, 'successful': 1, 'skipped': 0, 'failed': 0}, 'hits': {'total': {'value': 2, 'relation': 'eq'}, 'max_score': 1.4224334, 'hits': [{'_index': 'testing_maps', '_type': 'metadata', '_id': '2', '_score': 1.4224334, '_source': {'@context': 'http://schema.org', '@type': 'Dataset', '@id': 'https://doi.org/10.11588/data/0Z7H1X', 'identifier': 'https://doi.org/10.11588/data/0Z7H1X', 'name': \"Robust logistic regression to narrow down the winner's curse for rare and recessive susceptibility variants [Source Code]\", 'creator': [{'name': 'Kesselmeier, Miriam', 'affiliation': 'Institute of Medical Biometry and Informatics, University Hospital Heidelberg, Heidelberg, Germany and Clinical Epidemiology, Center for Sepsis Control and Care (CSCC), Jena University Hospital, Jena, Germany'}, {'name': 'Lorenzo Bermejo, Justo', 'affiliation': 'Institute of Medical Biometry and Informatics, University of Heidelberg, Heidelberg, Germany'}], 'author': [{'name': 'Kesselmeier, Miriam', 'affiliation': 'Institute of Medical Biometry and Informatics, University Hospital Heidelberg, Heidelberg, Germany and Clinical Epidemiology, Center for Sepsis Control and Care (CSCC), Jena University Hospital, Jena, Germany'}, {'name': 'Lorenzo Bermejo, Justo', 'affiliation': 'Institute of Medical Biometry and Informatics, University of Heidelberg, Heidelberg, Germany'}], 'datePublished': '2018-10-15', 'dateModified': '2018-10-15', 'version': '1', 'description': ['Logistic regression is the most common technique used for genetic case-control association studies. A disadvantage of standard maximum likelihood estimators of the genotype relative risk (GRR) is their strong dependence on outlier subjects, for example, patients diagnosed at unusually young age. Robust methods are available to constrain outlier influence, but they are scarcely used in genetic studies. This article provides a non-intimidating introduction to robust logistic regression, and investigates its benefits and limitations in genetic association studies. We applied the bounded Huber and extended the R package ‘robustbase’ with the re-descending Hampel functions to down-weight outlier influence. Computer simulations were carried out to assess the type I error rate, mean squared error (MSE) and statistical power according to major characteristics of the genetic study and investigated markers. Simulations were complemented with the analysis of real data. Both standard and robust estimation controlled type I error rates. Standard logistic regression showed the highest power but standard GRR estimates also showed the largest bias and MSE, in particular for associated rare and recessive variants. For illustration, a recessive variant with a true GRR=6.32 and a minor allele frequency=0.05 investigated in a 1000 case/1000 control study by standard logistic regression resulted in power=0.60 and MSE=16.5. The corresponding figures for Huber-based estimation were power=0.51 and MSE=0.53. Overall, Hampel- and Huber-based GRR estimates did not differ much. Robust logistic regression may represent a valuable alternative to standard maximum likelihood estimation when the focus lies on risk prediction rather than identification of susceptibility variants.'], 'keywords': ['Medicine, Health and Life Sciences', 'robust logistic regression', 're-descending Hampel function', 'winner’s curse', 'genetic association study'], 'citation': [{'@type': 'CreativeWork', 'text': 'Miriam Kesselmeier, Justo Lorenzo Bermejo; Robust logistic regression to narrow down the winner’s curse for rare and recessive susceptibility variants, Briefings in Bioinformatics, Volume 18, Issue 6, 1 November 2017, Pages 962–972', '@id': 'https://doi.org/10.1093/bib/bbw074', 'identifier': 'https://doi.org/10.1093/bib/bbw074'}], 'license': {'@type': 'Dataset', 'text': 'Source code is licensed under <a href=\"https://www.gnu.org/licenses/gpl-3.0.en.html\">General Public License v3 (GPL v3)</a>.'}, 'includedInDataCatalog': {'@type': 'DataCatalog', 'name': 'heiDATA', 'url': 'https://heidata.uni-heidelberg.de'}, 'publisher': {'@type': 'Organization', 'name': 'heiDATA'}, 'provider': {'@type': 'Organization', 'name': 'heiDATA'}, 'distribution': [{'@type': 'DataDownload', 'name': 'Robust logistic regression to narrow down Supplement_3.docx', 'fileFormat': 'application/vnd.openxmlformats-officedocument.wordprocessingml.document', 'contentSize': 90535}, {'@type': 'DataDownload', 'name': 'Source_Code_Robust_Logistic_Regression_to_Narrow_Down_the_Winners_Curse.pdf', 'fileFormat': 'application/pdf', 'contentSize': 119598}]}}, {'_index': 'testing_maps', '_type': 'metadata', '_id': '1', '_score': 0.72928625, '_source': {'@context': 'http://schema.org', '@type': 'Dataset', '@id': 'https://doi.org/10.11588/data/0HJAJS', 'identifier': 'https://doi.org/10.11588/data/0HJAJS', 'name': 'Erzählte Inschriften in der Literatur des Mittelalters (Projektdatenbank)', 'creator': [{'name': 'Ott, Michael R.', 'affiliation': 'Sonderforschungsbereich Materiale Textkulturen (933), Teilprojekt C05. Universität Heidelberg.'}], 'author': [{'name': 'Ott, Michael R.', 'affiliation': 'Sonderforschungsbereich Materiale Textkulturen (933), Teilprojekt C05. Universität Heidelberg.'}], 'datePublished': '2019-02-05', 'dateModified': '2019-06-28', 'version': '2', 'description': ['Diese Datenpublikation entstammt dem Teilprojekt C05 (»Inschriftlichkeit. Reflexionen materialer Textkultur in der Literatur des 12. bis 17. Jahrhunderts«) des Sonderforschungsbereichs 933 (»Materiale Textkulturen«). Im Rahmen des Teilprojekts werden erzählte Inschriften in der mittelalterlichen Literatur gesammelt und auf einer Website öffentlich zugänglich gemacht. Diese Datenpublikation enthält den Datensatz, auf dem diese Website beruht. Das Projekt ist noch nicht abgeschlossen. Als Inschrift zählt Geschriebenes, das a) nicht zu den gängigen Formen von Schriftlichkeit gehört (also nicht mit üblichen Hilfsmitteln auf Pergament und Papier geschrieben ist) und/oder Geschriebenes, b) bei dem von einer intensiven Verbindung von Inhalt und Schriftträger auszugehen ist. Der Ausgangspunkt der Sammlung sind deutschsprachige erzählte Inschriften vor 1700. Seit der zweiten Projektphase werden zudem verstärkt erzählte Inschriften im Altnordischen, Alt- und Mittelenglischen sowie im Mittellateinischen gesammelt. Für eine dritte Projektphase ist eine ausführlichere Sammlung von mittellateinischen und altfranzösischen Textstellen geplant. Belege aus der altfranzösischen und mittellateinischen Literatur sind in der Datenpublikation bisher nur exemplarisch verzeichnet. Demgegenüber dürften die Belege für die englische und skandinavische Literatur des Mittelalters recht vollständig sein. Ebenfalls recht vollständig abgedeckt ist die deutschsprachige höfische Literatur des 12.-14. Jahrhunderts. Der Bereich der geistlichen und historiographischen deutschsprachigen Literatur wurde nicht systematisch durchgesehen. Gesammelt wurden die Daten vom Projektleiter (Ludger Lieb), von den ProjektmitarbeiterInnen (Frank Krabbes, Astrid Lembke, Michael R. Ott, Laura Velte), den studentischen Hilfskräften des Teilprojekts sowie von zwei Gastwissenschaftlerinnen: Katja Schulz (Altnordisch) und Christine Neufeld (Alt- und Mittelenglisch).'], 'keywords': ['Arts and Humanities', 'Literatur', 'Mittelalter', 'Inschrift', 'Materialität', 'Althochdeutsch', 'Mittelhochdeutsch', 'Altnordisch', 'Altenglisch', 'Mittelenglisch', 'Altfranzösisch', 'Mittellatein'], 'citation': [{'@type': 'CreativeWork', 'text': 'Ludger Lieb: Spuren materialer Textkulturen. Neun Thesen zur höfischen Textualität im Spiegel text\\xadimmanenter Inschriften. In: Beate Kellner, Ludger Lieb und Stephan Müller (Hrsg.): Höfische Textualität. Festschrift für Peter Strohschneider. (GRM-Beiheft 69) Heidelberg 2015, S. 1-20.'}], 'license': {'@type': 'Dataset', 'text': \"Licensed under a <a href='http://creativecommons.org/licenses/by/4.0/'>Creative Commons Attribution 4.0 International License. &#160;<img src='https://i.creativecommons.org/l/by/4.0/80x15.png' alt='CC by' /></a>\"}, 'includedInDataCatalog': {'@type': 'DataCatalog', 'name': 'heiDATA', 'url': 'https://heidata.uni-heidelberg.de'}, 'publisher': {'@type': 'Organization', 'name': 'heiDATA'}, 'provider': {'@type': 'Organization', 'name': 'heiDATA'}, 'funder': [{'@type': 'Organization', 'name': 'Deutsche Forschungsgemeinschaft'}], 'distribution': [{'@type': 'DataDownload', 'name': 'sfb933_c05_erzaehlte_inschriften_20190626.csv', 'fileFormat': 'text/csv', 'contentSize': 1613163, '@id': 'https://doi.org/10.11588/data/0HJAJS/IELTOH', 'identifier': 'https://doi.org/10.11588/data/0HJAJS/IELTOH'}, {'@type': 'DataDownload', 'name': 'sfb933_c05_erzaehlte_inschriften_beschreibung.tab', 'fileFormat': 'text/tab-separated-values', 'contentSize': 2724, '@id': 'https://doi.org/10.11588/data/0HJAJS/K6EFZY', 'identifier': 'https://doi.org/10.11588/data/0HJAJS/K6EFZY'}]}}]}}\n"
     ]
    }
   ],
   "source": [
    "print(res)"
   ]
  }
 ],
 "metadata": {
  "kernelspec": {
   "display_name": "Python 3",
   "language": "python",
   "name": "python3"
  },
  "language_info": {
   "codemirror_mode": {
    "name": "ipython",
    "version": 3
   },
   "file_extension": ".py",
   "mimetype": "text/x-python",
   "name": "python",
   "nbconvert_exporter": "python",
   "pygments_lexer": "ipython3",
   "version": "3.9.6"
  }
 },
 "nbformat": 4,
 "nbformat_minor": 5
}
