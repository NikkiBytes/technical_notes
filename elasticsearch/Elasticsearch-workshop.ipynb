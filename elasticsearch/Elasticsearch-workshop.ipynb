{
 "cells": [
  {
   "cell_type": "markdown",
   "id": "f9fa3eb8",
   "metadata": {},
   "source": [
    "# Elasticsearch-workshop \n",
    "From tutorial here: https://github.com/amboulouma/elasticsearch-workshop"
   ]
  },
  {
   "cell_type": "code",
   "execution_count": 5,
   "id": "8150d6d0",
   "metadata": {},
   "outputs": [
    {
     "name": "stdout",
     "output_type": "stream",
     "text": [
      "Requirement already satisfied: elasticsearch in c:\\users\\19802\\anaconda3\\envs\\coding-challenge-sulab\\lib\\site-packages (7.13.4)\n",
      "Requirement already satisfied: urllib3<2,>=1.21.1 in c:\\users\\19802\\anaconda3\\envs\\coding-challenge-sulab\\lib\\site-packages (from elasticsearch) (1.26.6)\n",
      "Requirement already satisfied: certifi in c:\\users\\19802\\anaconda3\\envs\\coding-challenge-sulab\\lib\\site-packages (from elasticsearch) (2021.5.30)\n"
     ]
    }
   ],
   "source": [
    "!python -m pip install elasticsearch"
   ]
  },
  {
   "cell_type": "code",
   "execution_count": 1,
   "id": "8b3c09a0",
   "metadata": {},
   "outputs": [],
   "source": [
    "from elasticsearch import Elasticsearch"
   ]
  },
  {
   "cell_type": "code",
   "execution_count": 24,
   "id": "248c718d",
   "metadata": {},
   "outputs": [],
   "source": [
    "# Elastic search configuation\n",
    "\n",
    "es = Elasticsearch(HOST=\"http://localhost\", PORT=9200)\n",
    "es = Elasticsearch()"
   ]
  },
  {
   "cell_type": "code",
   "execution_count": 8,
   "id": "510537d5",
   "metadata": {
    "scrolled": false
   },
   "outputs": [
    {
     "name": "stderr",
     "output_type": "stream",
     "text": [
      "C:\\Python39\\lib\\site-packages\\elasticsearch\\connection\\base.py:208: ElasticsearchWarning: Elasticsearch built-in security features are not enabled. Without authentication, your cluster could be accessible to anyone. See https://www.elastic.co/guide/en/elasticsearch/reference/7.13/security-minimal-setup.html to enable security.\n",
      "  warnings.warn(message, category=ElasticsearchWarning)\n"
     ]
    },
    {
     "data": {
      "text/plain": [
       "{'acknowledged': True, 'shards_acknowledged': True, 'index': 'first_index'}"
      ]
     },
     "execution_count": 8,
     "metadata": {},
     "output_type": "execute_result"
    }
   ],
   "source": [
    "# Creating index\n",
    "\n",
    "es.indices.create(index=\"first_index\")"
   ]
  },
  {
   "cell_type": "code",
   "execution_count": 9,
   "id": "9c0b0acf",
   "metadata": {},
   "outputs": [
    {
     "data": {
      "text/plain": [
       "True"
      ]
     },
     "execution_count": 9,
     "metadata": {},
     "output_type": "execute_result"
    }
   ],
   "source": [
    "# Looking if the index exists\n",
    "\n",
    "es.indices.exists(index=\"first_index\")"
   ]
  },
  {
   "cell_type": "code",
   "execution_count": 10,
   "id": "6423019b",
   "metadata": {},
   "outputs": [
    {
     "data": {
      "text/plain": [
       "{'acknowledged': True}"
      ]
     },
     "execution_count": 10,
     "metadata": {},
     "output_type": "execute_result"
    }
   ],
   "source": [
    "# Delete index\n",
    "\n",
    "es.indices.delete(index=\"first_index\")"
   ]
  },
  {
   "cell_type": "code",
   "execution_count": 11,
   "id": "723755ad",
   "metadata": {},
   "outputs": [
    {
     "data": {
      "text/plain": [
       "False"
      ]
     },
     "execution_count": 11,
     "metadata": {},
     "output_type": "execute_result"
    }
   ],
   "source": [
    "es.indices.exists(index=\"first_index\")\n"
   ]
  },
  {
   "cell_type": "code",
   "execution_count": 12,
   "id": "1b50de7a",
   "metadata": {},
   "outputs": [
    {
     "name": "stderr",
     "output_type": "stream",
     "text": [
      "C:\\Python39\\lib\\site-packages\\elasticsearch\\connection\\base.py:208: ElasticsearchWarning: [types removal] Specifying types in document index requests is deprecated, use the typeless endpoints instead (/{index}/_doc/{id}, /{index}/_doc, or /{index}/_create/{id}).\n",
      "  warnings.warn(message, category=ElasticsearchWarning)\n"
     ]
    },
    {
     "data": {
      "text/plain": [
       "{'_index': 'cities',\n",
       " '_type': 'places',\n",
       " '_id': '1',\n",
       " '_version': 1,\n",
       " 'result': 'created',\n",
       " '_shards': {'total': 2, 'successful': 1, 'failed': 0},\n",
       " '_seq_no': 0,\n",
       " '_primary_term': 1}"
      ]
     },
     "execution_count": 12,
     "metadata": {},
     "output_type": "execute_result"
    }
   ],
   "source": [
    "# Inserting data\n",
    "\n",
    "doc_1 = {\"city\": \"Paris\", \"country\": \"France\"}\n",
    "doc_2 = {\"city\": \"Vienna\", \"country\": \"Austria\"}\n",
    "doc_3 = {\"city\": \"London\", \"country\": \"England\"}\n",
    "\n",
    "es.index(index=\"cities\", doc_type=\"places\", id=1, body=doc_1)"
   ]
  },
  {
   "cell_type": "code",
   "execution_count": 13,
   "id": "dc9c6cb8",
   "metadata": {},
   "outputs": [
    {
     "data": {
      "text/plain": [
       "{'_index': 'cities',\n",
       " '_type': 'places',\n",
       " '_id': '2',\n",
       " '_version': 1,\n",
       " 'result': 'created',\n",
       " '_shards': {'total': 2, 'successful': 1, 'failed': 0},\n",
       " '_seq_no': 1,\n",
       " '_primary_term': 1}"
      ]
     },
     "execution_count": 13,
     "metadata": {},
     "output_type": "execute_result"
    }
   ],
   "source": [
    "es.index(index=\"cities\", doc_type=\"places\", id=2, body=doc_2)\n"
   ]
  },
  {
   "cell_type": "code",
   "execution_count": 14,
   "id": "d99345ad",
   "metadata": {},
   "outputs": [
    {
     "name": "stderr",
     "output_type": "stream",
     "text": [
      "C:\\Python39\\lib\\site-packages\\elasticsearch\\connection\\base.py:208: ElasticsearchWarning: [types removal] Specifying types in document get requests is deprecated, use the /{index}/_doc/{id} endpoint instead.\n",
      "  warnings.warn(message, category=ElasticsearchWarning)\n"
     ]
    },
    {
     "data": {
      "text/plain": [
       "{'_index': 'cities',\n",
       " '_type': 'places',\n",
       " '_id': '1',\n",
       " '_version': 1,\n",
       " '_seq_no': 0,\n",
       " '_primary_term': 1,\n",
       " 'found': True,\n",
       " '_source': {'city': 'Paris', 'country': 'France'}}"
      ]
     },
     "execution_count": 14,
     "metadata": {},
     "output_type": "execute_result"
    }
   ],
   "source": [
    "# Getting the data\n",
    "\n",
    "res = es.get(index=\"cities\", doc_type=\"places\", id=1)\n",
    "\n",
    "res"
   ]
  },
  {
   "cell_type": "markdown",
   "id": "e79959a9",
   "metadata": {},
   "source": [
    "## Search query and matching documents\n"
   ]
  },
  {
   "cell_type": "code",
   "execution_count": 15,
   "id": "c5765fc3",
   "metadata": {},
   "outputs": [
    {
     "data": {
      "text/plain": [
       "{'_index': 'english',\n",
       " '_type': 'sentences',\n",
       " '_id': '2',\n",
       " '_version': 1,\n",
       " 'result': 'created',\n",
       " '_shards': {'total': 2, 'successful': 1, 'failed': 0},\n",
       " '_seq_no': 1,\n",
       " '_primary_term': 1}"
      ]
     },
     "execution_count": 15,
     "metadata": {},
     "output_type": "execute_result"
    }
   ],
   "source": [
    "# Creating our data\n",
    "\n",
    "doc_1 = {\"sentence\":\"Hack COVID-19 is amazing!\"}\n",
    "doc_2 = {\"sentence\":\"Hack-Quarantine is stunning!\"}\n",
    "\n",
    "es.index(index=\"english\", doc_type=\"sentences\", id=1, body=doc_1)\n",
    "es.index(index=\"english\", doc_type=\"sentences\", id=2, body=doc_2)"
   ]
  },
  {
   "cell_type": "code",
   "execution_count": 16,
   "id": "b1f51d1e",
   "metadata": {},
   "outputs": [
    {
     "data": {
      "text/plain": [
       "{'took': 69,\n",
       " 'timed_out': False,\n",
       " '_shards': {'total': 1, 'successful': 1, 'skipped': 0, 'failed': 0},\n",
       " 'hits': {'total': {'value': 2, 'relation': 'eq'},\n",
       "  'max_score': None,\n",
       "  'hits': []}}"
      ]
     },
     "execution_count": 16,
     "metadata": {},
     "output_type": "execute_result"
    }
   ],
   "source": [
    "# Creating our query\n",
    "\n",
    "## Match query \n",
    "\n",
    "body = {\n",
    "    \"from\":0,\n",
    "    \"size\":0,\n",
    "    \"query\": {\n",
    "        \"match\": {\n",
    "            \"sentence\":\"Hack\"\n",
    "        }\n",
    "    }\n",
    "}\n",
    "\n",
    "res = es.search(index=\"english\", body=body)\n",
    "res"
   ]
  },
  {
   "cell_type": "code",
   "execution_count": 17,
   "id": "a5e49b8f",
   "metadata": {},
   "outputs": [
    {
     "data": {
      "text/plain": [
       "{'took': 63,\n",
       " 'timed_out': False,\n",
       " '_shards': {'total': 1, 'successful': 1, 'skipped': 0, 'failed': 0},\n",
       " 'hits': {'total': {'value': 2, 'relation': 'eq'},\n",
       "  'max_score': 0.9171577,\n",
       "  'hits': [{'_index': 'english',\n",
       "    '_type': 'sentences',\n",
       "    '_id': '2',\n",
       "    '_score': 0.9171577,\n",
       "    '_source': {'sentence': 'Hack-Quarantine is stunning!'}},\n",
       "   {'_index': 'english',\n",
       "    '_type': 'sentences',\n",
       "    '_id': '1',\n",
       "    '_score': 0.17439456,\n",
       "    '_source': {'sentence': 'Hack COVID-19 is amazing!'}}]}}"
      ]
     },
     "execution_count": 17,
     "metadata": {},
     "output_type": "execute_result"
    }
   ],
   "source": [
    "body = {\n",
    "    \"from\":0,\n",
    "    \"size\":2,\n",
    "    \"query\": {\n",
    "        \"match\": {\n",
    "            \"sentence\":\"Hack Quarantine\"\n",
    "        }\n",
    "    }\n",
    "}\n",
    "\n",
    "res = es.search(index=\"english\", body=body)\n",
    "res"
   ]
  },
  {
   "cell_type": "code",
   "execution_count": 18,
   "id": "f076601b",
   "metadata": {},
   "outputs": [
    {
     "data": {
      "text/plain": [
       "{'took': 20,\n",
       " 'timed_out': False,\n",
       " '_shards': {'total': 1, 'successful': 1, 'skipped': 0, 'failed': 0},\n",
       " 'hits': {'total': {'value': 1, 'relation': 'eq'},\n",
       "  'max_score': 0.91715777,\n",
       "  'hits': [{'_index': 'english',\n",
       "    '_type': 'sentences',\n",
       "    '_id': '2',\n",
       "    '_score': 0.91715777,\n",
       "    '_source': {'sentence': 'Hack-Quarantine is stunning!'}}]}}"
      ]
     },
     "execution_count": 18,
     "metadata": {},
     "output_type": "execute_result"
    }
   ],
   "source": [
    "# match_phrase \n",
    "\n",
    "body = {\n",
    "    \"from\":0,\n",
    "    \"size\":1,\n",
    "    \"query\": {\n",
    "        \"match_phrase\": {\n",
    "            \"sentence\":\"Hack Quarantine\"\n",
    "        }\n",
    "    }\n",
    "}\n",
    "\n",
    "res = es.search(index=\"english\", body=body)\n",
    "res"
   ]
  },
  {
   "cell_type": "markdown",
   "id": "e74a0c26",
   "metadata": {},
   "source": [
    "## Combining queries\n"
   ]
  },
  {
   "cell_type": "code",
   "execution_count": 20,
   "id": "936d1992",
   "metadata": {},
   "outputs": [
    {
     "data": {
      "text/plain": [
       "{'took': 6,\n",
       " 'timed_out': False,\n",
       " '_shards': {'total': 1, 'successful': 1, 'skipped': 0, 'failed': 0},\n",
       " 'hits': {'total': {'value': 1, 'relation': 'eq'},\n",
       "  'max_score': 0.19100355,\n",
       "  'hits': [{'_index': 'english',\n",
       "    '_type': 'sentences',\n",
       "    '_id': '2',\n",
       "    '_score': 0.19100355,\n",
       "    '_source': {'sentence': 'Hack-Quarantine is stunning!'}}]}}"
      ]
     },
     "execution_count": 20,
     "metadata": {},
     "output_type": "execute_result"
    }
   ],
   "source": [
    "# must, must_not and should\n",
    " \n",
    "body = {\n",
    "    \"from\":0,\n",
    "    \"size\":2,\n",
    "    \"query\": {\n",
    "        \"bool\": {\n",
    "            \"must_not\": {\n",
    "                \"match\": {\n",
    "                    \"sentence\":\"COVID-19\"\n",
    "                }\n",
    "            },\n",
    "            \"should\": {\n",
    "                \"match\": {\n",
    "                    \"sentence\": \"Hack\"\n",
    "                }\n",
    "            }\n",
    "        }\n",
    "    }\n",
    "}\n",
    "\n",
    "res = es.search(index=\"english\", body=body)\n",
    "res"
   ]
  },
  {
   "cell_type": "markdown",
   "id": "25bf05f8",
   "metadata": {},
   "source": [
    "## Regular Expressions Queries\n"
   ]
  },
  {
   "cell_type": "code",
   "execution_count": 21,
   "id": "13518ddc",
   "metadata": {},
   "outputs": [
    {
     "data": {
      "text/plain": [
       "{'_index': 'english',\n",
       " '_type': 'sentences',\n",
       " '_id': '1',\n",
       " '_version': 2,\n",
       " 'result': 'updated',\n",
       " '_shards': {'total': 2, 'successful': 1, 'failed': 0},\n",
       " '_seq_no': 2,\n",
       " '_primary_term': 1}"
      ]
     },
     "execution_count": 21,
     "metadata": {},
     "output_type": "execute_result"
    }
   ],
   "source": [
    "# Updating our data\n",
    "\n",
    "doc_1 = {\"sentence\":\"Hack COVID-19 is amazing!\"}\n",
    "doc_2 = {\"sentence\":\"Hack-Quarantine is stunning!\"}\n",
    "doc_3 = {\"sentence\":\"Hack nCov is great!\"}\n",
    "\n",
    "es.index(index=\"english\", doc_type=\"sentences\", id=1, body=doc_1)"
   ]
  },
  {
   "cell_type": "code",
   "execution_count": 22,
   "id": "91339ffc",
   "metadata": {},
   "outputs": [
    {
     "data": {
      "text/plain": [
       "{'_index': 'english',\n",
       " '_type': 'sentences',\n",
       " '_id': '2',\n",
       " '_version': 2,\n",
       " 'result': 'updated',\n",
       " '_shards': {'total': 2, 'successful': 1, 'failed': 0},\n",
       " '_seq_no': 3,\n",
       " '_primary_term': 1}"
      ]
     },
     "execution_count": 22,
     "metadata": {},
     "output_type": "execute_result"
    }
   ],
   "source": [
    "es.index(index=\"english\", doc_type=\"sentences\", id=2, body=doc_2)\n"
   ]
  },
  {
   "cell_type": "code",
   "execution_count": 23,
   "id": "a5222b23",
   "metadata": {},
   "outputs": [
    {
     "data": {
      "text/plain": [
       "{'took': 524,\n",
       " 'timed_out': False,\n",
       " '_shards': {'total': 1, 'successful': 1, 'skipped': 0, 'failed': 0},\n",
       " 'hits': {'total': {'value': 2, 'relation': 'eq'},\n",
       "  'max_score': 1.0,\n",
       "  'hits': [{'_index': 'english',\n",
       "    '_type': 'sentences',\n",
       "    '_id': '1',\n",
       "    '_score': 1.0,\n",
       "    '_source': {'sentence': 'Hack COVID-19 is amazing!'}},\n",
       "   {'_index': 'english',\n",
       "    '_type': 'sentences',\n",
       "    '_id': '2',\n",
       "    '_score': 1.0,\n",
       "    '_source': {'sentence': 'Hack-Quarantine is stunning!'}}]}}"
      ]
     },
     "execution_count": 23,
     "metadata": {},
     "output_type": "execute_result"
    }
   ],
   "source": [
    "# regexp query\n",
    "\n",
    "body = {\n",
    "    \"from\":0,\n",
    "    \"size\":3,\n",
    "    \"query\": {\n",
    "        \"regexp\": {\n",
    "            \"sentence\":\".*\"\n",
    "        }\n",
    "    }\n",
    "}\n",
    "\n",
    "res = es.search(index=\"english\", body=body)\n",
    "res"
   ]
  },
  {
   "cell_type": "markdown",
   "id": "a8d327d0",
   "metadata": {},
   "source": [
    "https://www.youtube.com/watch?v=ma3BC8aPBfE  \n",
    "https://stackoverflow.com/questions/56833936/connection-error-while-using-the-python-elasticsearch  \n",
    "https://www.elastic.co/guide/en/elastic-stack-get-started/current/get-started-elastic-stack.html  \n"
   ]
  },
  {
   "cell_type": "markdown",
   "id": "c344150a",
   "metadata": {},
   "source": [
    "---"
   ]
  }
 ],
 "metadata": {
  "kernelspec": {
   "display_name": "Python 3",
   "language": "python",
   "name": "python3"
  },
  "language_info": {
   "codemirror_mode": {
    "name": "ipython",
    "version": 3
   },
   "file_extension": ".py",
   "mimetype": "text/x-python",
   "name": "python",
   "nbconvert_exporter": "python",
   "pygments_lexer": "ipython3",
   "version": "3.9.6"
  }
 },
 "nbformat": 4,
 "nbformat_minor": 5
}
