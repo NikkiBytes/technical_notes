{
 "cells": [
  {
   "cell_type": "markdown",
   "source": [
    "# Elasticsearch"
   ],
   "metadata": {}
  },
  {
   "cell_type": "markdown",
   "source": [
    "## Filter Context  \n",
    "- \"Does this document match this query clause?\" (yes / no)  \n",
    "    Is the `species` field set to `\"cat\"`?  \n",
    "    Is the `month` fal with the range of January to June?\n",
    "    "
   ],
   "metadata": {}
  }
 ],
 "metadata": {
  "orig_nbformat": 4,
  "language_info": {
   "name": "python"
  }
 },
 "nbformat": 4,
 "nbformat_minor": 2
}