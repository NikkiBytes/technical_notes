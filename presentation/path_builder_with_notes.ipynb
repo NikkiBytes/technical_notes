{
 "cells": [
  {
   "cell_type": "code",
   "execution_count": 1,
   "source": [
    "import networkx as nx\n",
    "import warnings\n",
    "from itertools import islice\n",
    "# import tqdm\n",
    "# import matplotlib.pyplot as plt\n",
    "# import pygraphviz as pgv\n",
    "# from networkx.drawing.nx_agraph import graphviz_layout\n",
    "from elasticsearch import Elasticsearch\n",
    "from elasticsearch_dsl import connections\n",
    "\n",
    "warnings.filterwarnings('ignore')\n"
   ],
   "outputs": [],
   "metadata": {}
  },
  {
   "cell_type": "markdown",
   "source": [
    "---"
   ],
   "metadata": {}
  },
  {
   "cell_type": "markdown",
   "source": [
    "### `generate_netowrkx_graph()` \n",
    "\n",
    "`DiGraph`: holds directed edges. Self loops are allowed but **multiple (parallel) edges are not.**    \n",
    "<br>  \n",
    "`MultiDiGraph`: a **directed graph** class **that can store multi-edges**.  \n",
    "* Multi-edges are multiple edges between two nodes.  \n",
    "* Each edge can hold optional data or attributes.  \n",
    "* A MultiDiGraph holds directed edges. Self loops are allowed."
   ],
   "metadata": {}
  },
  {
   "cell_type": "markdown",
   "source": [
    "Methods -"
   ],
   "metadata": {}
  },
  {
   "cell_type": "code",
   "execution_count": 16,
   "source": [
    "def get_all_via_scan(index=None, size=10000, query_data=None, scroll='1m'):\n",
    "    from elasticsearch.helpers import scan\n",
    "    from elasticsearch_dsl import connections\n",
    "\n",
    "    es = connections.get_connection()\n",
    "\n",
    "    if not index:\n",
    "        index = \"smartapi_metakg_docs_consolidated\"\n",
    "\n",
    "    # Make the initial scan request\n",
    "    response = scan(es, query=query_data, index=index, size=size, scroll=scroll)\n",
    "\n",
    "    for hit in response:\n",
    "        yield hit\n",
    "\n",
    "\n",
    "def generate_networkx_graph(index, graph_type=\"simple_digraph\", edges=False, query_data=None):\n",
    "    # # Create a new directed graph\n",
    "    if graph_type == \"simple_digraph\":\n",
    "        G = nx.DiGraph()\n",
    "    elif graph_type == \"multi_digraph\":\n",
    "        G = nx.MultiDiGraph()\n",
    "\n",
    "    # Scroll through search results\n",
    "    for hit in get_all_via_scan(size=1000, query_data=query_data, index=index): \n",
    "        # Extract subject, object, and predicate from hit\n",
    "        _subject = hit['_source']['subject']\n",
    "        _object = hit['_source']['object']\n",
    "        _predicate = hit['_source']['predicate']\n",
    "        \n",
    "        # Add edge to graph, with predicate as an attribute\n",
    "        if edges is True:\n",
    "            G.add_edge(_subject, _object, predicate=_predicate)\n",
    "        else:\n",
    "            G.add_edge(_subject, _object)\n",
    "\n",
    "    return G\n",
    "\n",
    "def graph_inspection(G):\n",
    "    # Get and print the number of nodes and edges\n",
    "    num_nodes = G.number_of_nodes()\n",
    "    num_edges = G.number_of_edges()\n",
    "    graph_type = type(G)\n",
    "    \n",
    "    print(f\"Graph type: {graph_type}\")\n",
    "    print(f\"Number of nodes: {num_nodes}\")\n",
    "    print(f\"Number of edges: {num_edges}\\n\")\n",
    "\n",
    "    # Define the slice indices\n",
    "    start_index = 55\n",
    "    end_index = 60\n",
    "\n",
    "    # Print a slice of nodes\n",
    "    print(\"Nodes:\")\n",
    "    for node in islice(G.nodes(), start_index, end_index):\n",
    "        print(node)\n",
    "\n",
    "    # Print a slice of edges and their attributes\n",
    "    print(\"\\nEdges:\")\n",
    "    edges = list(G.edges(data=True))\n",
    "    for source, target, edge_data in islice(edges, start_index, end_index):\n",
    "        predicate = edge_data.get(\"predicate\", \"No predicate\")\n",
    "        print(f\"Edge: {source} -> {target}, Predicate={predicate}\")"
   ],
   "outputs": [],
   "metadata": {}
  },
  {
   "cell_type": "markdown",
   "source": [
    "Initialize Index -"
   ],
   "metadata": {}
  },
  {
   "cell_type": "code",
   "execution_count": 17,
   "source": [
    "es = Elasticsearch()\n",
    "index = \"smartapi_metakg_docs_consolidated\"\n",
    "connections.create_connection(hosts=['localhost'])\n"
   ],
   "outputs": [
    {
     "output_type": "execute_result",
     "data": {
      "text/plain": [
       "<Elasticsearch([{'host': 'localhost'}])>"
      ]
     },
     "metadata": {},
     "execution_count": 17
    }
   ],
   "metadata": {}
  },
  {
   "cell_type": "markdown",
   "source": [
    "Basic `digraph`, nodes only (graph1)"
   ],
   "metadata": {}
  },
  {
   "cell_type": "code",
   "execution_count": 5,
   "source": [
    "query_data = {\n",
    "    'q': 'api.name:BTE'\n",
    "}"
   ],
   "outputs": [],
   "metadata": {}
  },
  {
   "cell_type": "code",
   "execution_count": 6,
   "source": [
    "G = generate_networkx_graph(index, query_data=query_data)\n",
    "graph_inspection(G)"
   ],
   "outputs": [
    {
     "output_type": "stream",
     "name": "stdout",
     "text": [
      "Graph type: <class 'networkx.classes.digraph.DiGraph'>\n",
      "Number of nodes: 43\n",
      "Number of edges: 665\n",
      "\n",
      "Nodes:\n",
      "\n",
      "Edges:\n",
      "Edge: CellularComponent -> Procedure, Predicate=No predicate\n",
      "Edge: CellularComponent -> PathologicalProcess, Predicate=No predicate\n",
      "Edge: CellularComponent -> MolecularActivity, Predicate=No predicate\n",
      "Edge: CellularComponent -> PhysiologicalProcess, Predicate=No predicate\n",
      "Edge: GrossAnatomicalStructure -> Cell, Predicate=No predicate\n"
     ]
    }
   ],
   "metadata": {}
  },
  {
   "cell_type": "markdown",
   "source": [
    "Basic `digraph`, with edges (graph2)"
   ],
   "metadata": {}
  },
  {
   "cell_type": "code",
   "execution_count": 7,
   "source": [
    "G_edges_ = generate_networkx_graph(index, \"simple_digraph\", True, query_data=query_data)\n",
    "graph_inspection(G_edges_)"
   ],
   "outputs": [
    {
     "output_type": "stream",
     "name": "stdout",
     "text": [
      "Graph type: <class 'networkx.classes.digraph.DiGraph'>\n",
      "Number of nodes: 43\n",
      "Number of edges: 665\n",
      "\n",
      "Nodes:\n",
      "\n",
      "Edges:\n",
      "Edge: CellularComponent -> Procedure, Predicate=location_of\n",
      "Edge: CellularComponent -> PathologicalProcess, Predicate=disrupted_by\n",
      "Edge: CellularComponent -> MolecularActivity, Predicate=location_of\n",
      "Edge: CellularComponent -> PhysiologicalProcess, Predicate=affects\n",
      "Edge: GrossAnatomicalStructure -> Cell, Predicate=has_part\n"
     ]
    }
   ],
   "metadata": {}
  },
  {
   "cell_type": "markdown",
   "source": [
    "`multi-digraph`, with edges (graph3)"
   ],
   "metadata": {}
  },
  {
   "cell_type": "code",
   "execution_count": 8,
   "source": [
    "G_edges = generate_networkx_graph(index, \"multi_digraph\", True, query_data=query_data)\n",
    "graph_inspection(G_edges)"
   ],
   "outputs": [
    {
     "output_type": "stream",
     "name": "stdout",
     "text": [
      "Graph type: <class 'networkx.classes.multidigraph.MultiDiGraph'>\n",
      "Number of nodes: 43\n",
      "Number of edges: 1827\n",
      "\n",
      "Nodes:\n",
      "\n",
      "Edges:\n",
      "Edge: ChemicalEntity -> PhenotypicFeature, Predicate=related_to\n",
      "Edge: ChemicalEntity -> PhenotypicFeature, Predicate=predisposes\n",
      "Edge: ChemicalEntity -> Polypeptide, Predicate=affects\n",
      "Edge: ChemicalEntity -> Polypeptide, Predicate=interacts_with\n",
      "Edge: ChemicalEntity -> Polypeptide, Predicate=subclass_of\n"
     ]
    }
   ],
   "metadata": {}
  },
  {
   "cell_type": "markdown",
   "source": [
    "---"
   ],
   "metadata": {}
  },
  {
   "cell_type": "markdown",
   "source": [
    "### `all_simple_paths(G, source, target, cutoff=None)`  \n",
    "Generate all simple paths in the graph G from source to target. A simple path is a path with no repeated nodes.  \n",
    "*Note*: Each pair of nodes can be connected by multiple directed edges, possibly in both directions.\n",
    "When computing simple paths for a `MultiDiGraph`, the function will consider all possible directed edges between nodes. So, if there are multiple edges from node A to node B, the paths generated can be different based on which edge is considered in the path.  \n",
    "<br>\n",
    "The main difference is that with a `MultiDiGraph`, there can be multiple simple paths between two nodes that follow the exact same sequence of nodes but traverse different edges. This scenario is not possible in a simple `DiGraph`.  \n",
    "<br>\n",
    "** it's crucial to note that `nx.all_simple_paths()` still returns paths without cycles for both types of graphs. The difference is purely based on the number and directionality of edges between nodes in the graph structure.\n",
    "\n",
    "<br>\n",
    "<br>\n",
    "\n",
    "#### `has_path(G, source, target)`\n",
    "Returns True if G has a path from source to target.\n",
    "\n"
   ],
   "metadata": {}
  },
  {
   "cell_type": "code",
   "execution_count": 9,
   "source": [
    "# Define the function to find all simple paths and check if a path exsists\n",
    "def return_all_simple_paths(G, _source, _target, _cutoff=2):\n",
    "    # check for existence b/w paths -- recommended to use for large graphs\n",
    "    if nx.has_path(G, _source, _target):\n",
    "        return list(nx.all_simple_paths(G, source=_source, target=_target, cutoff=_cutoff))\n",
    "    else:\n",
    "        return []\n",
    "\n",
    "def display_pathway_results(path_list, start_index, end_index, edges=False):\n",
    "    # Iterate through a portion of the edges and view their attributes\n",
    "    portion_of_paths = islice(path_list, start_index, end_index)\n",
    "    \n",
    "    # Iterate through the edges and view their attributes\n",
    "    print(f\"[INFO] Pathways for source:{_source} & target:{_target} with cutoff:{_cutoff}\")\n",
    "    print(f\"[INFO] Total pathways extracted - {len(path_list)}\\n\")\n",
    "\n",
    "    for i, path in enumerate(portion_of_paths):\n",
    "        print(f\"Path {i}:\", \" -> \".join(path))\n",
    "\n",
    "        if edges:\n",
    "            # Iterate through the edges in the path\n",
    "            for i in range(len(path) - 1):\n",
    "                source_node = path[i]\n",
    "                target_node = path[i + 1]\n",
    "                \n",
    "                # Get edge attributes for the edge between source and target nodes\n",
    "                edge_data = G_edges.get_edge_data(source_node, target_node)\n",
    "                # if edge_data:\n",
    "                #     for edge_key, edge_info in edge_data.items():\n",
    "                #         predicate = edge_info.get(\"predicate\", \"No predicate\")\n",
    "                #         print(f\"Edge from {source_node} to {target_node} (Key: {edge_key}): Predicate={predicate}\")\n",
    "                # else:\n",
    "                #     print(f\"No edge between {source_node} and {target_node}\")\n",
    "\n",
    "                # Extract 'predicate' values using a list comprehension\n",
    "                predicate_values = [data['predicate'] for data in edge_data.values()]\n",
    "                # Print the list of 'predicate' values\n",
    "                print(f'\\n * {source_node} -> {target_node} * \\nEdges: {\", \".join(predicate_values)}')\n",
    "\n",
    "            print()\n",
    "            print(\"-\"* 80)\n",
    "            print()"
   ],
   "outputs": [],
   "metadata": {}
  },
  {
   "cell_type": "markdown",
   "source": [
    "Set resusable testing variables"
   ],
   "metadata": {}
  },
  {
   "cell_type": "code",
   "execution_count": 14,
   "source": [
    "_source=\"ComplexMolecularMixture\"\n",
    "_target=\"DiseaseOrPhenotypicFeature\"\n",
    "\n",
    "# Define the range of edges you want to iterate through\n",
    "start_index = 0  # Start index\n",
    "end_index = 10 #int(G_edges.number_of_edges()/1000)  "
   ],
   "outputs": [],
   "metadata": {}
  },
  {
   "cell_type": "markdown",
   "source": [
    "Graph 1 - "
   ],
   "metadata": {}
  },
  {
   "cell_type": "code",
   "execution_count": 13,
   "source": [
    "_cutoff=3\n",
    "all_simple_paths_G = return_all_simple_paths(G, _source, _target, _cutoff)\n",
    "display_pathway_results(all_simple_paths_G, 0, 5)"
   ],
   "outputs": [
    {
     "output_type": "stream",
     "name": "stdout",
     "text": [
      "[INFO] Pathways for source:ComplexMolecularMixture & target:DiseaseOrPhenotypicFeature with cutoff:3\n",
      "[INFO] Total pathways extracted - 83\n",
      "\n",
      "Path 0: ComplexMolecularMixture -> Disease -> SmallMolecule -> DiseaseOrPhenotypicFeature\n",
      "Path 1: ComplexMolecularMixture -> Disease -> ChemicalEntity -> DiseaseOrPhenotypicFeature\n",
      "Path 2: ComplexMolecularMixture -> Disease -> MolecularMixture -> DiseaseOrPhenotypicFeature\n",
      "Path 3: ComplexMolecularMixture -> Disease -> Drug -> DiseaseOrPhenotypicFeature\n",
      "Path 4: ComplexMolecularMixture -> PhenotypicFeature -> SmallMolecule -> DiseaseOrPhenotypicFeature\n"
     ]
    }
   ],
   "metadata": {}
  },
  {
   "cell_type": "code",
   "execution_count": 29,
   "source": [
    "_cutoff=5\n",
    "all_simple_paths_G_edges_ = return_all_simple_paths(G_edges_, _source, _target, _cutoff)\n"
   ],
   "outputs": [],
   "metadata": {}
  },
  {
   "cell_type": "code",
   "execution_count": 30,
   "source": [
    "display_pathway_results(all_simple_paths_G_edges_, 0, 5, edges=True)"
   ],
   "outputs": [
    {
     "output_type": "stream",
     "name": "stdout",
     "text": [
      "[INFO] Pathways for source:ChemicalEntity & target:PlanetaryEntity with cutoff:5\n",
      "[INFO] Total pathways extracted - 20762602\n",
      "\n",
      "Path 0: ChemicalEntity -> PlanetaryEntity\n",
      "\n",
      " * ChemicalEntity -> PlanetaryEntity * \n",
      "Edges: negatively_regulates, participates_in, positively_regulates, actively_involved_in, actively_involves, acts_upstream_of_negative_effect, acts_upstream_of_or_within_negative_effect, acts_upstream_of_or_within, acts_upstream_of_or_within_positive_effect, acts_upstream_of, acts_upstream_of_positive_effect, affects, capable_of, enables, regulates, related_to, process_negatively_regulates_process, has_active_ingredient, primarily_composed_of, temporally_related_to, associated_with, process_regulates_process, similar_to, catalyzes, overlaps, affects_response_to, process_positively_regulates_process, composed_primarily_of, has_upstream_actor, exacerbates, increases_response_to, disrupts, is_output_of, affected_by, treats, is_substrate_of, part_of, has_capability, preceded_by, has_participant, is_input_of, decreases_response_to, has_part, precedes, interacts_with, ameliorates\n",
      "\n",
      "--------------------------------------------------------------------------------\n",
      "\n",
      "Path 1: ChemicalEntity -> ThingWithTaxon -> Protein -> NamedThing -> Occurrent -> PlanetaryEntity\n",
      "\n",
      " * ChemicalEntity -> ThingWithTaxon * \n",
      "Edges: negatively_regulates, occurs_in, overlaps, participates_in, part_of, physically_interacts_with, positively_regulates, subclass_of, active_in, actively_involved_in, actively_involves, acts_upstream_of_negative_effect, acts_upstream_of_or_within_negative_effect, acts_upstream_of_or_within_positive_effect, acts_upstream_of_or_within, acts_upstream_of_positive_effect, acts_upstream_of, affects_activity_of, affects, capable_of, caused_by, coexists_with, enabled_by, enables, entity_negatively_regulates_entity, entity_positively_regulates_entity, entity_regulates_entity, has_output, has_participant, has_part, interacts_with, located_in, molecularly_interacts_with, related_to, preceded_by, precedes, regulates, temporally_related_to, disrupts, exacerbates, increases_response_to, affected_by, treats, causes, is_substrate_of, has_capability, contributes_to, has_input, is_input_of, decreases_response_to, associated_with, has_substrate, ameliorates, genetically_interacts_with, process_negatively_regulates_process, has_active_ingredient, has_catalyst, primarily_composed_of, expressed_in, process_regulates_process, similar_to, catalyzes, is_output_of, affects_response_to, process_positively_regulates_process, composed_primarily_of, has_upstream_actor\n",
      "\n",
      " * ThingWithTaxon -> Protein * \n",
      "Edges: has_part, overlaps, subclass_of, related_to, physically_interacts_with, preceded_by, precedes, temporally_related_to, affects_activity_of, affects, caused_by, enabled_by, entity_negatively_regulates_entity, entity_positively_regulates_entity, entity_regulates_entity, has_participant, interacts_with, location_of, molecularly_interacts_with, is_input_of, genetically_interacts_with, actively_involves, has_active_ingredient, has_catalyst, primarily_composed_of, actively_involved_in, process_regulates_process, similar_to, catalyzes, is_output_of, affects_response_to, process_positively_regulates_process, composed_primarily_of, has_upstream_actor, exacerbates, increases_response_to, has_output, disrupts, affected_by, treats, regulates, causes, is_substrate_of, part_of, has_capability, positively_regulates, participates_in, contributes_to, has_input, decreases_response_to, associated_with, enables, negatively_regulates, expresses, has_substrate, ameliorates, capable_of\n",
      "\n",
      " * Protein -> NamedThing * \n",
      "Edges: has_part, overlaps, subclass_of, participates_in, related_to, active_in, actively_involved_in, actively_involves, acts_upstream_of, acts_upstream_of_negative_effect, acts_upstream_of_or_within, acts_upstream_of_or_within_negative_effect, acts_upstream_of_or_within_positive_effect, acts_upstream_of_positive_effect, affects_activity_of, affects, capable_of, caused_by, enabled_by, enables, entity_negatively_regulates_entity, entity_positively_regulates_entity, entity_regulates_entity, has_attribute, has_participant, interacts_with, located_in, molecularly_interacts_with, negatively_regulates, occurs_in, part_of, physically_interacts_with, positively_regulates, preceded_by, precedes, process_negatively_regulates_process, process_regulates_process, regulates, temporally_related_to, occurs_together_in_literature_with, affected_by, has_substrate, ameliorates, is_substrate_of, has_capability, contributes_to, has_input, has_catalyst, expressed_in, decreases_response_to, associated_with, catalyzes, genetically_interacts_with, has_upstream_actor, exacerbates, has_active_ingredient, increases_response_to, primarily_composed_of, has_output, disrupts, similar_to, is_output_of, affects_response_to, treats, causes, composed_primarily_of, is_input_of, derives_from, in_taxon, coexists_with, gene_product_of, directly_physically_interacts_with, chemically_similar_to, gene_associated_with_condition, lacks_part, biomarker_for, produces, colocalizes_with, predisposes, same_as, prevents, manifestation_of, close_match, correlated_with, contraindicated_for, diagnoses\n",
      "\n",
      " * NamedThing -> Occurrent * \n",
      "Edges: subclass_of, active_in, actively_involved_in, actively_involves, acts_upstream_of_negative_effect, acts_upstream_of, acts_upstream_of_or_within_negative_effect, acts_upstream_of_or_within, acts_upstream_of_or_within_positive_effect, acts_upstream_of_positive_effect, affects_activity_of, affects, affects_transport_of, capable_of, caused_by, causes, contributes_to, derives_from, derives_into, enabled_by, enables, entity_positively_regulates_entity, entity_regulates_entity, has_input, has_output, has_participant, has_part, interacts_with, molecularly_interacts_with, negatively_regulates, occurs_in, overlaps, participates_in, part_of, physically_interacts_with, positively_regulates, preceded_by, precedes, process_negatively_regulates_process, process_positively_regulates_process, process_regulates_process, produces, regulates, related_to, temporally_related_to, treats, is_substrate_of, has_capability, has_catalyst, is_input_of, decreases_response_to, associated_with, ameliorates, has_metabolite, genetically_interacts_with, has_upstream_actor, exacerbates, has_active_ingredient, increases_response_to, primarily_composed_of, similar_to, catalyzes, is_output_of, affects_response_to, composed_primarily_of, disrupts, affected_by, has_substrate\n",
      "\n",
      " * Occurrent -> PlanetaryEntity * \n",
      "Edges: subclass_of, related_to, temporally_related_to, affects, has_part, negatively_regulates, overlaps, part_of, positively_regulates, preceded_by, precedes, process_negatively_regulates_process, process_positively_regulates_process, process_regulates_process, regulates, associated_with, similar_to, catalyzes, affects_response_to, composed_primarily_of, has_upstream_actor, exacerbates, has_active_ingredient, increases_response_to, acts_upstream_of_or_within_positive_effect, primarily_composed_of, disrupts, is_output_of, affected_by, acts_upstream_of_positive_effect, treats, participates_in, acts_upstream_of_or_within_negative_effect, acts_upstream_of, has_participant, is_input_of, decreases_response_to, acts_upstream_of_negative_effect, enables, acts_upstream_of_or_within, interacts_with, ameliorates, is_substrate_of, has_capability, capable_of, actively_involves, actively_involved_in\n",
      "\n",
      "--------------------------------------------------------------------------------\n",
      "\n",
      "Path 2: ChemicalEntity -> ThingWithTaxon -> Protein -> NamedThing -> BiologicalProcess -> PlanetaryEntity\n",
      "\n",
      " * ChemicalEntity -> ThingWithTaxon * \n",
      "Edges: negatively_regulates, occurs_in, overlaps, participates_in, part_of, physically_interacts_with, positively_regulates, subclass_of, active_in, actively_involved_in, actively_involves, acts_upstream_of_negative_effect, acts_upstream_of_or_within_negative_effect, acts_upstream_of_or_within_positive_effect, acts_upstream_of_or_within, acts_upstream_of_positive_effect, acts_upstream_of, affects_activity_of, affects, capable_of, caused_by, coexists_with, enabled_by, enables, entity_negatively_regulates_entity, entity_positively_regulates_entity, entity_regulates_entity, has_output, has_participant, has_part, interacts_with, located_in, molecularly_interacts_with, related_to, preceded_by, precedes, regulates, temporally_related_to, disrupts, exacerbates, increases_response_to, affected_by, treats, causes, is_substrate_of, has_capability, contributes_to, has_input, is_input_of, decreases_response_to, associated_with, has_substrate, ameliorates, genetically_interacts_with, process_negatively_regulates_process, has_active_ingredient, has_catalyst, primarily_composed_of, expressed_in, process_regulates_process, similar_to, catalyzes, is_output_of, affects_response_to, process_positively_regulates_process, composed_primarily_of, has_upstream_actor\n",
      "\n",
      " * ThingWithTaxon -> Protein * \n",
      "Edges: has_part, overlaps, subclass_of, related_to, physically_interacts_with, preceded_by, precedes, temporally_related_to, affects_activity_of, affects, caused_by, enabled_by, entity_negatively_regulates_entity, entity_positively_regulates_entity, entity_regulates_entity, has_participant, interacts_with, location_of, molecularly_interacts_with, is_input_of, genetically_interacts_with, actively_involves, has_active_ingredient, has_catalyst, primarily_composed_of, actively_involved_in, process_regulates_process, similar_to, catalyzes, is_output_of, affects_response_to, process_positively_regulates_process, composed_primarily_of, has_upstream_actor, exacerbates, increases_response_to, has_output, disrupts, affected_by, treats, regulates, causes, is_substrate_of, part_of, has_capability, positively_regulates, participates_in, contributes_to, has_input, decreases_response_to, associated_with, enables, negatively_regulates, expresses, has_substrate, ameliorates, capable_of\n",
      "\n",
      " * Protein -> NamedThing * \n",
      "Edges: has_part, overlaps, subclass_of, participates_in, related_to, active_in, actively_involved_in, actively_involves, acts_upstream_of, acts_upstream_of_negative_effect, acts_upstream_of_or_within, acts_upstream_of_or_within_negative_effect, acts_upstream_of_or_within_positive_effect, acts_upstream_of_positive_effect, affects_activity_of, affects, capable_of, caused_by, enabled_by, enables, entity_negatively_regulates_entity, entity_positively_regulates_entity, entity_regulates_entity, has_attribute, has_participant, interacts_with, located_in, molecularly_interacts_with, negatively_regulates, occurs_in, part_of, physically_interacts_with, positively_regulates, preceded_by, precedes, process_negatively_regulates_process, process_regulates_process, regulates, temporally_related_to, occurs_together_in_literature_with, affected_by, has_substrate, ameliorates, is_substrate_of, has_capability, contributes_to, has_input, has_catalyst, expressed_in, decreases_response_to, associated_with, catalyzes, genetically_interacts_with, has_upstream_actor, exacerbates, has_active_ingredient, increases_response_to, primarily_composed_of, has_output, disrupts, similar_to, is_output_of, affects_response_to, treats, causes, composed_primarily_of, is_input_of, derives_from, in_taxon, coexists_with, gene_product_of, directly_physically_interacts_with, chemically_similar_to, gene_associated_with_condition, lacks_part, biomarker_for, produces, colocalizes_with, predisposes, same_as, prevents, manifestation_of, close_match, correlated_with, contraindicated_for, diagnoses\n",
      "\n",
      " * NamedThing -> BiologicalProcess * \n",
      "Edges: subclass_of, active_in, actively_involved_in, actively_involves, acts_upstream_of, acts_upstream_of_negative_effect, acts_upstream_of_or_within, acts_upstream_of_or_within_negative_effect, acts_upstream_of_or_within_positive_effect, acts_upstream_of_positive_effect, affects, capable_of, caused_by, causes, contributes_to, derives_from, derives_into, enabled_by, enables, has_input, has_output, has_part, has_participant, negatively_regulates, occurs_in, overlaps, participates_in, part_of, positively_regulates, preceded_by, precedes, process_negatively_regulates_process, process_positively_regulates_process, process_regulates_process, regulates, related_to, temporally_related_to, occurs_together_in_literature_with, is_input_of, decreases_response_to, has_substrate, interacts_with, ameliorates, is_substrate_of, has_capability, has_catalyst, associated_with, catalyzes, affects_response_to, entity_positively_regulates_entity, has_metabolite, composed_primarily_of, has_upstream_actor, affects_transport_of, exacerbates, has_active_ingredient, increases_response_to, primarily_composed_of, disrupts, similar_to, is_output_of, affected_by, treats, close_match, manifestation_of, coexists_with, contraindicated_for, physically_interacts_with, gene_product_of, directly_physically_interacts_with, has_phenotype, binds, is_sequence_variant_of, gene_associated_with_condition, located_in, colocalizes_with, produces, prevents, diagnoses, predisposes\n",
      "\n",
      " * BiologicalProcess -> PlanetaryEntity * \n",
      "Edges: affects, has_part, negatively_regulates, overlaps, part_of, positively_regulates, preceded_by, precedes, process_negatively_regulates_process, process_positively_regulates_process, process_regulates_process, regulates, related_to, temporally_related_to, is_output_of, acts_upstream_of_positive_effect, affects_response_to, composed_primarily_of, acts_upstream_of, acts_upstream_of_or_within_positive_effect, disrupts, acts_upstream_of_negative_effect, acts_upstream_of_or_within, affected_by, interacts_with, ameliorates, treats, is_substrate_of, has_capability, participates_in, acts_upstream_of_or_within_negative_effect, has_participant, is_input_of, decreases_response_to, associated_with, enables, catalyzes, capable_of, actively_involves, has_upstream_actor, exacerbates, has_active_ingredient, increases_response_to, primarily_composed_of, actively_involved_in, similar_to\n",
      "\n",
      "--------------------------------------------------------------------------------\n",
      "\n",
      "Path 3: ChemicalEntity -> ThingWithTaxon -> Protein -> NamedThing -> MolecularActivity -> PlanetaryEntity\n",
      "\n",
      " * ChemicalEntity -> ThingWithTaxon * \n",
      "Edges: negatively_regulates, occurs_in, overlaps, participates_in, part_of, physically_interacts_with, positively_regulates, subclass_of, active_in, actively_involved_in, actively_involves, acts_upstream_of_negative_effect, acts_upstream_of_or_within_negative_effect, acts_upstream_of_or_within_positive_effect, acts_upstream_of_or_within, acts_upstream_of_positive_effect, acts_upstream_of, affects_activity_of, affects, capable_of, caused_by, coexists_with, enabled_by, enables, entity_negatively_regulates_entity, entity_positively_regulates_entity, entity_regulates_entity, has_output, has_participant, has_part, interacts_with, located_in, molecularly_interacts_with, related_to, preceded_by, precedes, regulates, temporally_related_to, disrupts, exacerbates, increases_response_to, affected_by, treats, causes, is_substrate_of, has_capability, contributes_to, has_input, is_input_of, decreases_response_to, associated_with, has_substrate, ameliorates, genetically_interacts_with, process_negatively_regulates_process, has_active_ingredient, has_catalyst, primarily_composed_of, expressed_in, process_regulates_process, similar_to, catalyzes, is_output_of, affects_response_to, process_positively_regulates_process, composed_primarily_of, has_upstream_actor\n",
      "\n",
      " * ThingWithTaxon -> Protein * \n",
      "Edges: has_part, overlaps, subclass_of, related_to, physically_interacts_with, preceded_by, precedes, temporally_related_to, affects_activity_of, affects, caused_by, enabled_by, entity_negatively_regulates_entity, entity_positively_regulates_entity, entity_regulates_entity, has_participant, interacts_with, location_of, molecularly_interacts_with, is_input_of, genetically_interacts_with, actively_involves, has_active_ingredient, has_catalyst, primarily_composed_of, actively_involved_in, process_regulates_process, similar_to, catalyzes, is_output_of, affects_response_to, process_positively_regulates_process, composed_primarily_of, has_upstream_actor, exacerbates, increases_response_to, has_output, disrupts, affected_by, treats, regulates, causes, is_substrate_of, part_of, has_capability, positively_regulates, participates_in, contributes_to, has_input, decreases_response_to, associated_with, enables, negatively_regulates, expresses, has_substrate, ameliorates, capable_of\n",
      "\n",
      " * Protein -> NamedThing * \n",
      "Edges: has_part, overlaps, subclass_of, participates_in, related_to, active_in, actively_involved_in, actively_involves, acts_upstream_of, acts_upstream_of_negative_effect, acts_upstream_of_or_within, acts_upstream_of_or_within_negative_effect, acts_upstream_of_or_within_positive_effect, acts_upstream_of_positive_effect, affects_activity_of, affects, capable_of, caused_by, enabled_by, enables, entity_negatively_regulates_entity, entity_positively_regulates_entity, entity_regulates_entity, has_attribute, has_participant, interacts_with, located_in, molecularly_interacts_with, negatively_regulates, occurs_in, part_of, physically_interacts_with, positively_regulates, preceded_by, precedes, process_negatively_regulates_process, process_regulates_process, regulates, temporally_related_to, occurs_together_in_literature_with, affected_by, has_substrate, ameliorates, is_substrate_of, has_capability, contributes_to, has_input, has_catalyst, expressed_in, decreases_response_to, associated_with, catalyzes, genetically_interacts_with, has_upstream_actor, exacerbates, has_active_ingredient, increases_response_to, primarily_composed_of, has_output, disrupts, similar_to, is_output_of, affects_response_to, treats, causes, composed_primarily_of, is_input_of, derives_from, in_taxon, coexists_with, gene_product_of, directly_physically_interacts_with, chemically_similar_to, gene_associated_with_condition, lacks_part, biomarker_for, produces, colocalizes_with, predisposes, same_as, prevents, manifestation_of, close_match, correlated_with, contraindicated_for, diagnoses\n",
      "\n",
      " * NamedThing -> MolecularActivity * \n",
      "Edges: subclass_of, active_in, actively_involved_in, actively_involves, acts_upstream_of, acts_upstream_of_negative_effect, acts_upstream_of_or_within, acts_upstream_of_or_within_negative_effect, acts_upstream_of_or_within_positive_effect, acts_upstream_of_positive_effect, affects_activity_of, affects, affects_transport_of, capable_of, caused_by, contributes_to, enabled_by, enables, entity_positively_regulates_entity, entity_regulates_entity, has_input, has_participant, has_part, interacts_with, molecularly_interacts_with, negatively_regulates, occurs_in, overlaps, participates_in, part_of, physically_interacts_with, positively_regulates, preceded_by, precedes, process_negatively_regulates_process, process_positively_regulates_process, process_regulates_process, produces, regulates, related_to, temporally_related_to, occurs_together_in_literature_with, is_input_of, decreases_response_to, has_substrate, ameliorates, is_substrate_of, has_capability, has_catalyst, associated_with, similar_to, catalyzes, affects_response_to, composed_primarily_of, genetically_interacts_with, has_upstream_actor, exacerbates, has_active_ingredient, increases_response_to, primarily_composed_of, has_output, disrupts, is_output_of, affected_by, treats, causes, directly_physically_interacts_with, is_sequence_variant_of, gene_associated_with_condition, has_phenotype, located_in, colocalizes_with, manifestation_of, coexists_with, close_match, derives_from\n",
      "\n",
      " * MolecularActivity -> PlanetaryEntity * \n",
      "Edges: affects, has_part, negatively_regulates, overlaps, part_of, positively_regulates, preceded_by, precedes, process_negatively_regulates_process, process_positively_regulates_process, process_regulates_process, regulates, related_to, temporally_related_to, capable_of, actively_involves, has_upstream_actor, exacerbates, has_active_ingredient, increases_response_to, primarily_composed_of, actively_involved_in, similar_to, catalyzes, is_output_of, acts_upstream_of_positive_effect, affects_response_to, composed_primarily_of, acts_upstream_of, acts_upstream_of_or_within_positive_effect, disrupts, acts_upstream_of_negative_effect, acts_upstream_of_or_within, affected_by, interacts_with, treats, is_substrate_of, has_capability, participates_in, acts_upstream_of_or_within_negative_effect, has_participant, is_input_of, decreases_response_to, associated_with, enables, ameliorates\n",
      "\n",
      "--------------------------------------------------------------------------------\n",
      "\n",
      "Path 4: ChemicalEntity -> ThingWithTaxon -> Protein -> NamedThing -> InformationContentEntity -> PlanetaryEntity\n",
      "\n",
      " * ChemicalEntity -> ThingWithTaxon * \n",
      "Edges: negatively_regulates, occurs_in, overlaps, participates_in, part_of, physically_interacts_with, positively_regulates, subclass_of, active_in, actively_involved_in, actively_involves, acts_upstream_of_negative_effect, acts_upstream_of_or_within_negative_effect, acts_upstream_of_or_within_positive_effect, acts_upstream_of_or_within, acts_upstream_of_positive_effect, acts_upstream_of, affects_activity_of, affects, capable_of, caused_by, coexists_with, enabled_by, enables, entity_negatively_regulates_entity, entity_positively_regulates_entity, entity_regulates_entity, has_output, has_participant, has_part, interacts_with, located_in, molecularly_interacts_with, related_to, preceded_by, precedes, regulates, temporally_related_to, disrupts, exacerbates, increases_response_to, affected_by, treats, causes, is_substrate_of, has_capability, contributes_to, has_input, is_input_of, decreases_response_to, associated_with, has_substrate, ameliorates, genetically_interacts_with, process_negatively_regulates_process, has_active_ingredient, has_catalyst, primarily_composed_of, expressed_in, process_regulates_process, similar_to, catalyzes, is_output_of, affects_response_to, process_positively_regulates_process, composed_primarily_of, has_upstream_actor\n",
      "\n",
      " * ThingWithTaxon -> Protein * \n",
      "Edges: has_part, overlaps, subclass_of, related_to, physically_interacts_with, preceded_by, precedes, temporally_related_to, affects_activity_of, affects, caused_by, enabled_by, entity_negatively_regulates_entity, entity_positively_regulates_entity, entity_regulates_entity, has_participant, interacts_with, location_of, molecularly_interacts_with, is_input_of, genetically_interacts_with, actively_involves, has_active_ingredient, has_catalyst, primarily_composed_of, actively_involved_in, process_regulates_process, similar_to, catalyzes, is_output_of, affects_response_to, process_positively_regulates_process, composed_primarily_of, has_upstream_actor, exacerbates, increases_response_to, has_output, disrupts, affected_by, treats, regulates, causes, is_substrate_of, part_of, has_capability, positively_regulates, participates_in, contributes_to, has_input, decreases_response_to, associated_with, enables, negatively_regulates, expresses, has_substrate, ameliorates, capable_of\n",
      "\n",
      " * Protein -> NamedThing * \n",
      "Edges: has_part, overlaps, subclass_of, participates_in, related_to, active_in, actively_involved_in, actively_involves, acts_upstream_of, acts_upstream_of_negative_effect, acts_upstream_of_or_within, acts_upstream_of_or_within_negative_effect, acts_upstream_of_or_within_positive_effect, acts_upstream_of_positive_effect, affects_activity_of, affects, capable_of, caused_by, enabled_by, enables, entity_negatively_regulates_entity, entity_positively_regulates_entity, entity_regulates_entity, has_attribute, has_participant, interacts_with, located_in, molecularly_interacts_with, negatively_regulates, occurs_in, part_of, physically_interacts_with, positively_regulates, preceded_by, precedes, process_negatively_regulates_process, process_regulates_process, regulates, temporally_related_to, occurs_together_in_literature_with, affected_by, has_substrate, ameliorates, is_substrate_of, has_capability, contributes_to, has_input, has_catalyst, expressed_in, decreases_response_to, associated_with, catalyzes, genetically_interacts_with, has_upstream_actor, exacerbates, has_active_ingredient, increases_response_to, primarily_composed_of, has_output, disrupts, similar_to, is_output_of, affects_response_to, treats, causes, composed_primarily_of, is_input_of, derives_from, in_taxon, coexists_with, gene_product_of, directly_physically_interacts_with, chemically_similar_to, gene_associated_with_condition, lacks_part, biomarker_for, produces, colocalizes_with, predisposes, same_as, prevents, manifestation_of, close_match, correlated_with, contraindicated_for, diagnoses\n",
      "\n",
      " * NamedThing -> InformationContentEntity * \n",
      "Edges: subclass_of, related_to, primarily_composed_of, affects, similar_to, overlaps, composed_primarily_of, has_upstream_actor, affected_by, interacts_with, participates_in, has_participant, associated_with, regulates, contraindicated_for, chemically_similar_to, physically_interacts_with, treats, has_input, derives_from, causes, has_output, disease_has_location, directly_physically_interacts_with, actively_involved_in, binds, disrupts, gene_product_of, is_sequence_variant_of, correlated_with, gene_associated_with_condition, has_phenotype, located_in, biomarker_for, produces, expressed_in, has_part, prevents, diagnoses, enables, colocalizes_with, contributes_to, predisposes, precedes, occurs_in, manifestation_of, exacerbates, coexists_with, close_match\n",
      "\n",
      " * InformationContentEntity -> PlanetaryEntity * \n",
      "Edges: affected_by, participates_in, has_participant, interacts_with, associated_with, affects, similar_to, related_to, overlaps, composed_primarily_of, has_upstream_actor, primarily_composed_of\n",
      "\n",
      "--------------------------------------------------------------------------------\n",
      "\n"
     ]
    }
   ],
   "metadata": {}
  },
  {
   "cell_type": "markdown",
   "source": [
    "Test `multidigraph`"
   ],
   "metadata": {}
  },
  {
   "cell_type": "code",
   "execution_count": 14,
   "source": [
    "_source=\"ComplexMolecularMixture\"\n",
    "_target=\"DiseaseOrPhenotypicFeature\"\n",
    "\n",
    "# Define the range of edges you want to iterate through\n",
    "start_index = 0  # Start index\n",
    "end_index = 10 #int(G_edges.number_of_edges()/1000)  "
   ],
   "outputs": [],
   "metadata": {}
  },
  {
   "cell_type": "code",
   "execution_count": 30,
   "source": [
    "_cutoff=2\n",
    "all_simple_paths_G_edges = return_all_simple_paths(G_edges, _source, _target)\n",
    "display_pathway_results(all_simple_paths_G_edges, 0, 5)"
   ],
   "outputs": [
    {
     "output_type": "stream",
     "name": "stdout",
     "text": [
      "[INFO] Pathways for source:ComplexMolecularMixture & target:DiseaseOrPhenotypicFeature with cutoff:2\n",
      "[INFO] Total pathways extracted - 12\n",
      "\n",
      "Path 0: ComplexMolecularMixture -> ChemicalEntity -> DiseaseOrPhenotypicFeature\n",
      "Path 1: ComplexMolecularMixture -> ChemicalEntity -> DiseaseOrPhenotypicFeature\n",
      "Path 2: ComplexMolecularMixture -> ChemicalEntity -> DiseaseOrPhenotypicFeature\n",
      "Path 3: ComplexMolecularMixture -> ChemicalEntity -> DiseaseOrPhenotypicFeature\n",
      "Path 4: ComplexMolecularMixture -> SmallMolecule -> DiseaseOrPhenotypicFeature\n"
     ]
    }
   ],
   "metadata": {}
  },
  {
   "cell_type": "code",
   "execution_count": 36,
   "source": [
    "cutoff=3\n",
    "all_simple_paths_G_edges = return_all_simple_paths(G_edges, _source, _target, cutoff)\n",
    "display_pathway_results(all_simple_paths_G_edges, 0, 5)"
   ],
   "outputs": [
    {
     "output_type": "stream",
     "name": "stdout",
     "text": [
      "[INFO] Pathways for source:ComplexMolecularMixture & target:DiseaseOrPhenotypicFeature with cutoff:5\n",
      "[INFO] Total pathways extracted - 1678\n",
      "\n",
      "Path 0: ComplexMolecularMixture -> Disease -> SmallMolecule -> DiseaseOrPhenotypicFeature\n",
      "Path 1: ComplexMolecularMixture -> Disease -> SmallMolecule -> DiseaseOrPhenotypicFeature\n",
      "Path 2: ComplexMolecularMixture -> Disease -> SmallMolecule -> DiseaseOrPhenotypicFeature\n",
      "Path 3: ComplexMolecularMixture -> Disease -> SmallMolecule -> DiseaseOrPhenotypicFeature\n",
      "Path 4: ComplexMolecularMixture -> Disease -> SmallMolecule -> DiseaseOrPhenotypicFeature\n"
     ]
    }
   ],
   "metadata": {}
  },
  {
   "cell_type": "code",
   "execution_count": 37,
   "source": [
    "_cutoff=4\n",
    "all_simple_paths_G_edges = return_all_simple_paths(G_edges, _source, _target, _cutoff)\n",
    "display_pathway_results(all_simple_paths_G_edges, 0, 5)"
   ],
   "outputs": [
    {
     "output_type": "stream",
     "name": "stdout",
     "text": [
      "[INFO] Pathways for source:ComplexMolecularMixture & target:DiseaseOrPhenotypicFeature with cutoff:4\n",
      "[INFO] Total pathways extracted - 110962\n",
      "\n",
      "Path 0: ComplexMolecularMixture -> Disease -> PhenotypicFeature -> SmallMolecule -> DiseaseOrPhenotypicFeature\n",
      "Path 1: ComplexMolecularMixture -> Disease -> PhenotypicFeature -> SmallMolecule -> DiseaseOrPhenotypicFeature\n",
      "Path 2: ComplexMolecularMixture -> Disease -> PhenotypicFeature -> SmallMolecule -> DiseaseOrPhenotypicFeature\n",
      "Path 3: ComplexMolecularMixture -> Disease -> PhenotypicFeature -> SmallMolecule -> DiseaseOrPhenotypicFeature\n",
      "Path 4: ComplexMolecularMixture -> Disease -> PhenotypicFeature -> SmallMolecule -> DiseaseOrPhenotypicFeature\n"
     ]
    }
   ],
   "metadata": {}
  },
  {
   "cell_type": "code",
   "execution_count": 15,
   "source": [
    "_cutoff=5\n",
    "all_simple_paths_G_edges = return_all_simple_paths(G_edges, _source, _target, _cutoff)\n",
    "display_pathway_results(all_simple_paths_G_edges, 0, 5)"
   ],
   "outputs": [
    {
     "output_type": "stream",
     "name": "stdout",
     "text": [
      "[INFO] Pathways for source:ComplexMolecularMixture & target:DiseaseOrPhenotypicFeature with cutoff:5\n",
      "[INFO] Total pathways extracted - 7219384\n",
      "\n",
      "Path 0: ComplexMolecularMixture -> Disease -> PhenotypicFeature -> SmallMolecule -> ChemicalEntity -> DiseaseOrPhenotypicFeature\n",
      "Path 1: ComplexMolecularMixture -> Disease -> PhenotypicFeature -> SmallMolecule -> ChemicalEntity -> DiseaseOrPhenotypicFeature\n",
      "Path 2: ComplexMolecularMixture -> Disease -> PhenotypicFeature -> SmallMolecule -> ChemicalEntity -> DiseaseOrPhenotypicFeature\n",
      "Path 3: ComplexMolecularMixture -> Disease -> PhenotypicFeature -> SmallMolecule -> ChemicalEntity -> DiseaseOrPhenotypicFeature\n",
      "Path 4: ComplexMolecularMixture -> Disease -> PhenotypicFeature -> SmallMolecule -> ChemicalEntity -> DiseaseOrPhenotypicFeature\n"
     ]
    }
   ],
   "metadata": {}
  },
  {
   "cell_type": "code",
   "execution_count": 17,
   "source": [
    "display_pathway_results(all_simple_paths_G_edges, 0, 5, edges=True)"
   ],
   "outputs": [
    {
     "output_type": "stream",
     "name": "stdout",
     "text": [
      "[INFO] Pathways for source:ComplexMolecularMixture & target:DiseaseOrPhenotypicFeature with cutoff:5\n",
      "[INFO] Total pathways extracted - 7219384\n",
      "\n",
      "Path 0: ComplexMolecularMixture -> Disease -> PhenotypicFeature -> SmallMolecule -> ChemicalEntity -> DiseaseOrPhenotypicFeature\n",
      "\n",
      " * ComplexMolecularMixture -> Disease * \n",
      "Edges: affects, positively_correlated_with, negatively_correlated_with, ameliorates, treats, contributes_to, correlated_with\n",
      "\n",
      " * Disease -> PhenotypicFeature * \n",
      "Edges: related_to, has_phenotype, associated_with, correlated_with, subclass_of, positively_correlated_with, negatively_correlated_with, causes, caused_by, has_predisposing_factor, coexists_with, has_manifestation, is_diagnosed_by\n",
      "\n",
      " * PhenotypicFeature -> SmallMolecule * \n",
      "Edges: related_to, positively_correlated_with, negatively_correlated_with, correlated_with, treated_by, caused_by, affected_by, contribution_from, has_predisposing_factor, disrupted_by, associated_with, prevented_by, adverse_event_of\n",
      "\n",
      " * SmallMolecule -> ChemicalEntity * \n",
      "Edges: similar_to, correlated_with, subclass_of, treats, affected_by, interacts_with, derives_into, coexists_with, affects\n",
      "\n",
      " * ChemicalEntity -> DiseaseOrPhenotypicFeature * \n",
      "Edges: treats, ameliorates\n",
      "\n",
      "--------------------------------------------------------------------------------\n",
      "\n",
      "Path 1: ComplexMolecularMixture -> Disease -> PhenotypicFeature -> SmallMolecule -> ChemicalEntity -> DiseaseOrPhenotypicFeature\n",
      "\n",
      " * ComplexMolecularMixture -> Disease * \n",
      "Edges: affects, positively_correlated_with, negatively_correlated_with, ameliorates, treats, contributes_to, correlated_with\n",
      "\n",
      " * Disease -> PhenotypicFeature * \n",
      "Edges: related_to, has_phenotype, associated_with, correlated_with, subclass_of, positively_correlated_with, negatively_correlated_with, causes, caused_by, has_predisposing_factor, coexists_with, has_manifestation, is_diagnosed_by\n",
      "\n",
      " * PhenotypicFeature -> SmallMolecule * \n",
      "Edges: related_to, positively_correlated_with, negatively_correlated_with, correlated_with, treated_by, caused_by, affected_by, contribution_from, has_predisposing_factor, disrupted_by, associated_with, prevented_by, adverse_event_of\n",
      "\n",
      " * SmallMolecule -> ChemicalEntity * \n",
      "Edges: similar_to, correlated_with, subclass_of, treats, affected_by, interacts_with, derives_into, coexists_with, affects\n",
      "\n",
      " * ChemicalEntity -> DiseaseOrPhenotypicFeature * \n",
      "Edges: treats, ameliorates\n",
      "\n",
      "--------------------------------------------------------------------------------\n",
      "\n",
      "Path 2: ComplexMolecularMixture -> Disease -> PhenotypicFeature -> SmallMolecule -> ChemicalEntity -> DiseaseOrPhenotypicFeature\n",
      "\n",
      " * ComplexMolecularMixture -> Disease * \n",
      "Edges: affects, positively_correlated_with, negatively_correlated_with, ameliorates, treats, contributes_to, correlated_with\n",
      "\n",
      " * Disease -> PhenotypicFeature * \n",
      "Edges: related_to, has_phenotype, associated_with, correlated_with, subclass_of, positively_correlated_with, negatively_correlated_with, causes, caused_by, has_predisposing_factor, coexists_with, has_manifestation, is_diagnosed_by\n",
      "\n",
      " * PhenotypicFeature -> SmallMolecule * \n",
      "Edges: related_to, positively_correlated_with, negatively_correlated_with, correlated_with, treated_by, caused_by, affected_by, contribution_from, has_predisposing_factor, disrupted_by, associated_with, prevented_by, adverse_event_of\n",
      "\n",
      " * SmallMolecule -> ChemicalEntity * \n",
      "Edges: similar_to, correlated_with, subclass_of, treats, affected_by, interacts_with, derives_into, coexists_with, affects\n",
      "\n",
      " * ChemicalEntity -> DiseaseOrPhenotypicFeature * \n",
      "Edges: treats, ameliorates\n",
      "\n",
      "--------------------------------------------------------------------------------\n",
      "\n",
      "Path 3: ComplexMolecularMixture -> Disease -> PhenotypicFeature -> SmallMolecule -> ChemicalEntity -> DiseaseOrPhenotypicFeature\n",
      "\n",
      " * ComplexMolecularMixture -> Disease * \n",
      "Edges: affects, positively_correlated_with, negatively_correlated_with, ameliorates, treats, contributes_to, correlated_with\n",
      "\n",
      " * Disease -> PhenotypicFeature * \n",
      "Edges: related_to, has_phenotype, associated_with, correlated_with, subclass_of, positively_correlated_with, negatively_correlated_with, causes, caused_by, has_predisposing_factor, coexists_with, has_manifestation, is_diagnosed_by\n",
      "\n",
      " * PhenotypicFeature -> SmallMolecule * \n",
      "Edges: related_to, positively_correlated_with, negatively_correlated_with, correlated_with, treated_by, caused_by, affected_by, contribution_from, has_predisposing_factor, disrupted_by, associated_with, prevented_by, adverse_event_of\n",
      "\n",
      " * SmallMolecule -> ChemicalEntity * \n",
      "Edges: similar_to, correlated_with, subclass_of, treats, affected_by, interacts_with, derives_into, coexists_with, affects\n",
      "\n",
      " * ChemicalEntity -> DiseaseOrPhenotypicFeature * \n",
      "Edges: treats, ameliorates\n",
      "\n",
      "--------------------------------------------------------------------------------\n",
      "\n",
      "Path 4: ComplexMolecularMixture -> Disease -> PhenotypicFeature -> SmallMolecule -> ChemicalEntity -> DiseaseOrPhenotypicFeature\n",
      "\n",
      " * ComplexMolecularMixture -> Disease * \n",
      "Edges: affects, positively_correlated_with, negatively_correlated_with, ameliorates, treats, contributes_to, correlated_with\n",
      "\n",
      " * Disease -> PhenotypicFeature * \n",
      "Edges: related_to, has_phenotype, associated_with, correlated_with, subclass_of, positively_correlated_with, negatively_correlated_with, causes, caused_by, has_predisposing_factor, coexists_with, has_manifestation, is_diagnosed_by\n",
      "\n",
      " * PhenotypicFeature -> SmallMolecule * \n",
      "Edges: related_to, positively_correlated_with, negatively_correlated_with, correlated_with, treated_by, caused_by, affected_by, contribution_from, has_predisposing_factor, disrupted_by, associated_with, prevented_by, adverse_event_of\n",
      "\n",
      " * SmallMolecule -> ChemicalEntity * \n",
      "Edges: similar_to, correlated_with, subclass_of, treats, affected_by, interacts_with, derives_into, coexists_with, affects\n",
      "\n",
      " * ChemicalEntity -> DiseaseOrPhenotypicFeature * \n",
      "Edges: treats, ameliorates\n",
      "\n",
      "--------------------------------------------------------------------------------\n",
      "\n"
     ]
    }
   ],
   "metadata": {}
  },
  {
   "cell_type": "markdown",
   "source": [
    "Test `digraph`"
   ],
   "metadata": {}
  },
  {
   "cell_type": "code",
   "execution_count": 23,
   "source": [
    "_cutoff=5\n",
    "all_simple_paths_G_edges_ = return_all_simple_paths(G_edges_, _source, _target, _cutoff)\n",
    "display_pathway_results(all_simple_paths_G_edges_, 0, 5, edges=True)"
   ],
   "outputs": [
    {
     "output_type": "stream",
     "name": "stdout",
     "text": [
      "[INFO] Pathways for source:ComplexMolecularMixture & target:DiseaseOrPhenotypicFeature with cutoff:5\n",
      "[INFO] Total pathways extracted - 29063\n",
      "\n",
      "Path 0: ComplexMolecularMixture -> Disease -> PhenotypicFeature -> SmallMolecule -> ChemicalEntity -> DiseaseOrPhenotypicFeature\n",
      "\n",
      " * ComplexMolecularMixture -> Disease * \n",
      "Edges: affects, positively_correlated_with, negatively_correlated_with, ameliorates, treats, contributes_to, correlated_with\n",
      "\n",
      " * Disease -> PhenotypicFeature * \n",
      "Edges: related_to, has_phenotype, associated_with, correlated_with, subclass_of, positively_correlated_with, negatively_correlated_with, causes, caused_by, has_predisposing_factor, coexists_with, has_manifestation, is_diagnosed_by\n",
      "\n",
      " * PhenotypicFeature -> SmallMolecule * \n",
      "Edges: related_to, positively_correlated_with, negatively_correlated_with, correlated_with, treated_by, caused_by, affected_by, contribution_from, has_predisposing_factor, disrupted_by, associated_with, prevented_by, adverse_event_of\n",
      "\n",
      " * SmallMolecule -> ChemicalEntity * \n",
      "Edges: similar_to, correlated_with, subclass_of, treats, affected_by, interacts_with, derives_into, coexists_with, affects\n",
      "\n",
      " * ChemicalEntity -> DiseaseOrPhenotypicFeature * \n",
      "Edges: treats, ameliorates\n",
      "\n",
      "--------------------------------------------------------------------------------\n",
      "\n",
      "Path 1: ComplexMolecularMixture -> Disease -> PhenotypicFeature -> SmallMolecule -> MolecularMixture -> DiseaseOrPhenotypicFeature\n",
      "\n",
      " * ComplexMolecularMixture -> Disease * \n",
      "Edges: affects, positively_correlated_with, negatively_correlated_with, ameliorates, treats, contributes_to, correlated_with\n",
      "\n",
      " * Disease -> PhenotypicFeature * \n",
      "Edges: related_to, has_phenotype, associated_with, correlated_with, subclass_of, positively_correlated_with, negatively_correlated_with, causes, caused_by, has_predisposing_factor, coexists_with, has_manifestation, is_diagnosed_by\n",
      "\n",
      " * PhenotypicFeature -> SmallMolecule * \n",
      "Edges: related_to, positively_correlated_with, negatively_correlated_with, correlated_with, treated_by, caused_by, affected_by, contribution_from, has_predisposing_factor, disrupted_by, associated_with, prevented_by, adverse_event_of\n",
      "\n",
      " * SmallMolecule -> MolecularMixture * \n",
      "Edges: similar_to, correlated_with, subclass_of\n",
      "\n",
      " * MolecularMixture -> DiseaseOrPhenotypicFeature * \n",
      "Edges: treats, ameliorates\n",
      "\n",
      "--------------------------------------------------------------------------------\n",
      "\n",
      "Path 2: ComplexMolecularMixture -> Disease -> PhenotypicFeature -> SmallMolecule -> Drug -> DiseaseOrPhenotypicFeature\n",
      "\n",
      " * ComplexMolecularMixture -> Disease * \n",
      "Edges: affects, positively_correlated_with, negatively_correlated_with, ameliorates, treats, contributes_to, correlated_with\n",
      "\n",
      " * Disease -> PhenotypicFeature * \n",
      "Edges: related_to, has_phenotype, associated_with, correlated_with, subclass_of, positively_correlated_with, negatively_correlated_with, causes, caused_by, has_predisposing_factor, coexists_with, has_manifestation, is_diagnosed_by\n",
      "\n",
      " * PhenotypicFeature -> SmallMolecule * \n",
      "Edges: related_to, positively_correlated_with, negatively_correlated_with, correlated_with, treated_by, caused_by, affected_by, contribution_from, has_predisposing_factor, disrupted_by, associated_with, prevented_by, adverse_event_of\n",
      "\n",
      " * SmallMolecule -> Drug * \n",
      "Edges: correlated_with, positively_correlated_with, negatively_correlated_with\n",
      "\n",
      " * Drug -> DiseaseOrPhenotypicFeature * \n",
      "Edges: ameliorates, treats\n",
      "\n",
      "--------------------------------------------------------------------------------\n",
      "\n",
      "Path 3: ComplexMolecularMixture -> Disease -> PhenotypicFeature -> SmallMolecule -> DiseaseOrPhenotypicFeature\n",
      "\n",
      " * ComplexMolecularMixture -> Disease * \n",
      "Edges: affects, positively_correlated_with, negatively_correlated_with, ameliorates, treats, contributes_to, correlated_with\n",
      "\n",
      " * Disease -> PhenotypicFeature * \n",
      "Edges: related_to, has_phenotype, associated_with, correlated_with, subclass_of, positively_correlated_with, negatively_correlated_with, causes, caused_by, has_predisposing_factor, coexists_with, has_manifestation, is_diagnosed_by\n",
      "\n",
      " * PhenotypicFeature -> SmallMolecule * \n",
      "Edges: related_to, positively_correlated_with, negatively_correlated_with, correlated_with, treated_by, caused_by, affected_by, contribution_from, has_predisposing_factor, disrupted_by, associated_with, prevented_by, adverse_event_of\n",
      "\n",
      " * SmallMolecule -> DiseaseOrPhenotypicFeature * \n",
      "Edges: ameliorates, treats\n",
      "\n",
      "--------------------------------------------------------------------------------\n",
      "\n",
      "Path 4: ComplexMolecularMixture -> Disease -> PhenotypicFeature -> ChemicalEntity -> MolecularMixture -> DiseaseOrPhenotypicFeature\n",
      "\n",
      " * ComplexMolecularMixture -> Disease * \n",
      "Edges: affects, positively_correlated_with, negatively_correlated_with, ameliorates, treats, contributes_to, correlated_with\n",
      "\n",
      " * Disease -> PhenotypicFeature * \n",
      "Edges: related_to, has_phenotype, associated_with, correlated_with, subclass_of, positively_correlated_with, negatively_correlated_with, causes, caused_by, has_predisposing_factor, coexists_with, has_manifestation, is_diagnosed_by\n",
      "\n",
      " * PhenotypicFeature -> ChemicalEntity * \n",
      "Edges: positively_correlated_with, negatively_correlated_with, correlated_with, caused_by, related_to, affected_by, has_predisposing_factor\n",
      "\n",
      " * ChemicalEntity -> MolecularMixture * \n",
      "Edges: subclass_of, similar_to, correlated_with\n",
      "\n",
      " * MolecularMixture -> DiseaseOrPhenotypicFeature * \n",
      "Edges: treats, ameliorates\n",
      "\n",
      "--------------------------------------------------------------------------------\n",
      "\n"
     ]
    }
   ],
   "metadata": {}
  },
  {
   "cell_type": "markdown",
   "source": [
    "---  \n",
    "Brainstorm -"
   ],
   "metadata": {}
  },
  {
   "cell_type": "code",
   "execution_count": 31,
   "source": [
    "# for path in all_simple_paths_G_edges_:\n",
    "#     print(path)\n",
    "edge_data = G_edges.get_edge_data(_source, _target)\n",
    "print(edge_data)\n",
    "\n",
    "# Extract 'predicate' values using a list comprehension\n",
    "predicate_values = [data['predicate'] for data in edge_data.values()]\n",
    "print()\n",
    "# Print the list of 'predicate' values\n",
    "print(predicate_values)"
   ],
   "outputs": [
    {
     "output_type": "stream",
     "name": "stdout",
     "text": [
      "{0: {'predicate': 'negatively_regulates'}, 1: {'predicate': 'participates_in'}, 2: {'predicate': 'positively_regulates'}, 3: {'predicate': 'actively_involved_in'}, 4: {'predicate': 'actively_involves'}, 5: {'predicate': 'acts_upstream_of_negative_effect'}, 6: {'predicate': 'acts_upstream_of_or_within_negative_effect'}, 7: {'predicate': 'acts_upstream_of_or_within'}, 8: {'predicate': 'acts_upstream_of_or_within_positive_effect'}, 9: {'predicate': 'acts_upstream_of'}, 10: {'predicate': 'acts_upstream_of_positive_effect'}, 11: {'predicate': 'affects'}, 12: {'predicate': 'capable_of'}, 13: {'predicate': 'enables'}, 14: {'predicate': 'regulates'}, 15: {'predicate': 'related_to'}, 16: {'predicate': 'process_negatively_regulates_process'}, 17: {'predicate': 'has_active_ingredient'}, 18: {'predicate': 'primarily_composed_of'}, 19: {'predicate': 'temporally_related_to'}, 20: {'predicate': 'associated_with'}, 21: {'predicate': 'process_regulates_process'}, 22: {'predicate': 'similar_to'}, 23: {'predicate': 'catalyzes'}, 24: {'predicate': 'overlaps'}, 25: {'predicate': 'affects_response_to'}, 26: {'predicate': 'process_positively_regulates_process'}, 27: {'predicate': 'composed_primarily_of'}, 28: {'predicate': 'has_upstream_actor'}, 29: {'predicate': 'exacerbates'}, 30: {'predicate': 'increases_response_to'}, 31: {'predicate': 'disrupts'}, 32: {'predicate': 'is_output_of'}, 33: {'predicate': 'affected_by'}, 34: {'predicate': 'treats'}, 35: {'predicate': 'is_substrate_of'}, 36: {'predicate': 'part_of'}, 37: {'predicate': 'has_capability'}, 38: {'predicate': 'preceded_by'}, 39: {'predicate': 'has_participant'}, 40: {'predicate': 'is_input_of'}, 41: {'predicate': 'decreases_response_to'}, 42: {'predicate': 'has_part'}, 43: {'predicate': 'precedes'}, 44: {'predicate': 'interacts_with'}, 45: {'predicate': 'ameliorates'}}\n",
      "\n",
      "['negatively_regulates', 'participates_in', 'positively_regulates', 'actively_involved_in', 'actively_involves', 'acts_upstream_of_negative_effect', 'acts_upstream_of_or_within_negative_effect', 'acts_upstream_of_or_within', 'acts_upstream_of_or_within_positive_effect', 'acts_upstream_of', 'acts_upstream_of_positive_effect', 'affects', 'capable_of', 'enables', 'regulates', 'related_to', 'process_negatively_regulates_process', 'has_active_ingredient', 'primarily_composed_of', 'temporally_related_to', 'associated_with', 'process_regulates_process', 'similar_to', 'catalyzes', 'overlaps', 'affects_response_to', 'process_positively_regulates_process', 'composed_primarily_of', 'has_upstream_actor', 'exacerbates', 'increases_response_to', 'disrupts', 'is_output_of', 'affected_by', 'treats', 'is_substrate_of', 'part_of', 'has_capability', 'preceded_by', 'has_participant', 'is_input_of', 'decreases_response_to', 'has_part', 'precedes', 'interacts_with', 'ameliorates']\n"
     ]
    }
   ],
   "metadata": {}
  },
  {
   "cell_type": "markdown",
   "source": [
    "---"
   ],
   "metadata": {}
  }
 ],
 "metadata": {
  "orig_nbformat": 4,
  "language_info": {
   "name": "python",
   "version": "3.10.0",
   "mimetype": "text/x-python",
   "codemirror_mode": {
    "name": "ipython",
    "version": 3
   },
   "pygments_lexer": "ipython3",
   "nbconvert_exporter": "python",
   "file_extension": ".py"
  },
  "kernelspec": {
   "name": "python3",
   "display_name": "Python 3.10.0 64-bit"
  },
  "interpreter": {
   "hash": "aee8b7b246df8f9039afb4144a1f6fd8d2ca17a180786b69acc140d282b71a49"
  }
 },
 "nbformat": 4,
 "nbformat_minor": 2
}