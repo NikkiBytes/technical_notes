{
 "cells": [
  {
   "cell_type": "markdown",
   "source": [
    "# Elasticsearch Tutorial"
   ],
   "metadata": {}
  },
  {
   "cell_type": "markdown",
   "source": [
    "## Term query  \n",
    "\"Return documents that contain an exact term in a provided field.\"  \n",
    "\n",
    "Good to find documents based on a precise value.  \n",
    "\n",
    "**Avoid using the term query for text fields.**   \n",
    "  - By default, ES changes the value of text fields as part of analysis, and can make finding exact matches difficult. To search text field values, use the match query instead.    \n",
    "    \n",
    "```\n",
    "GET /_search\n",
    "{\n",
    "  \"query\": {\n",
    "    \"term\": {\n",
    "      \"user.id\": {\n",
    "        \"value\": \"kimchy\",\n",
    "        \"boost\": 1.0\n",
    "      }\n",
    "    }\n",
    "  }\n",
    "}  \n",
    "```  \n",
    "  \n",
    "\n",
    "    \n",
    "Term-level queries operate on the exact terms that are stored in the inverted index (without analyzing), and will normalize any keyword fields with normalizer property.  \n",
    "\n",
    "The full text queries are usually used for running queries on full text fields.  \n",
    "  "
   ],
   "metadata": {}
  },
  {
   "cell_type": "markdown",
   "source": [],
   "metadata": {}
  },
  {
   "cell_type": "markdown",
   "source": [
    "## Boosting \n",
    "- Returns documents matching a positive query while reducing the relevance score of documents that also match a negative query.\n",
    "  \n",
    "- You can use the boosting query to demote certain documents without excluding them from the search results."
   ],
   "metadata": {}
  }
 ],
 "metadata": {
  "orig_nbformat": 4,
  "language_info": {
   "name": "python"
  }
 },
 "nbformat": 4,
 "nbformat_minor": 2
}