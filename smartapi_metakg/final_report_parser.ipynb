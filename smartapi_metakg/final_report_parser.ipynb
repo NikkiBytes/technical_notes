{
 "cells": [
  {
   "cell_type": "code",
   "execution_count": 22,
   "metadata": {},
   "outputs": [],
   "source": [
    "# Import libraries\n",
    "import yaml\n",
    "import warnings\n",
    "import pprint\n",
    "\n",
    "from controller.smartapi import SmartAPI\n",
    "from utils.metakg import parser\n",
    "\n",
    "\n",
    "# Ignore all warnings\n",
    "warnings.filterwarnings(\"ignore\")\n"
   ]
  },
  {
   "cell_type": "code",
   "execution_count": 23,
   "metadata": {},
   "outputs": [],
   "source": [
    "mkg_parser = parser.MetaKGParser()"
   ]
  },
  {
   "cell_type": "markdown",
   "metadata": {},
   "source": [
    "---"
   ]
  },
  {
   "cell_type": "markdown",
   "metadata": {},
   "source": [
    "**Tracking Key Frequencies in Non-TRAPI API and Query Operation Metadata from SmartAPI Documents**    \n",
    "\n",
    "\n",
    "- processes SmartAPI documents to extract keys from the `api` and `query_operation` sections of non-TRAPI metadata, **updating a set of unique keys found and tracking the frequency of each key across all documents.** The resulting data is stored in a dictionary for each document, recording the found keys and their counts."
   ]
  },
  {
   "cell_type": "code",
   "execution_count": 4,
   "metadata": {},
   "outputs": [],
   "source": [
    "import yaml\n",
    "from collections import defaultdict\n",
    "\n",
    "mkg_non_trapi_dict = {}\n",
    "keys_found_no_map_full_set = set()\n",
    "key_frequency_dict = defaultdict(int)  # New dictionary to track frequency of keys\n",
    "edge_ct=0\n",
    "for smartapi in SmartAPI.get_all(1000):\n",
    "    \n",
    "    raw_data = smartapi.raw.decode('utf-8')\n",
    "    source_data = yaml.safe_load(raw_data)\n",
    "\n",
    "    # Get non-TRAPI metakg data\n",
    "    metakg = mkg_parser.get_non_TRAPI_metadatas(data=source_data)\n",
    "\n",
    "    if metakg:\n",
    "        for edge in metakg:\n",
    "            edge_list =  list(edge['api']['bte']['query_operation'].keys()) #+list(edge['api'].keys())\n",
    "            edge_ct+=1\n",
    "\n",
    "            keys_found_no_map_full_set.update(edge_list)\n",
    "            \n",
    "            # Update the frequency of each key found in this document\n",
    "            for key in edge_list:\n",
    "                key_frequency_dict[key] += 1\n",
    "\n",
    "            # Store metadata for each SmartAPI document\n",
    "            mkg_non_trapi_dict[smartapi._id] = {\n",
    "                'query_operation': {\n",
    "                    'keys_found': edge_list, \n",
    "                    'key_ct': len(edge_list), \n",
    "                    'data': edge['api']['bte']['query_operation']\n",
    "                }\n",
    "            }"
   ]
  },
  {
   "cell_type": "code",
   "execution_count": 5,
   "metadata": {},
   "outputs": [
    {
     "data": {
      "text/plain": [
       "5754"
      ]
     },
     "execution_count": 5,
     "metadata": {},
     "output_type": "execute_result"
    }
   ],
   "source": [
    "edge_ct"
   ]
  },
  {
   "cell_type": "code",
   "execution_count": 6,
   "metadata": {},
   "outputs": [
    {
     "data": {
      "text/plain": [
       "defaultdict(int,\n",
       "            {'params': 5752,\n",
       "             'request_body': 5665,\n",
       "             'path': 5754,\n",
       "             'method': 5754,\n",
       "             'server': 5754,\n",
       "             'support_batch': 5670,\n",
       "             'path_params': 14,\n",
       "             'input_separator': 18})"
      ]
     },
     "execution_count": 6,
     "metadata": {},
     "output_type": "execute_result"
    }
   ],
   "source": [
    "key_frequency_dict"
   ]
  },
  {
   "cell_type": "markdown",
   "metadata": {},
   "source": [
    "**Tracking Filtered Response Mapping Key Frequencies in Non-TRAPI Metadata from SmartAPI Documents**\n",
    "\n",
    "- processes SmartAPI documents to extract keys from the `response_mapping` section of non-TRAPI metadata, filters out capitalized words from the keys, and tracks the frequency of the remaining keys across all documents. It stores the cleaned keys and their count in a dictionary for each document while also maintaining a set of unique keys found and a dictionary to track their frequency."
   ]
  },
  {
   "cell_type": "code",
   "execution_count": 25,
   "metadata": {},
   "outputs": [],
   "source": [
    "import yaml\n",
    "from collections import defaultdict\n",
    "import re\n",
    "\n",
    "mkg_non_trapi_dict = {}\n",
    "keys_found_no_map_full_set = set()\n",
    "response_mapping_frequency_dict = defaultdict(int)  # Dictionary to track frequency of response mapping keys\n",
    "doc_count = 0  # Counter to track the total number of documents processed\n",
    "\n",
    "for smartapi in SmartAPI.get_all(1000):\n",
    "    doc_count += 1  # Increment the document count\n",
    "    \n",
    "    raw_data = smartapi.raw.decode('utf-8')\n",
    "    source_data = yaml.safe_load(raw_data)\n",
    "\n",
    "    # Get non-TRAPI metakg data\n",
    "    metakg = mkg_parser.get_non_TRAPI_metadatas(data=source_data)\n",
    "\n",
    "    if metakg:\n",
    "        for edge in metakg:\n",
    "            for map_key in edge['api']['bte']['response_mapping']:\n",
    "                keys = edge['api']['bte']['response_mapping'][map_key].keys()\n",
    "                \n",
    "                # Remove all capital words from keys\n",
    "                keys = [key for key in keys if not re.fullmatch(r'[A-Z]+', key)]\n",
    "                \n",
    "                # Update the set with cleaned keys\n",
    "                keys_found_no_map_full_set.update(keys)\n",
    "\n",
    "                # Update the frequency of each response mapping key\n",
    "                for key in keys:\n",
    "                    response_mapping_frequency_dict[key] += 1\n",
    "\n",
    "                # Store metadata for each SmartAPI document\n",
    "                if smartapi._id not in mkg_non_trapi_dict:\n",
    "                    mkg_non_trapi_dict[smartapi._id] = {}\n",
    "\n",
    "                mkg_non_trapi_dict[smartapi._id]['response_mapping'] = {\n",
    "                    'keys_found': keys, \n",
    "                    'key_ct': len(keys), \n",
    "                    'data': edge['api']['bte']['response_mapping']\n",
    "                }\n"
   ]
  },
  {
   "cell_type": "code",
   "execution_count": 8,
   "metadata": {},
   "outputs": [
    {
     "name": "stdout",
     "output_type": "stream",
     "text": [
      " CHEMBL.COMPOUND: 18\n",
      " ComplexPortal: 5\n",
      " ICD11: 10\n",
      " KEGG.PATHWAY: 1\n",
      " KEGG_COMPOUND: 11\n",
      " NCBIGene: 462\n",
      " PHARMGKB.DISEASE: 6\n",
      " PHARMGKB.DRUG: 11\n",
      " PHARMGKB.GENE: 7\n",
      " PHARMGKB.PATHWAYS: 4\n",
      " PUBCHEM.COMPOUND: 14\n",
      " PUBCHEM_COMPOUND: 11\n",
      " TTD.DRUG: 10\n",
      " TTD.TARGET: 4\n",
      " UniProtKB: 37\n",
      " biolink:OMOP: 24\n",
      " biolink:chi_squared_statistic: 8\n",
      " biolink:evidence_count: 2\n",
      " biolink:frequency_qualifier: 2\n",
      " biolink:has_count: 26\n",
      " biolink:has_quotient: 10\n",
      " biolink:has_total: 10\n",
      " biolink:max_research_phase: 2\n",
      " biolink:name: 24\n",
      " biolink:p_value: 8\n",
      " biolink:supporting_text: 5029\n",
      " edge-attributes: 292\n",
      " evidence: 3\n",
      " foodb.food: 1\n",
      " inTaxon: 1\n",
      " input_name: 5434\n",
      " name: 7\n",
      " ncats.bioplanet: 2\n",
      " orphanet: 2\n",
      " output_name: 5459\n",
      " pubmed: 3\n",
      " qualifiers: 3\n",
      " ref_clinicaltrials: 8\n",
      " ref_doi: 4\n",
      " ref_isbn: 2\n",
      " ref_pmcid: 8\n",
      " ref_pmid: 5125\n",
      " ref_url: 23\n",
      " source_url: 9\n",
      " trapi_sources: 306\n",
      "Total number of documents processed: 271\n"
     ]
    }
   ],
   "source": [
    "# Print or store the response mapping key frequencies alphabetically\n",
    "for key in sorted(response_mapping_frequency_dict.keys()):\n",
    "    count = response_mapping_frequency_dict[key]\n",
    "    print(f\" {key}: {count}\")\n",
    "\n",
    "# Print the total number of documents processed\n",
    "print(f\"Total number of documents processed: {doc_count}\")\n"
   ]
  },
  {
   "cell_type": "code",
   "execution_count": 9,
   "metadata": {},
   "outputs": [
    {
     "name": "stdout",
     "output_type": "stream",
     "text": [
      " edge-attributes: 292\n",
      " input_name: 5434\n",
      " output_name: 5459\n",
      " source_url: 9\n",
      " trapi_sources: 306\n",
      "Total number of documents processed: 271\n"
     ]
    }
   ],
   "source": [
    "# List of valid response mapping keys\n",
    "response_map_keys = [\n",
    "    \"source_url\",\n",
    "    \"edge-attributes\",\n",
    "    \"trapi_sources\",\n",
    "    \"ref_input\",\n",
    "    \"ref_output\",\n",
    "    \"input_name\",\n",
    "    \"output_name\"\n",
    "]\n",
    "\n",
    "# Print or store the response mapping key frequencies alphabetically, but only if the key is in response_map_keys\n",
    "for key in sorted(response_mapping_frequency_dict.keys()):\n",
    "    if key in response_map_keys:  # Only print if key is in the valid response_map_keys list\n",
    "        count = response_mapping_frequency_dict[key]\n",
    "        print(f\" {key}: {count}\")\n",
    "\n",
    "# Print the total number of documents processed\n",
    "print(f\"Total number of documents processed: {doc_count}\")\n"
   ]
  },
  {
   "cell_type": "code",
   "execution_count": 10,
   "metadata": {},
   "outputs": [
    {
     "name": "stdout",
     "output_type": "stream",
     "text": [
      " edge-attributes: 292\n",
      " input_name: 5434\n",
      " output_name: 5459\n",
      " source_url: 9\n",
      " trapi_sources: 306\n",
      "Total number of documents processed: 271\n"
     ]
    }
   ],
   "source": [
    "# List of valid response mapping keys\n",
    "response_map_keys = [\n",
    "    \"source_url\",\n",
    "    \"edge-attributes\",\n",
    "    \"trapi_sources\",\n",
    "    \"ref_input\",\n",
    "    \"ref_output\",\n",
    "    \"input_name\",\n",
    "    \"output_name\"\n",
    "]\n",
    "\n",
    "# Print or store the response mapping key frequencies alphabetically, but only if the key is in response_map_keys\n",
    "for key in sorted(response_mapping_frequency_dict.keys()):\n",
    "    if key in response_map_keys:  # Only print if key is in the valid response_map_keys list\n",
    "        count = response_mapping_frequency_dict[key]\n",
    "        print(f\" {key}: {count}\")\n",
    "\n",
    "# Print the total number of documents processed\n",
    "print(f\"Total number of documents processed: {doc_count}\")\n"
   ]
  },
  {
   "cell_type": "code",
   "execution_count": null,
   "metadata": {},
   "outputs": [],
   "source": [
    "for smartapi in SmartAPI.get_all(1000):\n",
    "    doc_id = smartapi._id    \n",
    "    raw_data = smartapi.raw.decode('utf-8')\n",
    "    source_data = yaml.safe_load(raw_data)\n",
    "    # Get non-TRAPI metakg data\n",
    "    metakg = mkg_parser.get_non_TRAPI_metadatas(data=source_data)\n",
    "\n",
    "    if metakg:\n",
    "        if \"x-bte-response-mapping\" not in source_data['components']:\n",
    "            print(source_data['components'].keys())\n",
    "            print(doc_id)\n",
    "        mkg_non_trapi_dict[smartapi._id]['response_mapping_raw'] = source_data['components']['x-bte-response-mapping']\n"
   ]
  },
  {
   "cell_type": "markdown",
   "metadata": {},
   "source": [
    "---"
   ]
  },
  {
   "cell_type": "markdown",
   "metadata": {},
   "source": [
    "View the edge"
   ]
  },
  {
   "cell_type": "code",
   "execution_count": 13,
   "metadata": {},
   "outputs": [],
   "source": [
    "good_key=\"edeb26858bd27d0322af93e7a9e08761\""
   ]
  },
  {
   "cell_type": "code",
   "execution_count": 15,
   "metadata": {},
   "outputs": [
    {
     "name": "stdout",
     "output_type": "stream",
     "text": [
      "{'response_mapping': {'data': {'occurs_together_in_literature_with': {'MESH': 'associatedWith.mentions.diseases.mesh',\n",
      "                                                                      'ref_pmcid': 'associatedWith.pmc',\n",
      "                                                                      'ref_url': 'associatedWith.figureUrl',\n",
      "                                                                      'source_url': 'associatedWith.pfocrUrl'}},\n",
      "                      'key_ct': 3,\n",
      "                      'keys_found': ['ref_url', 'ref_pmcid', 'source_url']}}\n"
     ]
    }
   ],
   "source": [
    "pprint.pprint(mkg_non_trapi_dict[good_key])"
   ]
  },
  {
   "cell_type": "markdown",
   "metadata": {},
   "source": [
    "---"
   ]
  },
  {
   "cell_type": "code",
   "execution_count": null,
   "metadata": {},
   "outputs": [],
   "source": []
  }
 ],
 "metadata": {
  "kernelspec": {
   "display_name": "Python 3",
   "language": "python",
   "name": "python3"
  },
  "language_info": {
   "codemirror_mode": {
    "name": "ipython",
    "version": 3
   },
   "file_extension": ".py",
   "mimetype": "text/x-python",
   "name": "python",
   "nbconvert_exporter": "python",
   "pygments_lexer": "ipython3",
   "version": "3.10.0"
  }
 },
 "nbformat": 4,
 "nbformat_minor": 2
}
