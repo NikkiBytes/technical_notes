{
 "cells": [
  {
   "cell_type": "code",
   "execution_count": null,
   "metadata": {},
   "outputs": [],
   "source": [
    "# Querying Paths Using MetaKGPathFinder\n",
    "\n",
    "# Import necessary modules\n",
    "from metakg_pathfinder import MetaKGPathFinder\n",
    "\n",
    "# Initialize the MetaKGPathFinder with a sample MetaKG file\n",
    "# Replace \"path/to/metakg.json\" with the actual path to your MetaKG index file\n",
    "pathfinder = MetaKGPathFinder(\"path/to/metakg.json\")\n",
    "\n",
    "# Example input: Define source and target entities\n",
    "source = \"GeneA\"\n",
    "target = \"DiseaseB\"\n",
    "\n",
    "# Perform the query to find paths between the source and target\n",
    "paths = pathfinder.find_paths(source, target)\n",
    "\n",
    "# Display the results\n",
    "if paths:\n",
    "    print(f\"Found {len(paths)} path(s) from {source} to {target}:\")\n",
    "    for i, path in enumerate(paths, start=1):\n",
    "        print(f\"Path {i}: {' -> '.join(path)}\")\n",
    "else:\n",
    "    print(f\"No paths found from {source} to {target}.\")\n"
   ]
  }
 ],
 "metadata": {
  "language_info": {
   "name": "python"
  }
 },
 "nbformat": 4,
 "nbformat_minor": 2
}
