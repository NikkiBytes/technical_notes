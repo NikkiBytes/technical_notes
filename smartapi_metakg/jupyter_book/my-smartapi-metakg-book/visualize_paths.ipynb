{
 "cells": [
  {
   "cell_type": "code",
   "execution_count": null,
   "metadata": {},
   "outputs": [],
   "source": [
    "# Visualizing Paths in the Knowledge Graph\n",
    "\n",
    "# Import necessary modules\n",
    "import networkx as nx\n",
    "import matplotlib.pyplot as plt\n",
    "\n",
    "# Example paths from a query (replace with real query results)\n",
    "paths = [\n",
    "    [\"GeneA\", \"ProteinB\", \"DiseaseB\"],\n",
    "    [\"GeneA\", \"PathwayC\", \"DiseaseB\"]\n",
    "]\n",
    "\n",
    "# Create a directed graph\n",
    "G = nx.DiGraph()\n",
    "\n",
    "# Add nodes and edges from the paths\n",
    "for path in paths:\n",
    "    for i in range(len(path) - 1):\n",
    "        G.add_edge(path[i], path[i + 1])\n",
    "\n",
    "# Draw the graph\n",
    "plt.figure(figsize=(10, 6))\n",
    "pos = nx.spring_layout(G)  # Position nodes using a spring layout\n",
    "nx.draw(\n",
    "    G,\n",
    "    pos,\n",
    "    with_labels=True,\n",
    "    node_color=\"lightblue\",\n",
    "    node_size=3000,\n",
    "    font_size=10,\n",
    "    edge_color=\"gray\",\n",
    ")\n",
    "plt.title(\"Visualizing Paths in the MetaKG\")\n",
    "plt.show()\n"
   ]
  }
 ],
 "metadata": {
  "language_info": {
   "name": "python"
  }
 },
 "nbformat": 4,
 "nbformat_minor": 2
}
