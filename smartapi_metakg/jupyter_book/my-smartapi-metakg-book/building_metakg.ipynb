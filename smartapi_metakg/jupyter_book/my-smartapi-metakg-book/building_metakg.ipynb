{
 "cells": [
  {
   "cell_type": "markdown",
   "metadata": {},
   "source": [
    "# Building the MetaKG Index\n",
    "\n",
    "This notebook provides an overview of how the SmartAPI MetaKG Index is built and demonstrates key steps in the process. You’ll learn about:\n",
    "- Query handling for the MetaKG.\n",
    "- API metadata parsing using the MetaKGParserHandler.\n",
    "- Integration with the SmartAPI registry.\n"
   ]
  },
  {
   "cell_type": "code",
   "execution_count": null,
   "metadata": {},
   "outputs": [],
   "source": [
    "# Example: Parsing API Metadata\n",
    "\n",
    "from metakg_parser import MetaKGParserHandler\n",
    "\n",
    "# Initialize the MetaKGParserHandler\n",
    "parser = MetaKGParserHandler()\n",
    "\n",
    "# Example metadata (replace with actual metadata)\n",
    "api_metadata = {\n",
    "    \"name\": \"My Biomedical API\",\n",
    "    \"x-translator\": {\n",
    "        \"biolink_version\": \"2.1\",\n",
    "        \"mappings\": [\n",
    "            {\"subject\": \"gene\", \"predicate\": \"related_to\", \"object\": \"disease\"}\n",
    "        ]\n",
    "    }\n",
    "}\n",
    "\n",
    "# Parse the metadata\n",
    "parsed_metadata = parser.parse_metadata(api_metadata)\n",
    "print(parsed_metadata)\n"
   ]
  },
  {
   "cell_type": "code",
   "execution_count": null,
   "metadata": {},
   "outputs": [],
   "source": [
    "# Query Handling with MetaKGPathFinder\n",
    "\n",
    "from metakg_pathfinder import MetaKGPathFinder\n",
    "\n",
    "# Load the MetaKG Index\n",
    "pathfinder = MetaKGPathFinder(\"path/to/metakg.json\")\n",
    "\n",
    "# Find paths between entities\n",
    "source = \"GeneA\"\n",
    "target = \"DiseaseB\"\n",
    "paths = pathfinder.find_paths(source, target)\n",
    "\n",
    "print(f\"Paths from {source} to {target}:\")\n",
    "for path in paths:\n",
    "    print(path)\n"
   ]
  }
 ],
 "metadata": {
  "language_info": {
   "name": "python"
  }
 },
 "nbformat": 4,
 "nbformat_minor": 2
}
