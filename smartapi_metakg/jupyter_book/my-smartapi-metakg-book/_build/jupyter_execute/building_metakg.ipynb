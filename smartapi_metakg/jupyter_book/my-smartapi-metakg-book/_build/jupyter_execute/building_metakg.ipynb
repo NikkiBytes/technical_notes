{
 "cells": [
  {
   "cell_type": "markdown",
   "metadata": {},
   "source": [
    "# Building the MetaKG Index\n",
    "\n",
    "This notebook provides an overview of how the SmartAPI MetaKG Index is built and demonstrates key steps in the process. You’ll learn about:\n",
    "- Query handling for the MetaKG.\n",
    "- API metadata parsing using the MetaKGParserHandler.\n",
    "- Integration with the SmartAPI registry.\n"
   ]
  },
  {
   "cell_type": "code",
   "execution_count": 1,
   "metadata": {},
   "outputs": [
    {
     "ename": "ModuleNotFoundError",
     "evalue": "No module named 'metakg_parser'",
     "output_type": "error",
     "traceback": [
      "\u001b[0;31m---------------------------------------------------------------------------\u001b[0m",
      "\u001b[0;31mModuleNotFoundError\u001b[0m                       Traceback (most recent call last)",
      "Cell \u001b[0;32mIn[1], line 3\u001b[0m\n\u001b[1;32m      1\u001b[0m \u001b[38;5;66;03m# Example: Parsing API Metadata\u001b[39;00m\n\u001b[0;32m----> 3\u001b[0m \u001b[38;5;28;01mfrom\u001b[39;00m \u001b[38;5;21;01mmetakg_parser\u001b[39;00m \u001b[38;5;28;01mimport\u001b[39;00m MetaKGParserHandler\n\u001b[1;32m      5\u001b[0m \u001b[38;5;66;03m# Initialize the MetaKGParserHandler\u001b[39;00m\n\u001b[1;32m      6\u001b[0m parser \u001b[38;5;241m=\u001b[39m MetaKGParserHandler()\n",
      "\u001b[0;31mModuleNotFoundError\u001b[0m: No module named 'metakg_parser'"
     ]
    }
   ],
   "source": [
    "# Example: Parsing API Metadata\n",
    "\n",
    "from metakg_parser import MetaKGParserHandler\n",
    "\n",
    "# Initialize the MetaKGParserHandler\n",
    "parser = MetaKGParserHandler()\n",
    "\n",
    "# Example metadata (replace with actual metadata)\n",
    "api_metadata = {\n",
    "    \"name\": \"My Biomedical API\",\n",
    "    \"x-translator\": {\n",
    "        \"biolink_version\": \"2.1\",\n",
    "        \"mappings\": [\n",
    "            {\"subject\": \"gene\", \"predicate\": \"related_to\", \"object\": \"disease\"}\n",
    "        ]\n",
    "    }\n",
    "}\n",
    "\n",
    "# Parse the metadata\n",
    "parsed_metadata = parser.parse_metadata(api_metadata)\n",
    "print(parsed_metadata)\n"
   ]
  },
  {
   "cell_type": "code",
   "execution_count": null,
   "metadata": {},
   "outputs": [],
   "source": [
    "# Query Handling with MetaKGPathFinder\n",
    "\n",
    "from metakg_pathfinder import MetaKGPathFinder\n",
    "\n",
    "# Load the MetaKG Index\n",
    "pathfinder = MetaKGPathFinder(\"path/to/metakg.json\")\n",
    "\n",
    "# Find paths between entities\n",
    "source = \"GeneA\"\n",
    "target = \"DiseaseB\"\n",
    "paths = pathfinder.find_paths(source, target)\n",
    "\n",
    "print(f\"Paths from {source} to {target}:\")\n",
    "for path in paths:\n",
    "    print(path)\n"
   ]
  }
 ],
 "metadata": {
  "language_info": {
   "codemirror_mode": {
    "name": "ipython",
    "version": 3
   },
   "file_extension": ".py",
   "mimetype": "text/x-python",
   "name": "python",
   "nbconvert_exporter": "python",
   "pygments_lexer": "ipython3",
   "version": "3.10.0"
  }
 },
 "nbformat": 4,
 "nbformat_minor": 2
}