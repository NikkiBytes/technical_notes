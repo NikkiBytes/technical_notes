{
 "cells": [
  {
   "cell_type": "markdown",
   "metadata": {},
   "source": [
    "# Translator Project \n",
    "[https://biothings.ncats.io/](https://biothings.ncats.io/) \n",
    "\n",
    "What is it?   \n",
    "What are key terms?   \n",
    "What is the architecture behind it?   \n"
   ]
  },
  {
   "cell_type": "markdown",
   "metadata": {},
   "source": []
  }
 ],
 "metadata": {
  "language_info": {
   "name": "python"
  }
 },
 "nbformat": 4,
 "nbformat_minor": 2
}
